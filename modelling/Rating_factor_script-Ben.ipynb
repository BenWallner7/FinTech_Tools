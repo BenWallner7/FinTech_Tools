{
 "cells": [
  {
   "cell_type": "code",
   "execution_count": null,
   "id": "24b2b82c-68a6-42d2-86f8-ddb52907dcfa",
   "metadata": {},
   "outputs": [],
   "source": [
    "import pandas as pd\n",
    "#from pandas.core.common import SettingWithCopyWarning\n",
    "import warnings\n",
    "from pandas.errors import SettingWithCopyWarning\n",
    "import math\n",
    "import statistics\n",
    "import warnings\n",
    "from difflib import SequenceMatcher\n",
    "\n",
    "warnings.simplefilter(action=\"ignore\", category=SettingWithCopyWarning)"
   ]
  },
  {
   "cell_type": "markdown",
   "id": "ae2dc088-6b19-4656-b8a8-d1a3e6c8c160",
   "metadata": {
    "tags": []
   },
   "source": [
    "## Loading data files"
   ]
  },
  {
   "cell_type": "markdown",
   "id": "55cbe619-dc6f-43ef-9b36-17372ebcd7ec",
   "metadata": {
    "tags": []
   },
   "source": [
    "### Licensed vehicles"
   ]
  },
  {
   "cell_type": "code",
   "execution_count": null,
   "id": "f3abf2b9-bba3-4158-8ed0-808a4ae125d4",
   "metadata": {},
   "outputs": [],
   "source": [
    "# Licensing data\n",
    "licensed_vehicle_df = pd.concat([pd.read_csv(am__licensed_path),\n",
    "                               pd.read_csv(nz__licensed_path)])"
   ]
  },
  {
   "cell_type": "code",
   "execution_count": null,
   "id": "c14c87c7",
   "metadata": {},
   "outputs": [],
   "source": [
    "print(len(licensed_vehicle_df))"
   ]
  },
  {
   "cell_type": "code",
   "execution_count": null,
   "id": "f31d2344",
   "metadata": {},
   "outputs": [],
   "source": [
    "licensed_vehicle_df.head()"
   ]
  },
  {
   "cell_type": "markdown",
   "id": "6ac0d559",
   "metadata": {},
   "source": [
    "## Producing a dictionary with all of the makes, models and years."
   ]
  },
  {
   "cell_type": "code",
   "execution_count": null,
   "id": "deae7551-fb27-4eb2-bff9-450760f0457e",
   "metadata": {},
   "outputs": [],
   "source": [
    "make_model_year = {}\n",
    "for i, row in licensed_vehicle_df.iterrows():\n",
    "    if i % 20000 == 0:\n",
    "        print(i)\n",
    "    make = row[\"Make\"]\n",
    "    model = row[\"GenModel\"]\n",
    "    year = row[\"YearManufacture\"]\n",
    "    if make not in make_model_year.keys():\n",
    "        make_model_year[make] = {}\n",
    "    if model not in make_model_year[make]:\n",
    "        make_model_year[make][model] = []\n",
    "    if year not in make_model_year[make][model]:\n",
    "        make_model_year[make][model].append(year)"
   ]
  },
  {
   "cell_type": "code",
   "execution_count": null,
   "id": "097ef9e9",
   "metadata": {},
   "outputs": [],
   "source": [
    "make_model_year"
   ]
  },
  {
   "cell_type": "markdown",
   "id": "67478703",
   "metadata": {},
   "source": [
    "## Getting counts of all Makes in each year separately"
   ]
  },
  {
   "cell_type": "code",
   "execution_count": null,
   "id": "b089dbf9-7421-40b0-9965-e9a38edb95ff",
   "metadata": {},
   "outputs": [],
   "source": [
    "# Full make count\n",
    "full_make_count = {2022: {}, 2021: {}, 2020: {}, 2019: {}, 2018: {}}\n",
    "for i, row in licensed_vehicle_df.iterrows():\n",
    "    if i % 20000 == 0:\n",
    "        print(i)\n",
    "    make = row[\"Make\"]\n",
    "    for k in full_make_count:\n",
    "        if make not in full_make_count[k].keys():\n",
    "            full_make_count[k][make] = 0\n",
    "        if row[str(k)] != \"[z]\":\n",
    "            full_make_count[k][make] += int(row[str(k)])"
   ]
  },
  {
   "cell_type": "code",
   "execution_count": null,
   "id": "af89b8eb",
   "metadata": {},
   "outputs": [],
   "source": [
    "full_make_count"
   ]
  },
  {
   "cell_type": "markdown",
   "id": "6c52dedc",
   "metadata": {},
   "source": [
    "## Getting counts of all Models in each year separately"
   ]
  },
  {
   "cell_type": "code",
   "execution_count": null,
   "id": "c32736f4-bc69-43be-ad9b-11d7d73efbbb",
   "metadata": {},
   "outputs": [],
   "source": [
    "# Full model count\n",
    "full_model_count = {2022: {}, 2021: {}, 2020: {}, 2019: {}, 2018: {}}\n",
    "for i, row in licensed_vehicle_df.iterrows():\n",
    "    if i % 20000 == 0:\n",
    "        print(i)\n",
    "    model = row[\"GenModel\"]\n",
    "    for k in full_model_count:\n",
    "        if model not in full_model_count[k].keys():\n",
    "            full_model_count[k][model] = 0\n",
    "        if row[str(k)] != \"[z]\":\n",
    "            full_model_count[k][model] += int(row[str(k)])"
   ]
  },
  {
   "cell_type": "code",
   "execution_count": null,
   "id": "84c80a48",
   "metadata": {},
   "outputs": [],
   "source": [
    "full_model_count"
   ]
  },
  {
   "cell_type": "code",
   "execution_count": null,
   "id": "1cc08bba",
   "metadata": {},
   "outputs": [],
   "source": [
    "licensed_vehicle_df"
   ]
  },
  {
   "cell_type": "markdown",
   "id": "900462f7",
   "metadata": {},
   "source": [
    "## Count of each Make that are licensed on the road each year."
   ]
  },
  {
   "cell_type": "code",
   "execution_count": null,
   "id": "afb4da35-3eef-4ef5-9aee-21e5209c0516",
   "metadata": {},
   "outputs": [],
   "source": [
    "# Licensed make count\n",
    "licensed_vehicle_df[licensed_vehicle_df[\"LicenceStatus\"]==\"Licensed\"]\n",
    "make_count = {2022: {}, 2021: {}, 2020: {}, 2019: {}, 2018: {}}\n",
    "for i, row in licensed_vehicle_df.iterrows():\n",
    "    if i % 20000 == 0:\n",
    "        print(i)\n",
    "    make = row[\"Make\"]\n",
    "    for k in make_count:\n",
    "        if make not in make_count[k].keys():\n",
    "            make_count[k][make] = 0\n",
    "        if row[str(k)] != \"[z]\":\n",
    "            make_count[k][make] += int(row[str(k)])"
   ]
  },
  {
   "cell_type": "markdown",
   "id": "0165a65f",
   "metadata": {},
   "source": [
    "## Count of each Model that are licensed on the road each year."
   ]
  },
  {
   "cell_type": "code",
   "execution_count": null,
   "id": "0254d8fb-74c9-4d5f-9398-ff4db356c603",
   "metadata": {},
   "outputs": [],
   "source": [
    "# Licensed model count\n",
    "model_count = {2022: {}, 2021: {}, 2020: {}, 2019: {}, 2018: {}}\n",
    "for i, row in licensed_vehicle_df.iterrows():\n",
    "    if i % 20000 == 0:\n",
    "        print(i)\n",
    "    model = row[\"GenModel\"]\n",
    "    for k in model_count:\n",
    "        if model not in model_count[k].keys():\n",
    "            model_count[k][model] = 0\n",
    "        if row[str(k)] != \"[z]\":\n",
    "            model_count[k][model] += int(row[str(k)])"
   ]
  },
  {
   "cell_type": "code",
   "execution_count": null,
   "id": "bd7ea373",
   "metadata": {},
   "outputs": [],
   "source": [
    "model_count"
   ]
  },
  {
   "cell_type": "markdown",
   "id": "7298eb36-a507-4c22-a347-541897b78146",
   "metadata": {
    "tags": []
   },
   "source": [
    "### Vehicle incident data\n",
    "\n",
    "    - Splitting data into two years 2020 and 2021"
   ]
  },
  {
   "cell_type": "code",
   "execution_count": null,
   "id": "790255b2-0714-4688-85ee-d016c37c153b",
   "metadata": {},
   "outputs": [],
   "source": [
    "# Accident-Vehicle data\n",
    "vehicle_accident_df = pd.read_csv(accident_vehicles_path)\n",
    "vehicle_accident_original_df = vehicle_accident_df\n",
    "print(len(vehicle_accident_df))\n",
    "vehicle_accident_df = {2020: vehicle_accident_df[vehicle_accident_df[\"accident_year\"]==2020], 2021:vehicle_accident_df[vehicle_accident_df[\"accident_year\"]==2021]}\n",
    "print(len(vehicle_accident_df[2020])+len(vehicle_accident_df[2021]))"
   ]
  },
  {
   "cell_type": "code",
   "execution_count": null,
   "id": "a65606be",
   "metadata": {},
   "outputs": [],
   "source": [
    "vehicle_accident_df"
   ]
  },
  {
   "cell_type": "code",
   "execution_count": null,
   "id": "f41e4cb6",
   "metadata": {},
   "outputs": [],
   "source": [
    "vehicle_accident_original_df.head()"
   ]
  },
  {
   "cell_type": "markdown",
   "id": "52e56fa0",
   "metadata": {},
   "source": [
    "## Joining the accident reference with the vehicle make model description"
   ]
  },
  {
   "cell_type": "code",
   "execution_count": null,
   "id": "eaa22a3b-6da9-4a51-a242-4c14c8539676",
   "metadata": {},
   "outputs": [],
   "source": [
    "vehicle_accident_refs = {2020: {}, 2021: {}}\n",
    "years = [2020, 2021]\n",
    "for y in years:\n",
    "    for i, row in vehicle_accident_df[y].iterrows():\n",
    "        veh = row[\"generic_make_model\"]\n",
    "        if i % 20000 == 0:\n",
    "            print(i)\n",
    "        if veh not in vehicle_accident_refs[y].keys():\n",
    "            vehicle_accident_refs[y][veh] = []\n",
    "        vehicle_accident_refs[y][veh].append(row[\"accident_reference\"])\n",
    "print(len(vehicle_accident_refs[2020]))\n",
    "print(len(vehicle_accident_refs[2021]))"
   ]
  },
  {
   "cell_type": "code",
   "execution_count": null,
   "id": "a7d56883",
   "metadata": {},
   "outputs": [],
   "source": [
    "vehicle_accident_refs"
   ]
  },
  {
   "cell_type": "markdown",
   "id": "1480c43e",
   "metadata": {},
   "source": [
    "## Finding which vehicles from the licensed vehicles dataset appears in the vehicle incident data."
   ]
  },
  {
   "cell_type": "code",
   "execution_count": null,
   "id": "7e678a8d-a6e5-4571-ab2b-9fceb902cc10",
   "metadata": {},
   "outputs": [],
   "source": [
    "matches = list(set(licensed_vehicle_df[\"GenModel\"]).intersection(set(list(vehicle_accident_df[2020][\"generic_make_model\"])+list(vehicle_accident_df[2021][\"generic_make_model\"]))))\n",
    "print(len(matches))\n",
    "print(len(set(licensed_vehicle_df[\"Make\"])))\n",
    "len(set(licensed_vehicle_df[licensed_vehicle_df[\"GenModel\"].isin(matches)][\"Make\"]))"
   ]
  },
  {
   "cell_type": "code",
   "execution_count": null,
   "id": "8f1cb396",
   "metadata": {},
   "outputs": [],
   "source": [
    "matches"
   ]
  },
  {
   "cell_type": "markdown",
   "id": "6552798e-7f21-4c3b-a574-4090681f0677",
   "metadata": {
    "tags": []
   },
   "source": [
    "#### Accident data"
   ]
  },
  {
   "cell_type": "code",
   "execution_count": null,
   "id": "f5b7cdf0-5761-4c5f-9948-4a3dc0da67aa",
   "metadata": {},
   "outputs": [],
   "source": [
    "# Accident data\n",
    "accident_df = pd.read_csv(accident_file_path)\n",
    "accident_factors = [\"accident_severity\", \"number_of_vehicles\", \"number_of_casualties\", \"speed_limit\", \"road_type\", \"speed_limit\",\n",
    "                    \"light_conditions\", \"weather_conditions\", \"road_surface_conditions\", \"special_conditions_at_site\", \"carriageway_hazards\"]\n",
    "speed_orders = list(accident_df[\"speed_limit\"].value_counts().keys())"
   ]
  },
  {
   "cell_type": "markdown",
   "id": "18de22a4",
   "metadata": {},
   "source": [
    "### accident_data.csv **vs** accident_vehicles.csv"
   ]
  },
  {
   "cell_type": "code",
   "execution_count": null,
   "id": "f991cf19",
   "metadata": {},
   "outputs": [],
   "source": [
    "accident_df.head()"
   ]
  },
  {
   "cell_type": "code",
   "execution_count": null,
   "id": "9c584d42",
   "metadata": {},
   "outputs": [],
   "source": [
    "len(accident_df)"
   ]
  },
  {
   "cell_type": "code",
   "execution_count": null,
   "id": "99835025",
   "metadata": {},
   "outputs": [],
   "source": [
    "vehicle_accident_original_df.head()"
   ]
  },
  {
   "cell_type": "code",
   "execution_count": null,
   "id": "c4c6caaf",
   "metadata": {},
   "outputs": [],
   "source": [
    "len(vehicle_accident_original_df)"
   ]
  },
  {
   "cell_type": "markdown",
   "id": "059245f1",
   "metadata": {},
   "source": [
    "## Calculating an accident value for each accident reference\n",
    "\n",
    "    - Main calculation occurs here: where the columns 'accident_severity', 'number_of_vehicles', 'number_of_casualties', 'road_surface_conditions', 'weather_conditions', 'light_conditions' and 'speed_limit' are all combined to produce an overall rating for each of the accidents in the data (192,274)."
   ]
  },
  {
   "cell_type": "code",
   "execution_count": null,
   "id": "19d4ee12-93e4-4132-8c7f-1870b0ab36f8",
   "metadata": {},
   "outputs": [],
   "source": [
    "accident_values = {}\n",
    "for i, row in accident_df.iterrows():\n",
    "    if i % 10000 == 0:\n",
    "        print(i)\n",
    "    ref = row[\"accident_reference\"]\n",
    "    value = 33 if row[\"accident_severity\"] == 3 else 16 if row[\"accident_severity\"] == 2 else 0\n",
    "    # alter values to add to 17\n",
    "    value += ((5-row[\"number_of_vehicles\"])*2)/2 if row[\"number_of_vehicles\"] <= 4 else 0\n",
    "    if row[\"number_of_vehicles\"] <= 4:\n",
    "        value += (row[\"number_of_casualties\"])/2 if row[\"number_of_casualties\"] <= 10 else 10/2\n",
    "    value += 4/2 if row[\"road_surface_conditions\"] == 1 else 3/2 if row[\"road_surface_conditions\"] == 2 or row[\"road_surface_conditions\"] == 7 else 2/2 if row[\"road_surface_conditions\"] == 3 else 1/2 if row[\"road_surface_conditions\"] < 6 else 0 \n",
    "    value += 3/2 if row[\"weather_conditions\"] == 1 else 2/2 if row[\"weather_conditions\"] < 4 else 1/2 if row[\"weather_conditions\"] < 6 else 0\n",
    "    value += 3/2 if row[\"light_conditions\"] == 1 else 2/2 if row[\"light_conditions\"] == 4 else 1/2 if row[\"light_conditions\"] == 5 else 0\n",
    "    value += int((speed_orders.index(row[\"speed_limit\"]))/2)/2 if row[\"speed_limit\"] > 0 else 0\n",
    "    accident_values[ref] =  value"
   ]
  },
  {
   "cell_type": "code",
   "execution_count": null,
   "id": "08fc664b",
   "metadata": {},
   "outputs": [],
   "source": [
    "accident_values"
   ]
  },
  {
   "cell_type": "code",
   "execution_count": null,
   "id": "58d1913a",
   "metadata": {},
   "outputs": [],
   "source": [
    "len(accident_values)"
   ]
  },
  {
   "cell_type": "code",
   "execution_count": null,
   "id": "165c44d7",
   "metadata": {},
   "outputs": [],
   "source": [
    "vehicle_accident_refs"
   ]
  },
  {
   "cell_type": "markdown",
   "id": "ca5e6f9b",
   "metadata": {},
   "source": [
    "- Calculating the commonality of each make and model in the accident data"
   ]
  },
  {
   "cell_type": "code",
   "execution_count": null,
   "id": "826a6317-d023-4c71-aa07-c150bc74eb15",
   "metadata": {},
   "outputs": [],
   "source": [
    "vehicle_accident_value_list = {2020: {}, 2021: {}}\n",
    "commonality = {2020: {}, 2021: {}}\n",
    "for y in years:\n",
    "    for k1 in vehicle_accident_refs[y]:\n",
    "        values = []\n",
    "        for k2 in vehicle_accident_refs[y][k1]:\n",
    "            if str(k2) in accident_values:\n",
    "                values.append(accident_values[str(k2)])\n",
    "        if len(values) > 0 and k1 in model_count[y].keys() and model_count[y][k1] > 0:\n",
    "            commonality[y][k1] = (len(values)/model_count[y][k1])\n",
    "            vehicle_accident_value_list[y][k1] = values"
   ]
  },
  {
   "cell_type": "code",
   "execution_count": null,
   "id": "85227a6a-8a81-480e-a8a1-1a4eba3f116f",
   "metadata": {},
   "outputs": [],
   "source": [
    "# 50 total for rarity factor\n",
    "mx = [sum([x for x in commonality[2020].values() if x < 1])/len([x for x in commonality[2020].values() if x < 1]),\n",
    "      sum([x for x in commonality[2021].values() if x < 1])/len([x for x in commonality[2021].values() if x < 1])] \n",
    "for i in range(len(years)):\n",
    "    for k in commonality[years[i]].keys():\n",
    "        commonality[years[i]][k] = (commonality[years[i]][k]/mx[i])*50\n",
    "        commonality[years[i]][k] = commonality[years[i]][k] if commonality[years[i]][k] < 50 else 50"
   ]
  },
  {
   "cell_type": "code",
   "execution_count": null,
   "id": "8f0bdc4f-2322-4970-8d05-08361b6028d9",
   "metadata": {},
   "outputs": [],
   "source": [
    "vehicle_accident_values = {}\n",
    "for y in years:\n",
    "    for k in vehicle_accident_value_list[y]:\n",
    "        if k not in vehicle_accident_values.keys():\n",
    "            vehicle_accident_values[k] = []\n",
    "        for val in vehicle_accident_value_list[y][k]:\n",
    "            vehicle_accident_values[k].append(int(val+commonality[y][k]))\n",
    "for k in vehicle_accident_values:\n",
    "    length = (int(len(vehicle_accident_values[k])/5)*3)\n",
    "    sort = sorted(vehicle_accident_values[k])[0:length if length > 0 else 1]\n",
    "    vehicle_accident_values[k] = int(sum(sort)/len(sort))"
   ]
  },
  {
   "cell_type": "code",
   "execution_count": null,
   "id": "80bbe7da-a089-478d-9865-814586f1625e",
   "metadata": {},
   "outputs": [],
   "source": [
    "accident_values_df = pd.DataFrame(columns=[\"GenModel\",\"Accident_rating\"])\n",
    "accident_values_df = accident_values_df.assign(GenModel=vehicle_accident_values.keys(), Accident_rating=vehicle_accident_values.values())"
   ]
  },
  {
   "cell_type": "code",
   "execution_count": null,
   "id": "16204022",
   "metadata": {},
   "outputs": [],
   "source": [
    "accident_values_df"
   ]
  },
  {
   "cell_type": "markdown",
   "id": "fb767c6c-b7b5-42c9-b705-fcbfd497fa84",
   "metadata": {
    "tags": []
   },
   "source": [
    "#### Casualty data"
   ]
  },
  {
   "cell_type": "code",
   "execution_count": null,
   "id": "09e67571-6470-44c7-bac8-95d47fa03e42",
   "metadata": {},
   "outputs": [],
   "source": [
    "# Casualty data\n",
    "casualty_df = pd.read_csv(casualty_data_path)\n",
    "unique_casualties = set(casualty_df[\"accident_reference\"])"
   ]
  },
  {
   "cell_type": "code",
   "execution_count": null,
   "id": "2a550dd1-6640-444e-bb87-c0f8a603c4d3",
   "metadata": {},
   "outputs": [],
   "source": [
    "casualties = {}\n",
    "for i, row in casualty_df.iterrows():\n",
    "    if i % 20000 == 0:\n",
    "        print(i)\n",
    "    ref = row[\"accident_reference\"]\n",
    "    if ref not in casualties.keys():\n",
    "        casualties[ref] = []\n",
    "    casualties[ref].append(row)\n",
    "print(len(casualties))"
   ]
  },
  {
   "cell_type": "markdown",
   "id": "891651a8",
   "metadata": {},
   "source": [
    "- This is the main chunk in assigning a 'casualty value' for each accident in the injury data."
   ]
  },
  {
   "cell_type": "code",
   "execution_count": null,
   "id": "3b867b54-cd62-4242-b377-f3ef693b28e4",
   "metadata": {},
   "outputs": [],
   "source": [
    "casualty_values = {}\n",
    "for ref in casualties.keys():\n",
    "    if i % 10000 == 0:\n",
    "        print(i)\n",
    "    value = (len(casualties[ref])-1)*3 if len(casualties[ref]) <= 5 else 16\n",
    "    severities = []\n",
    "    for row in casualties[ref]:\n",
    "        severities.append(row[\"casualty_severity\"])\n",
    "    value += max(severities)*4\n",
    "    severities = sorted(severities)[-3:-1]\n",
    "    for v in severities:\n",
    "        value += v\n",
    "    classes = []\n",
    "    for row in casualties[ref]:\n",
    "        classes.append(row[\"casualty_class\"])\n",
    "    if 1 in classes:\n",
    "        value += 4\n",
    "    passenger_count = classes.count(2)\n",
    "    value += passenger_count*2 if passenger_count < 3 else 4\n",
    "    pedestrian_count = classes.count(3)\n",
    "    value += pedestrian_count*2 if pedestrian_count < 5 else 8\n",
    "    casualty_values[ref] =  [value, len(casualties[ref])]"
   ]
  },
  {
   "cell_type": "code",
   "execution_count": null,
   "id": "cc8c8481-da6e-4483-85a7-f47309a329ee",
   "metadata": {},
   "outputs": [],
   "source": [
    "vehicle_casualty_value_list = {2020: {}, 2021: {}}\n",
    "commonality = {2020: {}, 2021: {}}\n",
    "for y in years:\n",
    "    for k1 in vehicle_accident_refs[y]:\n",
    "        values = []\n",
    "        for k2 in vehicle_accident_refs[y][k1]:\n",
    "            if str(k2) in casualty_values:\n",
    "                values.append(casualty_values[str(k2)])\n",
    "        if len(values) > 0 and k1 in model_count[y].keys() and model_count[y][k1] > 0:\n",
    "            commonality[y][k1] = (len(values)/model_count[y][k1])\n",
    "            vehicle_casualty_value_list[y][k1] = values"
   ]
  },
  {
   "cell_type": "code",
   "execution_count": null,
   "id": "8b45bd7f-97fb-4e25-bf17-5187ef28c118",
   "metadata": {},
   "outputs": [],
   "source": [
    "# 30 total for rarity factor\n",
    "mx = [sum([x for x in commonality[2020].values() if x < 1])/len([x for x in commonality[2020].values() if x < 1]),\n",
    "      sum([x for x in commonality[2021].values() if x < 1])/len([x for x in commonality[2021].values() if x < 1])] \n",
    "for i in range(len(years)):\n",
    "    for k in commonality[years[i]].keys():\n",
    "        commonality[years[i]][k] = (commonality[years[i]][k]/mx[i])*30\n",
    "        commonality[years[i]][k] = int(commonality[years[i]][k]) if commonality[years[i]][k] < 30 else 30\n",
    "        involvement_count = []\n",
    "        if k in vehicle_casualty_value_list[years[i]]:\n",
    "            for v in vehicle_casualty_value_list[years[i]][k]:\n",
    "                involvement_count.append(v[1])\n",
    "        else:\n",
    "            involvement_count.append(0)\n",
    "        involvement_count = statistics.mean(involvement_count)*20\n",
    "        involvement_count = involvement_count if involvement_count < 20 else 20\n",
    "        commonality[years[i]][k] = commonality[years[i]][k]+involvement_count"
   ]
  },
  {
   "cell_type": "code",
   "execution_count": null,
   "id": "ab289819",
   "metadata": {},
   "outputs": [],
   "source": [
    "commonality"
   ]
  },
  {
   "cell_type": "code",
   "execution_count": null,
   "id": "a7928e86-c55f-40bc-b6df-f4ed3884f06d",
   "metadata": {},
   "outputs": [],
   "source": [
    "vehicle_casualty_values = {}\n",
    "for y in years:\n",
    "    for k in vehicle_casualty_value_list[y]:\n",
    "        if k not in vehicle_casualty_values.keys():\n",
    "            vehicle_casualty_values[k] = []\n",
    "        for val in vehicle_casualty_value_list[y][k]:\n",
    "            vehicle_casualty_values[k].append(int(val[0]+commonality[y][k]))\n",
    "for k in vehicle_casualty_values:\n",
    "    length = (int(len(vehicle_casualty_values[k])/5)*3)\n",
    "    sort = sorted(vehicle_casualty_values[k])[(-1*length if length > 0 else 0):]\n",
    "    vehicle_casualty_values[k] = int(sum(sort)/len(sort))"
   ]
  },
  {
   "cell_type": "code",
   "execution_count": null,
   "id": "8a8d301c-cf09-4da7-a2be-b056443ef392",
   "metadata": {},
   "outputs": [],
   "source": [
    "set(vehicle_casualty_values.values())"
   ]
  },
  {
   "cell_type": "code",
   "execution_count": null,
   "id": "2ab1575b-7c8e-412e-8784-1c838e904cec",
   "metadata": {},
   "outputs": [],
   "source": [
    "casualty_values_df = pd.DataFrame(columns=[\"GenModel\",\"Casualty_rating\"])\n",
    "casualty_values_df = casualty_values_df.assign(GenModel=vehicle_casualty_values.keys(), Casualty_rating=vehicle_casualty_values.values())"
   ]
  },
  {
   "cell_type": "markdown",
   "id": "368544a0-78d9-4b98-b869-8bbcece89b85",
   "metadata": {
    "tags": []
   },
   "source": [
    "#### Theft data\n",
    "\n",
    "    - Not given information about whether the vehicle is licensed."
   ]
  },
  {
   "cell_type": "code",
   "execution_count": null,
   "id": "0f17c0b6-c0d6-4e88-ba7b-f619dd180581",
   "metadata": {},
   "outputs": [],
   "source": [
    "# Theft data\n",
    "theft_original_df = pd.read_csv(theft_file_path)\n",
    "\n",
    "theft_df = theft_original_df.copy()"
   ]
  },
  {
   "cell_type": "code",
   "execution_count": null,
   "id": "6abdf637",
   "metadata": {},
   "outputs": [],
   "source": [
    "theft_df"
   ]
  },
  {
   "cell_type": "code",
   "execution_count": null,
   "id": "75379886",
   "metadata": {},
   "outputs": [],
   "source": [
    "theft_df = theft_df.fillna(0)\n",
    "theft_df"
   ]
  },
  {
   "cell_type": "markdown",
   "id": "6460b354",
   "metadata": {},
   "source": [
    "## Dealing with NaN's\n",
    "\n",
    "- A blank value represents 0/no thefts"
   ]
  },
  {
   "cell_type": "code",
   "execution_count": null,
   "id": "edff46f2",
   "metadata": {},
   "outputs": [],
   "source": [
    "theft_original_df"
   ]
  },
  {
   "cell_type": "code",
   "execution_count": null,
   "id": "b1d1b73a",
   "metadata": {},
   "outputs": [],
   "source": [
    "theft_original_df.loc[theft_original_df['Make/Model']=='ABARTH 595 TROFEO']"
   ]
  },
  {
   "cell_type": "code",
   "execution_count": null,
   "id": "6286d76f",
   "metadata": {},
   "outputs": [],
   "source": [
    "for index, row in theft_original_df.iterrows():\n",
    "    val_2022 = row['2022']\n",
    "    val_2021 = row['2021']\n",
    "    val_2020 = row['2020']\n",
    "    val_2019 = row['2019']\n",
    "    val_2018 = row['2018']\n",
    "    \n",
    "    make_model = row['Make/Model']\n",
    "    \n",
    "    if pd.isnull(val_2022)==False and pd.isnull(val_2021)==True and pd.isnull(val_2020)==False:\n",
    "        print(make_model)\n",
    "    "
   ]
  },
  {
   "cell_type": "markdown",
   "id": "e27d6f15",
   "metadata": {},
   "source": [
    "## Time trends"
   ]
  },
  {
   "cell_type": "code",
   "execution_count": null,
   "id": "07b2a4e5",
   "metadata": {},
   "outputs": [],
   "source": [
    "years = [2018, 2019, 2020, 2021, 2022]\n",
    "\n",
    "total_thefts = []\n",
    "\n",
    "for val in years:\n",
    "    total_thefts.append(theft_original_df[str(val)].sum())\n",
    "total_thefts\n",
    "\n",
    "    "
   ]
  },
  {
   "cell_type": "code",
   "execution_count": null,
   "id": "12391e8a",
   "metadata": {},
   "outputs": [],
   "source": [
    "import plotly.express as px\n",
    "import matplotlib.pyplot as plt"
   ]
  },
  {
   "cell_type": "code",
   "execution_count": null,
   "id": "dba0ed1e",
   "metadata": {},
   "outputs": [],
   "source": [
    "plt.plot(years, total_thefts)\n",
    "plt.xticks([2018, 2019, 2020, 2021, 2022]);"
   ]
  },
  {
   "cell_type": "code",
   "execution_count": null,
   "id": "daa82680",
   "metadata": {},
   "outputs": [],
   "source": [
    "for val in theft_years_summed_df['Licensed_Manfacturer'].unique():\n",
    "    for val2 in upper_manufacturers:\n",
    "        if val != val2 and fuzz.token_set_ratio(val, val2)>80:\n",
    "            print(val)\n",
    "            print(val2)\n",
    "            "
   ]
  },
  {
   "cell_type": "code",
   "execution_count": null,
   "id": "47c30978",
   "metadata": {},
   "outputs": [],
   "source": [
    "theft_years_summed_with_make_and_model_df"
   ]
  },
  {
   "cell_type": "code",
   "execution_count": null,
   "id": "8d51975c",
   "metadata": {},
   "outputs": [],
   "source": [
    "upper_manufacturers = [val.upper() for val in current_vehicle_df['Manufacturer'].unique()]\n",
    "\n",
    "upper_manufacturers_consider = upper_manufacturers + ['ROLLS ROYCE', 'MG', 'MERCEDES', 'LAND ROVER', 'DOUGLAS']"
   ]
  },
  {
   "cell_type": "code",
   "execution_count": null,
   "id": "d2b6faba",
   "metadata": {},
   "outputs": [],
   "source": [
    "len(upper_manufacturers_consider)"
   ]
  },
  {
   "cell_type": "code",
   "execution_count": null,
   "id": "790fd9fb",
   "metadata": {},
   "outputs": [],
   "source": [
    "vehicle_file_relevant_df = theft_years_summed_df.loc[theft_years_summed_df['Licensed_Manfacturer']!='UNKNOWN']\n",
    "\n",
    "\n",
    "vehicle_file_relevant_df = vehicle_file_relevant_df.loc[vehicle_file_relevant_df['Licensed_Manfacturer'].isin(upper_manufacturers_consider)]\n",
    "\n",
    "vehicle_file_relevant_df"
   ]
  },
  {
   "cell_type": "code",
   "execution_count": null,
   "id": "81a22a90",
   "metadata": {},
   "outputs": [],
   "source": [
    "vehicle_file_relevant_df = vehicle_file_relevant_df.drop(vehicle_file_relevant_df.loc[vehicle_file_relevant_df['Licensed_GenModel']=='YAMAHA T'].index)\n",
    "\n",
    "vehicle_file_relevant_df = vehicle_file_relevant_df.drop(vehicle_file_relevant_df.loc[vehicle_file_relevant_df['Licensed_GenModel']=='YAMAHA MT'].index)\n",
    "\n",
    "vehicle_file_relevant_df = vehicle_file_relevant_df.drop(vehicle_file_relevant_df.loc[vehicle_file_relevant_df['Licensed_GenModel']=='ZONTES ZT'].index)\n",
    "\n",
    "vehicle_file_relevant_df = vehicle_file_relevant_df.drop(vehicle_file_relevant_df.loc[vehicle_file_relevant_df['Licensed_GenModel']=='WLIE VERACRUZ'].index)\n",
    "\n",
    "vehicle_file_relevant_df = vehicle_file_relevant_df.drop(vehicle_file_relevant_df.loc[vehicle_file_relevant_df['Licensed_GenModel']=='WK BIKES RT 125'].index)\n",
    "\n",
    "vehicle_file_relevant_df = vehicle_file_relevant_df.drop(vehicle_file_relevant_df.loc[vehicle_file_relevant_df['Make/Model'].str.contains('HARLEY-DAVIDSON')].index)\n",
    "\n",
    "vehicle_file_relevant_df = vehicle_file_relevant_df.drop(vehicle_file_relevant_df.loc[vehicle_file_relevant_df['Make/Model'].str.contains('KAWASAKI')].index)\n",
    "\n",
    "vehicle_file_relevant_df = vehicle_file_relevant_df.drop(vehicle_file_relevant_df.loc[vehicle_file_relevant_df['Make/Model'].str.contains('SACHS')].index)\n",
    "\n",
    "vehicle_file_relevant_df = vehicle_file_relevant_df.drop(vehicle_file_relevant_df.loc[vehicle_file_relevant_df['Make/Model'].str.contains('SANBEN')].index)\n",
    "\n",
    "vehicle_file_relevant_df = vehicle_file_relevant_df.drop(vehicle_file_relevant_df.loc[vehicle_file_relevant_df['Make/Model'].str.contains('VESPA')].index)\n",
    "\n",
    "vehicle_file_relevant_df = vehicle_file_relevant_df.drop(vehicle_file_relevant_df.loc[vehicle_file_relevant_df['Make/Model'].str.contains('WACKER')].index)\n"
   ]
  },
  {
   "cell_type": "code",
   "execution_count": null,
   "id": "797cc606",
   "metadata": {},
   "outputs": [],
   "source": [
    "vehicle_file_relevant_df['Licensed_Manfacturer'].unique()"
   ]
  },
  {
   "cell_type": "code",
   "execution_count": null,
   "id": "1095e7b7",
   "metadata": {},
   "outputs": [],
   "source": [
    "grouped_by_GenModel = vehicle_file_relevant_df.groupby(by=['Licensed_Manfacturer', 'Licensed_GenModel']).agg({'2022':'sum', '2021':'sum', '2020':'sum', '2019':'sum', '2018':'sum'}).reset_index()\n",
    "\n",
    "grouped_by_GenModel"
   ]
  },
  {
   "cell_type": "markdown",
   "id": "982681e2",
   "metadata": {},
   "source": [
    "## Picking out values where all years have data"
   ]
  },
  {
   "cell_type": "code",
   "execution_count": null,
   "id": "c851ebb8",
   "metadata": {},
   "outputs": [],
   "source": [
    "import matplotlib.pyplot as plt"
   ]
  },
  {
   "cell_type": "code",
   "execution_count": null,
   "id": "e3b46487",
   "metadata": {},
   "outputs": [],
   "source": [
    "grouped_by_GenModel_no_zeros"
   ]
  },
  {
   "cell_type": "markdown",
   "id": "356f8e09",
   "metadata": {},
   "source": [
    "- AC is messed up"
   ]
  },
  {
   "cell_type": "code",
   "execution_count": null,
   "id": "5ea9e439",
   "metadata": {},
   "outputs": [],
   "source": [
    "upper_manufacturers_consider.sort(key=len, reverse=True)\n",
    "\n",
    "for index, row in grouped_by_GenModel_no_zeros.loc[grouped_by_GenModel_no_zeros['Licensed_Manfacturer']=='AC'].iterrows():\n",
    "    matched = 0\n",
    "    genModel = row['Licensed_GenModel']\n",
    "    for val in upper_manufacturers_consider:\n",
    "        if val in genModel:\n",
    "            grouped_by_GenModel_no_zeros.loc[index, 'Licensed_Manfacturer'] = val\n",
    "            matched+=1\n",
    "            break\n",
    "    \n",
    "    if matched == 0:\n",
    "        grouped_by_GenModel_no_zeros = grouped_by_GenModel_no_zeros.drop(index)"
   ]
  },
  {
   "cell_type": "code",
   "execution_count": null,
   "id": "0f35273c",
   "metadata": {},
   "outputs": [],
   "source": [
    "grouped_by_GenModel_no_zeros = grouped_by_GenModel.loc[(grouped_by_GenModel['2022']!=0)&(grouped_by_GenModel['2021']!=0)&(grouped_by_GenModel['2020']!=0)&(grouped_by_GenModel['2019']!=0)&(grouped_by_GenModel['2018']!=0)]\n",
    "#grouped_by_GenModel_no_zeros = grouped_by_GenModel_no_zeros.set_index('Licensed_GenModel')\n",
    "\n",
    "grouped_manufacturer = grouped_by_GenModel_no_zeros['Licensed_Manfacturer'].unique()\n",
    "\n",
    "for manufacturer in grouped_manufacturer[3:5]:\n",
    "    manufacturer_subset = grouped_by_GenModel_no_zeros.loc[grouped_by_GenModel_no_zeros['Licensed_Manfacturer']==manufacturer]\n",
    "    all_genmodels = []\n",
    "    #manufacturer_subset = manufacturer_subset.set_index('Licensed_GenModel')\n",
    "    plt.figure(figsize=(16,12))\n",
    "    for index, row in manufacturer_subset.iterrows():\n",
    "        val_2022 = row['2022']\n",
    "        val_2021 = row['2021']\n",
    "        val_2020 = row['2020']\n",
    "        val_2019 = row['2019']\n",
    "        val_2019 = row['2018']\n",
    "        \n",
    "        GenModel = row['Licensed_GenModel']\n",
    "        all_genmodels.append(GenModel)\n",
    "    \n",
    "        plt.plot([2018, 2019, 2020, 2021, 2022], [val_2018, val_2019, val_2020, val_2021, val_2022])\n",
    "        \n",
    "    plt.ylabel('Number of Thefts', fontsize=12)\n",
    "    plt.xlabel('Years', fontsize=12)\n",
    "    plt.title('Plot showing the number of thefts for different {} GenModels'.format(manufacturer), fontsize=22)\n",
    "    plt.legend(all_genmodels)\n",
    "    plt.show()"
   ]
  },
  {
   "cell_type": "markdown",
   "id": "f827f423",
   "metadata": {},
   "source": [
    "## Attempting time series forecasting/smoothing through lockdown\n",
    "\n",
    "- Use all GenModels-even with zero values"
   ]
  },
  {
   "cell_type": "code",
   "execution_count": null,
   "id": "7d8b0173",
   "metadata": {},
   "outputs": [],
   "source": [
    "import pmdarima as pm\n",
    "\n",
    "from pmdarima.model_selection import train_test_split"
   ]
  },
  {
   "cell_type": "code",
   "execution_count": null,
   "id": "ee9ae1c7",
   "metadata": {},
   "outputs": [],
   "source": [
    "grouped_by_GenModel"
   ]
  },
  {
   "cell_type": "code",
   "execution_count": null,
   "id": "687353cc",
   "metadata": {},
   "outputs": [],
   "source": [
    "for index, row in grouped_by_GenModel[:6].iterrows():\n",
    "    \n",
    "    val_2022 = row['2022']\n",
    "    #val_2021 = row['2021']\n",
    "    #val_2020 = row['2020']\n",
    "    val_2019 = row['2019']\n",
    "    val_2018 = row['2018']\n",
    "    \n",
    "    gen_model = row['Licensed_GenModel']\n",
    "\n",
    "    thefts_list = [val_2018, val_2019, val_2022]\n",
    "    \n",
    "    train, test = train_test_split(thefts_list, train_size=2, test_size=1)\n",
    "    print(train)\n",
    "    print(test)\n",
    "    \n",
    "    model = pm.auto_arima(train, seasonal=False, m=1, with_intercept=True, n_fits=5, trace=False)\n",
    "    \n",
    "    forecasts = model.predict(len(test))\n",
    "    print(forecasts[0])\n",
    "    print(test)\n",
    "    \n",
    "    forecasts_plus = [train[-1]] + list(forecasts)\n",
    "    tests_plus = [train[-1]] + list(test)\n",
    "    \n",
    "    grouped_by_GenModel.loc[index, 'Theft_Prediction'] = forecasts[0]\n",
    "    \n",
    "    # Visualize the forecasts (blue=train, green=forecasts)\n",
    "    x = np.arange(len(thefts_list))\n",
    "    plt.plot(range(2018,2022,1), train, c='blue')\n",
    "    plt.plot(range(2021, 2023, 1), forecasts_plus, c='green')\n",
    "    plt.plot(range(2021, 2023, 1), tests_plus, c='red')\n",
    "    plt.xticks(range(2018,2023,1))\n",
    "    plt.show()"
   ]
  },
  {
   "cell_type": "code",
   "execution_count": null,
   "id": "728b99fa",
   "metadata": {},
   "outputs": [],
   "source": [
    "grouped_by_GenModel"
   ]
  },
  {
   "cell_type": "code",
   "execution_count": null,
   "id": "e9e4594a",
   "metadata": {},
   "outputs": [],
   "source": [
    "len(y)"
   ]
  },
  {
   "cell_type": "code",
   "execution_count": null,
   "id": "571d1982",
   "metadata": {},
   "outputs": [],
   "source": [
    "len(vehicle_file_relevant_df['Licensed_Manfacturer'].unique())"
   ]
  },
  {
   "cell_type": "code",
   "execution_count": null,
   "id": "1a938052",
   "metadata": {},
   "outputs": [],
   "source": [
    "theft_original_df.loc[theft_original_df['2020']==0]"
   ]
  },
  {
   "cell_type": "code",
   "execution_count": null,
   "id": "8555f4ca",
   "metadata": {},
   "outputs": [],
   "source": [
    "theft_df.loc[(theft_df['2022']!=0)|(theft_df['2021']!=0)|(theft_df['2020']!=0)|(theft_df['2019']!=0)|(theft_df['2018']!=0)]"
   ]
  },
  {
   "cell_type": "code",
   "execution_count": null,
   "id": "a3092ef1",
   "metadata": {},
   "outputs": [],
   "source": [
    "theft_years_occurences_summed_df = theft_df.groupby(by=['Make/Model', 'Year Manufacture/First Reg']).agg(sum).reset_index()\n",
    "\n",
    "#Check groupby has worked well\n",
    "\n",
    "theft_years_occurences_summed_df.loc[theft_years_occurences_summed_df['Make/Model']=='AUDI TT']"
   ]
  },
  {
   "cell_type": "code",
   "execution_count": null,
   "id": "41f4e353",
   "metadata": {},
   "outputs": [],
   "source": [
    "theft_years_occurences_summed_df"
   ]
  },
  {
   "cell_type": "code",
   "execution_count": null,
   "id": "49635b58",
   "metadata": {},
   "outputs": [],
   "source": [
    "len(theft_years_occurences_summed_df)"
   ]
  },
  {
   "cell_type": "code",
   "execution_count": null,
   "id": "3f92c118",
   "metadata": {},
   "outputs": [],
   "source": [
    "gen_models_list = list(full_model_count[2022].keys())+list(full_model_count[2021].keys())+list(full_model_count[2020].keys())+list(full_model_count[2019].keys())+list(full_model_count[2018].keys())\n",
    "\n",
    "gen_models_unique_list = set(gen_models_list)"
   ]
  },
  {
   "cell_type": "code",
   "execution_count": null,
   "id": "6e17a5c4",
   "metadata": {},
   "outputs": [],
   "source": [
    "print(len(gen_models_list))\n",
    "print(len(gen_models_unique_list))"
   ]
  },
  {
   "cell_type": "markdown",
   "id": "7b841330",
   "metadata": {},
   "source": [
    "# Josh map"
   ]
  },
  {
   "cell_type": "code",
   "execution_count": null,
   "id": "2dcdc5ec",
   "metadata": {},
   "outputs": [],
   "source": [
    "import pickle"
   ]
  },
  {
   "cell_type": "code",
   "execution_count": null,
   "id": "535f2e20",
   "metadata": {},
   "outputs": [],
   "source": [
    "pkl_file = open(r\"C:\\Users\\benwa\\vehicle_features\\Products - Documents\\03_Vehicle_File\\16_Theft_Rating_Re_Worked\\stolen_vehicle_map.pkl\", 'rb')\n",
    "matched_vehicles = pickle.load(pkl_file)\n",
    "pkl_file.close()"
   ]
  },
  {
   "cell_type": "code",
   "execution_count": null,
   "id": "dd022be0",
   "metadata": {},
   "outputs": [],
   "source": [
    "matched_vehicles"
   ]
  },
  {
   "cell_type": "code",
   "execution_count": null,
   "id": "36e6b0a1",
   "metadata": {},
   "outputs": [],
   "source": [
    "theft_years_occurences_summed_df"
   ]
  },
  {
   "cell_type": "code",
   "execution_count": null,
   "id": "3adbf35a",
   "metadata": {},
   "outputs": [],
   "source": [
    "ABI_desc_with_manufacturer = []\n",
    "\n",
    "for key in matched_vehicles.keys():\n",
    "    values = matched_vehicles[key]\n",
    "    \n",
    "    ABI_desc_with_manufacturer.append(values)\n",
    "\n",
    "ABI_desc_with_manufacturer_flattened = sum(ABI_desc_with_manufacturer, [])"
   ]
  },
  {
   "cell_type": "code",
   "execution_count": null,
   "id": "de6cbb49",
   "metadata": {},
   "outputs": [],
   "source": [
    "current_vehicle_df['Veh_Desc_ABI_Manufacturer'] = current_vehicle_df['Manufacturer'] + \" \" + current_vehicle_df['Veh_Desc_ABI']\n",
    "\n",
    "current_vehicle_df['Veh_Desc_ABI_Manufacturer'] = current_vehicle_df['Veh_Desc_ABI_Manufacturer'].apply(lambda x: x.upper())\n"
   ]
  },
  {
   "cell_type": "code",
   "execution_count": null,
   "id": "15117a2f",
   "metadata": {},
   "outputs": [],
   "source": [
    "found_tvi = list(current_vehicle_df.loc[current_vehicle_df['Veh_Desc_ABI_Manufacturer'].isin(ABI_desc_with_manufacturer_flattened)]['TVI_Code'])\n",
    "\n",
    "missed_tvi = []\n",
    "\n",
    "for val in current_vehicle_df['TVI_Code']:\n",
    "    if val not in found_tvi:\n",
    "        missed_tvi.append(val)"
   ]
  },
  {
   "cell_type": "code",
   "execution_count": null,
   "id": "928bc333",
   "metadata": {},
   "outputs": [],
   "source": [
    "missed_vehicle_file_df = current_vehicle_df.loc[current_vehicle_df['TVI_Code'].isin(missed_tvi)]\n",
    "missed_vehicle_file_df.to_csv(missing_vehicles_file_path, index = False)"
   ]
  },
  {
   "cell_type": "code",
   "execution_count": null,
   "id": "7c900a97",
   "metadata": {},
   "outputs": [],
   "source": [
    "missed_vehicle_file_df['Manufacturer'].unique()"
   ]
  },
  {
   "cell_type": "code",
   "execution_count": null,
   "id": "3266447e",
   "metadata": {},
   "outputs": [],
   "source": [
    "missed_vehicle_file_df.loc[missed_vehicle_file_df['Manufacturer']=='BMW']"
   ]
  },
  {
   "cell_type": "code",
   "execution_count": null,
   "id": "473e8a88",
   "metadata": {},
   "outputs": [],
   "source": [
    "theft_years_occurences_summed_df.loc[theft_years_occurences_summed_df['Make/Model'].str.contains('BMW X5 I')]"
   ]
  },
  {
   "cell_type": "code",
   "execution_count": null,
   "id": "93ec886a",
   "metadata": {},
   "outputs": [],
   "source": [
    "theft_years_summed_with_make_and_model_df"
   ]
  },
  {
   "cell_type": "code",
   "execution_count": null,
   "id": "acb09c95",
   "metadata": {},
   "outputs": [],
   "source": [
    "theft_years_summed_with_make_and_model_df.loc[theft_years_summed_with_make_and_model_df['Model_Possible']=='CONTINENTAL GT3-R AUTO']"
   ]
  },
  {
   "cell_type": "code",
   "execution_count": null,
   "id": "cce439b8",
   "metadata": {},
   "outputs": [],
   "source": [
    "current_vehicle_df.loc[current_vehicle_df['Veh_Desc_ABI'] == '607 SE HDI']"
   ]
  },
  {
   "cell_type": "markdown",
   "id": "5d938113",
   "metadata": {},
   "source": [
    "## Improve formatting"
   ]
  },
  {
   "cell_type": "code",
   "execution_count": null,
   "id": "4a2db1ea",
   "metadata": {},
   "outputs": [],
   "source": [
    "current_vehicle_file_df = pd.read_csv(r\"C:\\Users\\benwa\\vehicle_features\\Products - Documents\\03_Vehicle_File\\08_Master_File\\vehicle_features_Vehicle_File_Master_05_09_2023.csv\")"
   ]
  },
  {
   "cell_type": "code",
   "execution_count": null,
   "id": "7122d08c",
   "metadata": {},
   "outputs": [],
   "source": [
    "vehicle_features_manufacturers_upper_list = [x.upper() for x in current_vehicle_file_df['Manufacturer'].unique()]\n"
   ]
  },
  {
   "cell_type": "code",
   "execution_count": null,
   "id": "797d6e4a",
   "metadata": {},
   "outputs": [],
   "source": [
    "import numpy as np\n",
    "\n",
    "from fuzzywuzzy import fuzz"
   ]
  },
  {
   "cell_type": "code",
   "execution_count": null,
   "id": "96528596",
   "metadata": {},
   "outputs": [],
   "source": [
    "theft_years_occurences_summed_df['Exact_Match'] = np.zeros(len(theft_years_occurences_summed_df))\n",
    "theft_years_occurences_summed_df['Possible_Match'] = ''\n",
    "theft_years_occurences_summed_df['Match_Score'] = np.zeros(len(theft_years_occurences_summed_df))\n",
    "theft_years_occurences_summed_df['Manufacturer'] = ''\n",
    "theft_years_occurences_summed_df['Model'] = ''\n",
    "theft_years_occurences_summed_df['Make/Model'] = theft_years_occurences_summed_df['Make/Model'].apply(lambda x: x.strip())"
   ]
  },
  {
   "cell_type": "code",
   "execution_count": null,
   "id": "57d011c4",
   "metadata": {},
   "outputs": [],
   "source": [
    "licensed_manufacturers = licensed_vehicle_df['Make'].unique()\n",
    "licensed_models_for_manufacturer = {}\n",
    "for manufacturer in licensed_manufacturers:\n",
    "    subset_df = licensed_vehicle_df.loc[licensed_vehicle_df['Make']==manufacturer]\n",
    "    model_col = subset_df['GenModel'].apply(lambda x: x.replace(manufacturer, '').strip())\n",
    "    model_list = list(model_col.unique())\n",
    "    licensed_models_for_manufacturer[manufacturer] = model_list\n",
    "licensed_models_for_manufacturer\n"
   ]
  },
  {
   "cell_type": "markdown",
   "id": "ba147ccb",
   "metadata": {},
   "source": [
    "## Lists of manufacturers"
   ]
  },
  {
   "cell_type": "code",
   "execution_count": null,
   "id": "a8b4be91",
   "metadata": {},
   "outputs": [],
   "source": [
    "licensed_manufacturers_consider = []\n",
    "\n",
    "for val in licensed_manufacturers:\n",
    "    if val in vehicle_features_manufacturers_upper_list:\n",
    "        licensed_manufacturers_consider.append(val)\n",
    "print(len(licensed_manufacturers_consider))\n",
    "print(len(vehicle_features_manufacturers_upper_list))\n",
    "\n",
    "missed_manufacturers = []\n",
    "\n",
    "for val in vehicle_features_manufacturers_upper_list:\n",
    "    if val not in licensed_manufacturers_consider:\n",
    "        missed_manufacturers.append(val)\n",
    "\n",
    "list(licensed_manufacturers).sort(key=len, reverse=True)"
   ]
  },
  {
   "cell_type": "markdown",
   "id": "1207c661",
   "metadata": {},
   "source": [
    "## Extract Manufacturer"
   ]
  },
  {
   "cell_type": "code",
   "execution_count": null,
   "id": "9814147f",
   "metadata": {},
   "outputs": [],
   "source": [
    "theft_years_occurences_summed_df['Make/Model'] = theft_years_occurences_summed_df['Make/Model'].apply(lambda x: x.upper())"
   ]
  },
  {
   "cell_type": "code",
   "execution_count": null,
   "id": "f43d4dd9",
   "metadata": {},
   "outputs": [],
   "source": [
    "def extract_make_func(make_model):\n",
    "    for val in licensed_manufacturers:\n",
    "        if val in make_model:\n",
    "            manufacturer = val\n",
    "            break\n",
    "        else:\n",
    "            manufacturer = 'UNKNOWN'\n",
    "    return manufacturer\n",
    "\n",
    "theft_years_occurences_summed_df['Manufacturer'] = theft_years_occurences_summed_df['Make/Model'].apply(lambda x: extract_make_func(x))"
   ]
  },
  {
   "cell_type": "code",
   "execution_count": null,
   "id": "98ce198d",
   "metadata": {},
   "outputs": [],
   "source": [
    "theft_years_occurences_summed_df.loc[theft_years_occurences_summed_df['Manufacturer']=='UNKNOWN']['Make/Model'].unique()"
   ]
  },
  {
   "cell_type": "code",
   "execution_count": null,
   "id": "40341c15",
   "metadata": {},
   "outputs": [],
   "source": [
    "theft_years_occurences_summed_df.loc[theft_years_occurences_summed_df['Manufacturer']!='UNKNOWN']"
   ]
  },
  {
   "cell_type": "markdown",
   "id": "cb982eeb",
   "metadata": {},
   "source": [
    "## Extracting Model"
   ]
  },
  {
   "cell_type": "code",
   "execution_count": null,
   "id": "174f1086",
   "metadata": {},
   "outputs": [],
   "source": [
    "def extract_model_func(make, make_model):\n",
    "    if make!='UNKNOWN':\n",
    "        models = licensed_models_for_manufacturer[make]\n",
    "        models.sort(key=len, reverse = True)\n",
    "        for model_val in models:\n",
    "            if model_val in make_model:\n",
    "                model = model_val\n",
    "                break\n",
    "            else:\n",
    "                model = 'UNKNOWN'\n",
    "        \n",
    "    else:\n",
    "        model = 'UNKNOWN'\n",
    "    return model\n",
    "\n",
    "theft_years_occurences_summed_df['Model'] = theft_years_occurences_summed_df.apply(lambda x: extract_model_func(x['Manufacturer'], x['Make/Model']), axis=1)"
   ]
  },
  {
   "cell_type": "code",
   "execution_count": null,
   "id": "abd5e972",
   "metadata": {},
   "outputs": [],
   "source": [
    "theft_years_occurences_summed_df.loc[theft_years_occurences_summed_df['Model']!='UNKNOWN']\n"
   ]
  },
  {
   "cell_type": "code",
   "execution_count": null,
   "id": "139ef3fe",
   "metadata": {},
   "outputs": [],
   "source": [
    "licensed_models_for_manufacturer['BMW']"
   ]
  },
  {
   "cell_type": "code",
   "execution_count": null,
   "id": "489db989",
   "metadata": {},
   "outputs": [],
   "source": [
    "models = list(set(licensed_vehicle_df[\"GenModel\"]))\n",
    "matched = {}\n",
    "x = 0\n",
    "for i in range(len(models)):\n",
    "    if i % 100 == 0:\n",
    "        print(i)\n",
    "    matched[models[i]] = list(theft_years_occurences_summed_df[theft_years_occurences_summed_df[\"Make/Model\"].apply(lambda x: models[i].upper() in x.upper())][\"Make/Model\"])\n"
   ]
  },
  {
   "cell_type": "code",
   "execution_count": null,
   "id": "bce872de",
   "metadata": {},
   "outputs": [],
   "source": [
    "theft_years_occurences_summed_df['Make/Model'] = theft_years_occurences_summed_df['Make/Model'].apply(lambda x: x.upper())\n",
    "\n",
    "models = list(set(licensed_vehicle_df[\"GenModel\"]))\n",
    "\n",
    "models_upper = [x.upper() for x in models]\n",
    "\n",
    "models_upper.sort(key=len, reverse=True)\n",
    "\n",
    "def search_for_GenModel(make_model):\n",
    "    for model in models:\n",
    "        if model in make_model:\n",
    "            licensed_make_model = model\n",
    "            break\n",
    "        else:\n",
    "            licensed_make_model = 'UNKNOWN'\n",
    "    return licensed_make_model\n",
    "\n",
    "theft_years_occurences_summed_df['Licensed_GenModel'] = theft_years_occurences_summed_df['Make/Model'].apply(lambda x: search_for_GenModel(x))\n",
    "    "
   ]
  },
  {
   "cell_type": "code",
   "execution_count": null,
   "id": "55e4270a",
   "metadata": {},
   "outputs": [],
   "source": [
    "theft_years_occurences_summed_df.loc[theft_years_occurences_summed_df['Licensed_GenModel']!='UNKNOWN']"
   ]
  },
  {
   "cell_type": "markdown",
   "id": "ae5671b9",
   "metadata": {},
   "source": [
    "- Applying Manufacturers and Models found separately to increase number of GenModels found"
   ]
  },
  {
   "cell_type": "code",
   "execution_count": null,
   "id": "5b318ce1",
   "metadata": {},
   "outputs": [],
   "source": [
    "theft_years_occurences_summed_df.loc[(theft_years_occurences_summed_df['Licensed_GenModel']=='UNKNOWN')&(theft_years_occurences_summed_df['Manufacturer']!='UNKNOWN')&(theft_years_occurences_summed_df['Model']!='UNKNOWN'), 'Licensed_GenModel'] = theft_years_occurences_summed_df.loc[(theft_years_occurences_summed_df['Licensed_GenModel']=='UNKNOWN')&(theft_years_occurences_summed_df['Manufacturer']!='UNKNOWN')&(theft_years_occurences_summed_df['Model']!='UNKNOWN')]['Manufacturer'] + theft_years_occurences_summed_df.loc[(theft_years_occurences_summed_df['Licensed_GenModel']=='UNKNOWN')&(theft_years_occurences_summed_df['Manufacturer']!='UNKNOWN')&(theft_years_occurences_summed_df['Model']!='UNKNOWN')]['Model']\n"
   ]
  },
  {
   "cell_type": "code",
   "execution_count": null,
   "id": "b1c8bde2",
   "metadata": {},
   "outputs": [],
   "source": [
    "#Fixing Manufacturer\n",
    "theft_years_occurences_summed_df.loc[(theft_years_occurences_summed_df['Licensed_GenModel']=='UNKNOWN')&(theft_years_occurences_summed_df['Make/Model'].str.contains('AUDI')), 'Manufacturer'] = 'AUDI'\n",
    "theft_years_occurences_summed_df.loc[(theft_years_occurences_summed_df['Licensed_GenModel']=='UNKNOWN')&(theft_years_occurences_summed_df['Make/Model'].str.contains('BMW')), 'Manufacturer'] = 'BMW'\n",
    "theft_years_occurences_summed_df.loc[(theft_years_occurences_summed_df['Licensed_GenModel']=='UNKNOWN')&(theft_years_occurences_summed_df['Make/Model'].str.contains('CADILLAC')), 'Manufacturer'] = 'CADILLAC'\n",
    "theft_years_occurences_summed_df.loc[(theft_years_occurences_summed_df['Licensed_GenModel']=='UNKNOWN')&(theft_years_occurences_summed_df['Make/Model'].str.contains('JAGUAR')), 'Manufacturer'] = 'JAGUAR'\n",
    "theft_years_occurences_summed_df.loc[(theft_years_occurences_summed_df['Licensed_GenModel']=='UNKNOWN')&(theft_years_occurences_summed_df['Make/Model'].str.contains('VOLKSWAGEN')), 'Manufacturer'] = 'VOLKSWAGEN'\n",
    "theft_years_occurences_summed_df.loc[(theft_years_occurences_summed_df['Licensed_GenModel']=='UNKNOWN')&(theft_years_occurences_summed_df['Make/Model'].str.contains('VAUXHALL')), 'Manufacturer'] = 'VAUXHALL'\n",
    "theft_years_occurences_summed_df.loc[(theft_years_occurences_summed_df['Licensed_GenModel']=='UNKNOWN')&(theft_years_occurences_summed_df['Make/Model'].str.contains('TOYOTA')), 'Manufacturer'] = 'TOYOTA'\n",
    "theft_years_occurences_summed_df.loc[(theft_years_occurences_summed_df['Licensed_GenModel']=='UNKNOWN')&(theft_years_occurences_summed_df['Make/Model'].str.contains('ROVER')), 'Manufacturer'] = 'ROVER'\n",
    "theft_years_occurences_summed_df.loc[(theft_years_occurences_summed_df['Licensed_GenModel']=='UNKNOWN')&(theft_years_occurences_summed_df['Make/Model'].str.contains('RENAULT')), 'Manufacturer'] = 'RENAULT'\n",
    "theft_years_occurences_summed_df.loc[(theft_years_occurences_summed_df['Licensed_GenModel']=='UNKNOWN')&(theft_years_occurences_summed_df['Make/Model'].str.contains('NISSAN')), 'Manufacturer'] = 'NISSAN'\n",
    "theft_years_occurences_summed_df.loc[(theft_years_occurences_summed_df['Licensed_GenModel']=='UNKNOWN')&(theft_years_occurences_summed_df['Make/Model'].str.contains('MERCEDES-BENZ')), 'Manufacturer'] = 'MERCEDES'\n",
    "theft_years_occurences_summed_df.loc[(theft_years_occurences_summed_df['Licensed_GenModel']=='UNKNOWN')&(theft_years_occurences_summed_df['Make/Model'].str.contains('LAND ROVER')), 'Manufacturer'] = 'LAND ROVER'\n",
    "theft_years_occurences_summed_df.loc[(theft_years_occurences_summed_df['Licensed_GenModel']=='UNKNOWN')&(theft_years_occurences_summed_df['Make/Model'].str.contains('LEXUS')), 'Manufacturer'] = 'LEXUS'\n",
    "theft_years_occurences_summed_df.loc[(theft_years_occurences_summed_df['Licensed_GenModel']=='UNKNOWN')&(theft_years_occurences_summed_df['Make/Model'].str.contains('KIA')), 'Manufacturer'] = 'KIA'\n",
    "theft_years_occurences_summed_df.loc[(theft_years_occurences_summed_df['Licensed_GenModel']=='UNKNOWN')&(theft_years_occurences_summed_df['Make/Model'].str.contains('FIAT')), 'Manufacturer'] = 'FIAT'\n",
    "\n",
    "theft_years_occurences_summed_df['Model_Possible'] = theft_years_occurences_summed_df.apply(lambda x: x['Make/Model'].replace(x['Manufacturer'], '').strip(), axis = 1)\n",
    "\n",
    "#Fixing Licensed_GenModel\n",
    "\n",
    "theft_years_occurences_summed_df.loc[(theft_years_occurences_summed_df['Licensed_GenModel']=='UNKNOWN')&(theft_years_occurences_summed_df['Manufacturer']=='ABARTH')&(theft_years_occurences_summed_df['Make/Model'].str.contains('GRANDE PUNTO')), 'Licensed_GenModel'] = 'ABARTH PUNTO'\n",
    "\n",
    "\n",
    "theft_years_occurences_summed_df.loc[(theft_years_occurences_summed_df['Licensed_GenModel']=='UNKNOWN')&(theft_years_occurences_summed_df['Manufacturer']=='BMW')&(theft_years_occurences_summed_df['Model_Possible'].str.startswith('1')), 'Licensed_GenModel'] = 'BMW 1 SERIES'\n",
    "\n",
    "theft_years_occurences_summed_df.loc[(theft_years_occurences_summed_df['Licensed_GenModel']=='UNKNOWN')&(theft_years_occurences_summed_df['Manufacturer']=='BMW')&(theft_years_occurences_summed_df['Model_Possible'].str.startswith('2')), 'Licensed_GenModel'] = 'BMW 2 SERIES'\n",
    "\n",
    "theft_years_occurences_summed_df.loc[(theft_years_occurences_summed_df['Licensed_GenModel']=='UNKNOWN')&(theft_years_occurences_summed_df['Manufacturer']=='BMW')&(theft_years_occurences_summed_df['Model_Possible'].str.startswith('3')), 'Licensed_GenModel'] = 'BMW 3 SERIES'\n",
    "\n",
    "theft_years_occurences_summed_df.loc[(theft_years_occurences_summed_df['Licensed_GenModel']=='UNKNOWN')&(theft_years_occurences_summed_df['Manufacturer']=='BMW')&(theft_years_occurences_summed_df['Model_Possible'].str.startswith('4')), 'Licensed_GenModel'] = 'BMW 4 SERIES'\n",
    "\n",
    "theft_years_occurences_summed_df.loc[(theft_years_occurences_summed_df['Licensed_GenModel']=='UNKNOWN')&(theft_years_occurences_summed_df['Manufacturer']=='BMW')&(theft_years_occurences_summed_df['Model_Possible'].str.startswith('5')), 'Licensed_GenModel'] = 'BMW 5 SERIES'\n",
    "\n",
    "theft_years_occurences_summed_df.loc[(theft_years_occurences_summed_df['Licensed_GenModel']=='UNKNOWN')&(theft_years_occurences_summed_df['Manufacturer']=='BMW')&(theft_years_occurences_summed_df['Model_Possible'].str.startswith('6')), 'Licensed_GenModel'] = 'BMW 6 SERIES'\n",
    "\n",
    "theft_years_occurences_summed_df.loc[(theft_years_occurences_summed_df['Licensed_GenModel']=='UNKNOWN')&(theft_years_occurences_summed_df['Manufacturer']=='BMW')&(theft_years_occurences_summed_df['Model_Possible'].str.startswith('7')), 'Licensed_GenModel'] = 'BMW 7 SERIES'\n",
    "\n",
    "theft_years_occurences_summed_df.loc[(theft_years_occurences_summed_df['Licensed_GenModel']=='UNKNOWN')&(theft_years_occurences_summed_df['Manufacturer']=='BMW')&(theft_years_occurences_summed_df['Model_Possible'].str.startswith('8')), 'Licensed_GenModel'] = 'BMW 8 SERIES'\n",
    "\n",
    "theft_years_occurences_summed_df.loc[(theft_years_occurences_summed_df['Licensed_GenModel']=='UNKNOWN')&(theft_years_occurences_summed_df['Manufacturer']=='BMW')&(theft_years_occurences_summed_df['Model_Possible'].str.startswith('K')), 'Licensed_GenModel'] = 'BMW K SERIES'\n",
    "\n",
    "theft_years_occurences_summed_df.loc[(theft_years_occurences_summed_df['Licensed_GenModel']=='UNKNOWN')&(theft_years_occurences_summed_df['Manufacturer']=='BMW')&(theft_years_occurences_summed_df['Model_Possible'].str.startswith('R')), 'Licensed_GenModel'] = 'BMW R SERIES'\n",
    "\n",
    "\n",
    "theft_years_occurences_summed_df.loc[(theft_years_occurences_summed_df['Licensed_GenModel']=='UNKNOWN')&(theft_years_occurences_summed_df['Manufacturer']=='AUDI')&(theft_years_occurences_summed_df['Model_Possible'].str.startswith('RS 1')), 'Licensed_GenModel'] = 'AUDI RS1'\n",
    "theft_years_occurences_summed_df.loc[(theft_years_occurences_summed_df['Licensed_GenModel']=='UNKNOWN')&(theft_years_occurences_summed_df['Manufacturer']=='AUDI')&(theft_years_occurences_summed_df['Model_Possible'].str.startswith('RS 2')), 'Licensed_GenModel'] = 'AUDI RS2'\n",
    "theft_years_occurences_summed_df.loc[(theft_years_occurences_summed_df['Licensed_GenModel']=='UNKNOWN')&(theft_years_occurences_summed_df['Manufacturer']=='AUDI')&(theft_years_occurences_summed_df['Model_Possible'].str.startswith('RS 3')), 'Licensed_GenModel'] = 'AUDI RS3'\n",
    "theft_years_occurences_summed_df.loc[(theft_years_occurences_summed_df['Licensed_GenModel']=='UNKNOWN')&(theft_years_occurences_summed_df['Manufacturer']=='AUDI')&(theft_years_occurences_summed_df['Model_Possible'].str.startswith('RS 4')), 'Licensed_GenModel'] = 'AUDI RS4'\n",
    "theft_years_occurences_summed_df.loc[(theft_years_occurences_summed_df['Licensed_GenModel']=='UNKNOWN')&(theft_years_occurences_summed_df['Manufacturer']=='AUDI')&(theft_years_occurences_summed_df['Model_Possible'].str.startswith('RS 5')), 'Licensed_GenModel'] = 'AUDI RS5'\n",
    "theft_years_occurences_summed_df.loc[(theft_years_occurences_summed_df['Licensed_GenModel']=='UNKNOWN')&(theft_years_occurences_summed_df['Manufacturer']=='AUDI')&(theft_years_occurences_summed_df['Model_Possible'].str.startswith('RS 6')), 'Licensed_GenModel'] = 'AUDI RS6'\n",
    "theft_years_occurences_summed_df.loc[(theft_years_occurences_summed_df['Licensed_GenModel']=='UNKNOWN')&(theft_years_occurences_summed_df['Manufacturer']=='AUDI')&(theft_years_occurences_summed_df['Model_Possible'].str.startswith('RS 7')), 'Licensed_GenModel'] = 'AUDI RS7'\n",
    "theft_years_occurences_summed_df.loc[(theft_years_occurences_summed_df['Licensed_GenModel']=='UNKNOWN')&(theft_years_occurences_summed_df['Manufacturer']=='AUDI')&(theft_years_occurences_summed_df['Model_Possible'].str.startswith('RS 8')), 'Licensed_GenModel'] = 'AUDI RS8'\n",
    "\n",
    "theft_years_occurences_summed_df.loc[(theft_years_occurences_summed_df['Licensed_GenModel']=='UNKNOWN')&(theft_years_occurences_summed_df['Manufacturer']=='AUDI')&(theft_years_occurences_summed_df['Model_Possible'].str.startswith('RS Q3')), 'Licensed_GenModel'] = 'AUDI RSQ3'\n",
    "theft_years_occurences_summed_df.loc[(theft_years_occurences_summed_df['Licensed_GenModel']=='UNKNOWN')&(theft_years_occurences_summed_df['Manufacturer']=='AUDI')&(theft_years_occurences_summed_df['Model_Possible'].str.startswith('RS Q8')), 'Licensed_GenModel'] = 'AUDI RSQ8'\n",
    "\n",
    "theft_years_occurences_summed_df.loc[(theft_years_occurences_summed_df['Licensed_GenModel']=='UNKNOWN')&(theft_years_occurences_summed_df['Manufacturer']=='FIAT')&(theft_years_occurences_summed_df['Model_Possible'].str.startswith('ROLLERTEAM')), 'Licensed_GenModel'] = 'FIAT ROLLER TEAM'\n",
    "theft_years_occurences_summed_df.loc[(theft_years_occurences_summed_df['Licensed_GenModel']=='UNKNOWN')&(theft_years_occurences_summed_df['Manufacturer']=='FIAT')&(theft_years_occurences_summed_df['Model_Possible'].str.startswith('GRAND PUNTO')), 'Licensed_GenModel'] = 'FIAT PUNTO'\n",
    "theft_years_occurences_summed_df.loc[(theft_years_occurences_summed_df['Licensed_GenModel']=='UNKNOWN')&(theft_years_occurences_summed_df['Manufacturer']=='FIAT')&(theft_years_occurences_summed_df['Model_Possible'].str.startswith('GRANDE PUNTO')), 'Licensed_GenModel'] = 'FIAT PUNTO'\n",
    "\n",
    "\n",
    "theft_years_occurences_summed_df.loc[(theft_years_occurences_summed_df['Licensed_GenModel']=='UNKNOWN')&(theft_years_occurences_summed_df['Manufacturer']=='FORD')&(theft_years_occurences_summed_df['Model_Possible'].str.startswith('TRAN CONNECT')), 'Licensed_GenModel'] = 'FORD TRANSIT CONNECT'\n",
    "theft_years_occurences_summed_df.loc[(theft_years_occurences_summed_df['Licensed_GenModel']=='UNKNOWN')&(theft_years_occurences_summed_df['Manufacturer']=='FORD')&(theft_years_occurences_summed_df['Model_Possible'].str.startswith('TRAN CONN')), 'Licensed_GenModel'] = 'FORD TRANSIT CONNECT'\n",
    "\n",
    "theft_years_occurences_summed_df.loc[(theft_years_occurences_summed_df['Licensed_GenModel']=='UNKNOWN')&(theft_years_occurences_summed_df['Manufacturer']=='KIA')&(theft_years_occurences_summed_df['Model_Possible'].str.startswith(\"CEE'D\")), 'Licensed_GenModel'] = 'KIA CEED'\n",
    "theft_years_occurences_summed_df.loc[(theft_years_occurences_summed_df['Licensed_GenModel']=='UNKNOWN')&(theft_years_occurences_summed_df['Manufacturer']=='KIA')&(theft_years_occurences_summed_df['Model_Possible'].str.startswith(\"PRO CEE'D\")), 'Licensed_GenModel'] = 'KIA PRO CEED'\n",
    "\n",
    "\n",
    "theft_years_occurences_summed_df.loc[(theft_years_occurences_summed_df['Licensed_GenModel']=='UNKNOWN')&(theft_years_occurences_summed_df['Manufacturer']=='JAGUAR')&(theft_years_occurences_summed_df['Model_Possible'].str.startswith('S-TYPE')), 'Licensed_GenModel'] = 'JAGUAR S TYPE'\n",
    "theft_years_occurences_summed_df.loc[(theft_years_occurences_summed_df['Licensed_GenModel']=='UNKNOWN')&(theft_years_occurences_summed_df['Manufacturer']=='JAGUAR')&(theft_years_occurences_summed_df['Model_Possible'].str.startswith('X-TYPE')), 'Licensed_GenModel'] = 'JAGUAR X TYPE'\n",
    "theft_years_occurences_summed_df.loc[(theft_years_occurences_summed_df['Licensed_GenModel']=='UNKNOWN')&(theft_years_occurences_summed_df['Manufacturer']=='JAGUAR')&(theft_years_occurences_summed_df['Model_Possible'].str.startswith('XE')), 'Licensed_GenModel'] = 'JAGUAR XE SERIES'\n",
    "theft_years_occurences_summed_df.loc[(theft_years_occurences_summed_df['Licensed_GenModel']=='UNKNOWN')&(theft_years_occurences_summed_df['Manufacturer']=='JAGUAR')&(theft_years_occurences_summed_df['Model_Possible'].str.startswith('XF')), 'Licensed_GenModel'] = 'JAGUAR XF SERIES'\n",
    "theft_years_occurences_summed_df.loc[(theft_years_occurences_summed_df['Licensed_GenModel']=='UNKNOWN')&(theft_years_occurences_summed_df['Manufacturer']=='JAGUAR')&(theft_years_occurences_summed_df['Model_Possible'].str.startswith('XJ')), 'Licensed_GenModel'] = 'JAGUAR XJ SERIES'\n",
    "theft_years_occurences_summed_df.loc[(theft_years_occurences_summed_df['Licensed_GenModel']=='UNKNOWN')&(theft_years_occurences_summed_df['Manufacturer']=='JAGUAR')&(theft_years_occurences_summed_df['Model_Possible'].str.startswith('XK')), 'Licensed_GenModel'] = 'JAGUAR XK SERIES'\n",
    "theft_years_occurences_summed_df.loc[(theft_years_occurences_summed_df['Licensed_GenModel']=='UNKNOWN')&(theft_years_occurences_summed_df['Manufacturer']=='JAGUAR')&(theft_years_occurences_summed_df['Model_Possible'].str.startswith('XF')), 'Licensed_GenModel'] = 'JAGUAR XF SERIES'\n",
    "\n",
    "\n",
    "theft_years_occurences_summed_df.loc[(theft_years_occurences_summed_df['Licensed_GenModel']=='UNKNOWN')&(theft_years_occurences_summed_df['Manufacturer']=='LAND ROVER')&(theft_years_occurences_summed_df['Model_Possible'].str.contains('EVOQUE')), 'Licensed_GenModel'] = 'LAND ROVER RANGE ROVER EVOQUE'\n",
    "theft_years_occurences_summed_df.loc[(theft_years_occurences_summed_df['Licensed_GenModel']=='UNKNOWN')&(theft_years_occurences_summed_df['Manufacturer']=='LAND ROVER')&(theft_years_occurences_summed_df['Model_Possible'].str.contains('SPORT')), 'Licensed_GenModel'] = 'LAND ROVER RANGE ROVER SPORT'\n",
    "theft_years_occurences_summed_df.loc[(theft_years_occurences_summed_df['Licensed_GenModel']=='UNKNOWN')&(theft_years_occurences_summed_df['Manufacturer']=='LAND ROVER')&(theft_years_occurences_summed_df['Model_Possible'].str.contains('VELAR')), 'Licensed_GenModel'] = 'LAND ROVER RANGE ROVER VELAR'\n",
    "theft_years_occurences_summed_df.loc[(theft_years_occurences_summed_df['Licensed_GenModel']=='UNKNOWN')&(theft_years_occurences_summed_df['Manufacturer']=='LAND ROVER')&(theft_years_occurences_summed_df['Model_Possible'].str.contains('RANGE ROVER')), 'Licensed_GenModel'] = 'LAND ROVER RANGE ROVER'\n",
    "theft_years_occurences_summed_df.loc[(theft_years_occurences_summed_df['Licensed_GenModel']=='UNKNOWN')&(theft_years_occurences_summed_df['Manufacturer']=='LAND ROVER')&(theft_years_occurences_summed_df['Model_Possible'].str.contains('RANGEROVER')), 'Licensed_GenModel'] = 'LAND ROVER RANGE ROVER'\n",
    "theft_years_occurences_summed_df.loc[(theft_years_occurences_summed_df['Licensed_GenModel']=='UNKNOWN')&(theft_years_occurences_summed_df['Manufacturer']=='LAND ROVER')&(theft_years_occurences_summed_df['Model_Possible'].str.contains('R-ROVER')), 'Licensed_GenModel'] = 'LAND ROVER RANGE ROVER'\n",
    "theft_years_occurences_summed_df.loc[(theft_years_occurences_summed_df['Licensed_GenModel']=='UNKNOWN')&(theft_years_occurences_summed_df['Manufacturer']=='LAND ROVER')&(theft_years_occurences_summed_df['Model_Possible'].str.contains('RROVER')), 'Licensed_GenModel'] = 'LAND ROVER RANGE ROVER'\n",
    "theft_years_occurences_summed_df.loc[(theft_years_occurences_summed_df['Licensed_GenModel']=='UNKNOWN')&(theft_years_occurences_summed_df['Manufacturer']=='LAND ROVER')&(theft_years_occurences_summed_df['Model_Possible'].str.contains('R ROVER')), 'Licensed_GenModel'] = 'LAND ROVER RANGE ROVER'\n",
    "theft_years_occurences_summed_df.loc[(theft_years_occurences_summed_df['Licensed_GenModel']=='UNKNOWN')&(theft_years_occurences_summed_df['Manufacturer']=='LAND ROVER')&(theft_years_occurences_summed_df['Model_Possible'].str.contains('FREELANDER')), 'Licensed_GenModel'] = 'LAND ROVER FREELANDER'\n",
    "theft_years_occurences_summed_df.loc[(theft_years_occurences_summed_df['Licensed_GenModel']=='UNKNOWN')&(theft_years_occurences_summed_df['Manufacturer']=='LAND ROVER')&(theft_years_occurences_summed_df['Model_Possible'].str.contains('DISCOVERY')), 'Licensed_GenModel'] = 'LAND ROVER DISCOVERY'\n",
    "theft_years_occurences_summed_df.loc[(theft_years_occurences_summed_df['Licensed_GenModel']=='UNKNOWN')&(theft_years_occurences_summed_df['Manufacturer']=='LAND ROVER')&(theft_years_occurences_summed_df['Model_Possible'].str.contains('DISCOVRY')), 'Licensed_GenModel'] = 'LAND ROVER DISCOVERY'\n",
    "\n",
    "\n",
    "theft_years_occurences_summed_df.loc[(theft_years_occurences_summed_df['Licensed_GenModel']=='UNKNOWN')&(theft_years_occurences_summed_df['Manufacturer']=='LEXUS')&(theft_years_occurences_summed_df['Model_Possible'].str.startswith('RX300')), 'Licensed_GenModel'] = 'LEXUS RX 300'\n",
    "theft_years_occurences_summed_df.loc[(theft_years_occurences_summed_df['Licensed_GenModel']=='UNKNOWN')&(theft_years_occurences_summed_df['Manufacturer']=='LEXUS')&(theft_years_occurences_summed_df['Model_Possible'].str.startswith('RX400')), 'Licensed_GenModel'] = 'LEXUS RX 400'\n",
    "theft_years_occurences_summed_df.loc[(theft_years_occurences_summed_df['Licensed_GenModel']=='UNKNOWN')&(theft_years_occurences_summed_df['Manufacturer']=='LEXUS')&(theft_years_occurences_summed_df['Model_Possible'].str.startswith('RX350')), 'Licensed_GenModel'] = 'LEXUS RX 350'\n",
    "theft_years_occurences_summed_df.loc[(theft_years_occurences_summed_df['Licensed_GenModel']=='UNKNOWN')&(theft_years_occurences_summed_df['Manufacturer']=='LEXUS')&(theft_years_occurences_summed_df['Model_Possible'].str.startswith('RXL 450')), 'Licensed_GenModel'] = 'LEXUS RX 450'\n",
    "theft_years_occurences_summed_df.loc[(theft_years_occurences_summed_df['Licensed_GenModel']=='UNKNOWN')&(theft_years_occurences_summed_df['Manufacturer']=='LEXUS')&(theft_years_occurences_summed_df['Model_Possible'].str.startswith('SC430')), 'Licensed_GenModel'] = 'LEXUS SC 430'\n",
    "theft_years_occurences_summed_df.loc[(theft_years_occurences_summed_df['Licensed_GenModel']=='UNKNOWN')&(theft_years_occurences_summed_df['Manufacturer']=='LEXUS')&(theft_years_occurences_summed_df['Model_Possible'].str.startswith('LS400')), 'Licensed_GenModel'] = 'LEXUS LS 400'\n",
    "theft_years_occurences_summed_df.loc[(theft_years_occurences_summed_df['Licensed_GenModel']=='UNKNOWN')&(theft_years_occurences_summed_df['Manufacturer']=='LEXUS')&(theft_years_occurences_summed_df['Model_Possible'].str.startswith('LS430')), 'Licensed_GenModel'] = 'LEXUS LS 430'\n",
    "theft_years_occurences_summed_df.loc[(theft_years_occurences_summed_df['Licensed_GenModel']=='UNKNOWN')&(theft_years_occurences_summed_df['Manufacturer']=='LEXUS')&(theft_years_occurences_summed_df['Model_Possible'].str.startswith('IS200')), 'Licensed_GenModel'] = 'LEXUS IS 200'\n",
    "theft_years_occurences_summed_df.loc[(theft_years_occurences_summed_df['Licensed_GenModel']=='UNKNOWN')&(theft_years_occurences_summed_df['Manufacturer']=='LEXUS')&(theft_years_occurences_summed_df['Model_Possible'].str.startswith('GS450')), 'Licensed_GenModel'] = 'LEXUS GS 450'\n",
    "theft_years_occurences_summed_df.loc[(theft_years_occurences_summed_df['Licensed_GenModel']=='UNKNOWN')&(theft_years_occurences_summed_df['Manufacturer']=='LEXUS')&(theft_years_occurences_summed_df['Model_Possible'].str.startswith('GS300')), 'Licensed_GenModel'] = 'LEXUS GS 300'\n",
    "\n",
    "theft_years_occurences_summed_df.loc[(theft_years_occurences_summed_df['Licensed_GenModel']=='UNKNOWN')&(theft_years_occurences_summed_df['Manufacturer']=='MAZDA')&(theft_years_occurences_summed_df['Model_Possible'].str.startswith('RX7')), 'Licensed_GenModel'] = 'MAZDA RX-7'\n",
    "\n",
    "theft_years_occurences_summed_df.loc[(theft_years_occurences_summed_df['Licensed_GenModel']=='UNKNOWN')&(theft_years_occurences_summed_df['Manufacturer']=='MERCEDES')&(theft_years_occurences_summed_df['Model_Possible'].str.startswith('-BENZ V')), 'Licensed_GenModel'] = 'MERCEDES V CLASS'\n",
    "theft_years_occurences_summed_df.loc[(theft_years_occurences_summed_df['Licensed_GenModel']=='UNKNOWN')&(theft_years_occurences_summed_df['Manufacturer']=='MERCEDES')&(theft_years_occurences_summed_df['Model_Possible'].str.startswith('-BENZ X')), 'Licensed_GenModel'] = 'MERCEDES X CLASS'\n",
    "theft_years_occurences_summed_df.loc[(theft_years_occurences_summed_df['Licensed_GenModel']=='UNKNOWN')&(theft_years_occurences_summed_df['Manufacturer']=='MERCEDES')&(theft_years_occurences_summed_df['Model_Possible'].str.startswith('-BENZ SLK')), 'Licensed_GenModel'] = 'MERCEDES SLK CLASS'\n",
    "theft_years_occurences_summed_df.loc[(theft_years_occurences_summed_df['Licensed_GenModel']=='UNKNOWN')&(theft_years_occurences_summed_df['Manufacturer']=='MERCEDES')&(theft_years_occurences_summed_df['Model_Possible'].str.startswith('-BENZ SLC')), 'Licensed_GenModel'] = 'MERCEDES SLC CLASS'\n",
    "theft_years_occurences_summed_df.loc[(theft_years_occurences_summed_df['Licensed_GenModel']=='UNKNOWN')&(theft_years_occurences_summed_df['Manufacturer']=='MERCEDES')&(theft_years_occurences_summed_df['Model_Possible'].str.startswith('-BENZ S')), 'Licensed_GenModel'] = 'MERCEDES S CLASS'\n",
    "theft_years_occurences_summed_df.loc[(theft_years_occurences_summed_df['Licensed_GenModel']=='UNKNOWN')&(theft_years_occurences_summed_df['Manufacturer']=='MERCEDES')&(theft_years_occurences_summed_df['Model_Possible'].str.startswith('-BENZ R')), 'Licensed_GenModel'] = 'MERCEDES R CLASS'\n",
    "theft_years_occurences_summed_df.loc[(theft_years_occurences_summed_df['Licensed_GenModel']=='UNKNOWN')&(theft_years_occurences_summed_df['Manufacturer']=='MERCEDES')&(theft_years_occurences_summed_df['Model_Possible'].str.startswith('-BENZ ML')), 'Licensed_GenModel'] = 'MERCEDES ML CLASS'\n",
    "theft_years_occurences_summed_df.loc[(theft_years_occurences_summed_df['Licensed_GenModel']=='UNKNOWN')&(theft_years_occurences_summed_df['Manufacturer']=='MERCEDES')&(theft_years_occurences_summed_df['Model_Possible'].str.startswith('-BENZ AMG')), 'Licensed_GenModel'] = 'MERCEDES AMG CLASS'\n",
    "theft_years_occurences_summed_df.loc[(theft_years_occurences_summed_df['Licensed_GenModel']=='UNKNOWN')&(theft_years_occurences_summed_df['Manufacturer']=='MERCEDES')&(theft_years_occurences_summed_df['Model_Possible'].str.startswith('-BENZ GLE')), 'Licensed_GenModel'] = 'MERCEDES GLE CLASS'\n",
    "theft_years_occurences_summed_df.loc[(theft_years_occurences_summed_df['Licensed_GenModel']=='UNKNOWN')&(theft_years_occurences_summed_df['Manufacturer']=='MERCEDES')&(theft_years_occurences_summed_df['Model_Possible'].str.startswith('-BENZ GLS')), 'Licensed_GenModel'] = 'MERCEDES GLS CLASS'\n",
    "theft_years_occurences_summed_df.loc[(theft_years_occurences_summed_df['Licensed_GenModel']=='UNKNOWN')&(theft_years_occurences_summed_df['Manufacturer']=='MERCEDES')&(theft_years_occurences_summed_df['Model_Possible'].str.startswith('-BENZ GLC')), 'Licensed_GenModel'] = 'MERCEDES GLC CLASS'\n",
    "theft_years_occurences_summed_df.loc[(theft_years_occurences_summed_df['Licensed_GenModel']=='UNKNOWN')&(theft_years_occurences_summed_df['Manufacturer']=='MERCEDES')&(theft_years_occurences_summed_df['Model_Possible'].str.startswith('-BENZ GLA')), 'Licensed_GenModel'] = 'MERCEDES GLA CLASS'\n",
    "theft_years_occurences_summed_df.loc[(theft_years_occurences_summed_df['Licensed_GenModel']=='UNKNOWN')&(theft_years_occurences_summed_df['Manufacturer']=='MERCEDES')&(theft_years_occurences_summed_df['Model_Possible'].str.startswith('-BENZ GLB')), 'Licensed_GenModel'] = 'MERCEDES GLB CLASS'\n",
    "theft_years_occurences_summed_df.loc[(theft_years_occurences_summed_df['Licensed_GenModel']=='UNKNOWN')&(theft_years_occurences_summed_df['Manufacturer']=='MERCEDES')&(theft_years_occurences_summed_df['Model_Possible'].str.startswith('-BENZ GL')), 'Licensed_GenModel'] = 'MERCEDES GL CLASS'\n",
    "theft_years_occurences_summed_df.loc[(theft_years_occurences_summed_df['Licensed_GenModel']=='UNKNOWN')&(theft_years_occurences_summed_df['Manufacturer']=='MERCEDES')&(theft_years_occurences_summed_df['Model_Possible'].str.startswith('-BENZ G')), 'Licensed_GenModel'] = 'MERCEDES G CLASS'\n",
    "theft_years_occurences_summed_df.loc[(theft_years_occurences_summed_df['Licensed_GenModel']=='UNKNOWN')&(theft_years_occurences_summed_df['Manufacturer']=='MERCEDES')&(theft_years_occurences_summed_df['Model_Possible'].str.startswith('-BENZ E')), 'Licensed_GenModel'] = 'MERCEDES E CLASS'\n",
    "theft_years_occurences_summed_df.loc[(theft_years_occurences_summed_df['Licensed_GenModel']=='UNKNOWN')&(theft_years_occurences_summed_df['Manufacturer']=='MERCEDES')&(theft_years_occurences_summed_df['Model_Possible'].str.startswith('E')), 'Licensed_GenModel'] = 'MERCEDES E CLASS'\n",
    "theft_years_occurences_summed_df.loc[(theft_years_occurences_summed_df['Licensed_GenModel']=='UNKNOWN')&(theft_years_occurences_summed_df['Manufacturer']=='MERCEDES')&(theft_years_occurences_summed_df['Model_Possible'].str.startswith('GL')), 'Licensed_GenModel'] = 'MERCEDES GL CLASS'\n",
    "theft_years_occurences_summed_df.loc[(theft_years_occurences_summed_df['Licensed_GenModel']=='UNKNOWN')&(theft_years_occurences_summed_df['Manufacturer']=='MERCEDES')&(theft_years_occurences_summed_df['Model_Possible'].str.startswith('-BENZ C')), 'Licensed_GenModel'] = 'MERCEDES C CLASS'\n",
    "theft_years_occurences_summed_df.loc[(theft_years_occurences_summed_df['Licensed_GenModel']=='UNKNOWN')&(theft_years_occurences_summed_df['Manufacturer']=='MERCEDES')&(theft_years_occurences_summed_df['Model_Possible'].str.startswith('-BENZ A')), 'Licensed_GenModel'] = 'MERCEDES A CLASS'\n",
    "theft_years_occurences_summed_df.loc[(theft_years_occurences_summed_df['Licensed_GenModel']=='UNKNOWN')&(theft_years_occurences_summed_df['Manufacturer']=='MERCEDES')&(theft_years_occurences_summed_df['Model_Possible'].str.startswith('-BENZ CLS')), 'Licensed_GenModel'] = 'MERCEDES CLS CLASS'\n",
    "theft_years_occurences_summed_df.loc[(theft_years_occurences_summed_df['Licensed_GenModel']=='UNKNOWN')&(theft_years_occurences_summed_df['Manufacturer']=='MERCEDES')&(theft_years_occurences_summed_df['Model_Possible'].str.startswith('CLS')), 'Licensed_GenModel'] = 'MERCEDES CLS CLASS'\n",
    "theft_years_occurences_summed_df.loc[(theft_years_occurences_summed_df['Licensed_GenModel']=='UNKNOWN')&(theft_years_occurences_summed_df['Manufacturer']=='MERCEDES')&(theft_years_occurences_summed_df['Model_Possible'].str.startswith('CLK')), 'Licensed_GenModel'] = 'MERCEDES CLK CLASS'\n",
    "theft_years_occurences_summed_df.loc[(theft_years_occurences_summed_df['Licensed_GenModel']=='UNKNOWN')&(theft_years_occurences_summed_df['Manufacturer']=='MERCEDES')&(theft_years_occurences_summed_df['Model_Possible'].str.startswith('CL')), 'Licensed_GenModel'] = 'MERCEDES CL CLASS'\n",
    "theft_years_occurences_summed_df.loc[(theft_years_occurences_summed_df['Licensed_GenModel']=='UNKNOWN')&(theft_years_occurences_summed_df['Manufacturer']=='MERCEDES')&(theft_years_occurences_summed_df['Model_Possible'].str.startswith('C')), 'Licensed_GenModel'] = 'MERCEDES C CLASS'\n",
    "theft_years_occurences_summed_df.loc[(theft_years_occurences_summed_df['Licensed_GenModel']=='UNKNOWN')&(theft_years_occurences_summed_df['Manufacturer']=='MERCEDES')&(theft_years_occurences_summed_df['Model_Possible'].str.startswith('B')), 'Licensed_GenModel'] = 'MERCEDES B CLASS'\n",
    "theft_years_occurences_summed_df.loc[(theft_years_occurences_summed_df['Licensed_GenModel']=='UNKNOWN')&(theft_years_occurences_summed_df['Manufacturer']=='MERCEDES')&(theft_years_occurences_summed_df['Model_Possible'].str.startswith('A')), 'Licensed_GenModel'] = 'MERCEDES A CLASS'\n",
    "theft_years_occurences_summed_df.loc[(theft_years_occurences_summed_df['Licensed_GenModel']=='UNKNOWN')&(theft_years_occurences_summed_df['Manufacturer']=='MERCEDES')&(theft_years_occurences_summed_df['Model_Possible'].str.startswith('-BENZ VITO')), 'Licensed_GenModel'] = 'MERCEDES VITO'\n",
    "theft_years_occurences_summed_df.loc[(theft_years_occurences_summed_df['Licensed_GenModel']=='UNKNOWN')&(theft_years_occurences_summed_df['Manufacturer']=='MERCEDES')&(theft_years_occurences_summed_df['Model_Possible'].str.startswith('1')), 'Licensed_GenModel'] = 'MERCEDES 190'\n",
    "theft_years_occurences_summed_df.loc[(theft_years_occurences_summed_df['Licensed_GenModel']=='UNKNOWN')&(theft_years_occurences_summed_df['Manufacturer']=='MERCEDES')&(theft_years_occurences_summed_df['Model_Possible'].str.startswith('2')), 'Licensed_GenModel'] = 'MERCEDES 200'\n",
    "theft_years_occurences_summed_df.loc[(theft_years_occurences_summed_df['Licensed_GenModel']=='UNKNOWN')&(theft_years_occurences_summed_df['Manufacturer']=='MERCEDES')&(theft_years_occurences_summed_df['Model_Possible'].str.startswith('3')), 'Licensed_GenModel'] = 'MERCEDES 300'\n",
    "theft_years_occurences_summed_df.loc[(theft_years_occurences_summed_df['Licensed_GenModel']=='UNKNOWN')&(theft_years_occurences_summed_df['Manufacturer']=='MERCEDES')&(theft_years_occurences_summed_df['Model_Possible'].str.startswith('4')), 'Licensed_GenModel'] = 'MERCEDES 400'\n",
    "theft_years_occurences_summed_df.loc[(theft_years_occurences_summed_df['Licensed_GenModel']=='UNKNOWN')&(theft_years_occurences_summed_df['Manufacturer']=='MERCEDES')&(theft_years_occurences_summed_df['Model_Possible'].str.startswith('5')), 'Licensed_GenModel'] = 'MERCEDES 500'\n",
    "theft_years_occurences_summed_df.loc[(theft_years_occurences_summed_df['Licensed_GenModel']=='UNKNOWN')&(theft_years_occurences_summed_df['Manufacturer']=='MERCEDES')&(theft_years_occurences_summed_df['Model_Possible'].str.startswith('6')), 'Licensed_GenModel'] = 'MERCEDES 600'\n",
    "\n",
    "theft_years_occurences_summed_df.loc[(theft_years_occurences_summed_df['Licensed_GenModel']=='UNKNOWN')&(theft_years_occurences_summed_df['Manufacturer']=='NISSAN')&(theft_years_occurences_summed_df['Model_Possible'].str.startswith('XTRAIL')), 'Licensed_GenModel'] = 'NISSAN X-TRAIL'\n",
    "theft_years_occurences_summed_df.loc[(theft_years_occurences_summed_df['Licensed_GenModel']=='UNKNOWN')&(theft_years_occurences_summed_df['Manufacturer']=='NISSAN')&(theft_years_occurences_summed_df['Make/Model'].str.contains('NV200')), 'Licensed_GenModel'] = 'NISSAN NV200'\n",
    "\n",
    "theft_years_occurences_summed_df.loc[(theft_years_occurences_summed_df['Licensed_GenModel']=='UNKNOWN')&(theft_years_occurences_summed_df['Manufacturer']=='RENAULT')&(theft_years_occurences_summed_df['Model_Possible'].str.startswith('G-ESPACE')), 'Licensed_GenModel'] = 'RENAULT GRAND ESPACE'\n",
    "theft_years_occurences_summed_df.loc[(theft_years_occurences_summed_df['Licensed_GenModel']=='UNKNOWN')&(theft_years_occurences_summed_df['Manufacturer']=='RENAULT')&(theft_years_occurences_summed_df['Model_Possible'].str.startswith('GRD ESPACE')), 'Licensed_GenModel'] = 'RENAULT GRAND ESPACE'\n",
    "theft_years_occurences_summed_df.loc[(theft_years_occurences_summed_df['Licensed_GenModel']=='UNKNOWN')&(theft_years_occurences_summed_df['Manufacturer']=='RENAULT')&(theft_years_occurences_summed_df['Model_Possible'].str.startswith('GRND ESPACE')), 'Licensed_GenModel'] = 'RENAULT GRAND ESPACE'\n",
    "\n",
    "theft_years_occurences_summed_df.loc[(theft_years_occurences_summed_df['Licensed_GenModel']=='UNKNOWN')&(theft_years_occurences_summed_df['Manufacturer']=='ROVER')&(theft_years_occurences_summed_df['Model_Possible'].str.startswith('100')), 'Licensed_GenModel'] = 'ROVER 100 SERIES'\n",
    "theft_years_occurences_summed_df.loc[(theft_years_occurences_summed_df['Licensed_GenModel']=='UNKNOWN')&(theft_years_occurences_summed_df['Manufacturer']=='ROVER')&(theft_years_occurences_summed_df['Model_Possible'].str.startswith('111')), 'Licensed_GenModel'] = 'ROVER 100 SERIES'\n",
    "theft_years_occurences_summed_df.loc[(theft_years_occurences_summed_df['Licensed_GenModel']=='UNKNOWN')&(theft_years_occurences_summed_df['Manufacturer']=='ROVER')&(theft_years_occurences_summed_df['Model_Possible'].str.startswith('114')), 'Licensed_GenModel'] = 'ROVER 100 SERIES'\n",
    "\n",
    "theft_years_occurences_summed_df.loc[(theft_years_occurences_summed_df['Licensed_GenModel']=='UNKNOWN')&(theft_years_occurences_summed_df['Manufacturer']=='ROVER')&(theft_years_occurences_summed_df['Model_Possible'].str.startswith('200')), 'Licensed_GenModel'] = 'ROVER 200 SERIES'\n",
    "theft_years_occurences_summed_df.loc[(theft_years_occurences_summed_df['Licensed_GenModel']=='UNKNOWN')&(theft_years_occurences_summed_df['Manufacturer']=='ROVER')&(theft_years_occurences_summed_df['Model_Possible'].str.startswith('214')), 'Licensed_GenModel'] = 'ROVER 200 SERIES'\n",
    "theft_years_occurences_summed_df.loc[(theft_years_occurences_summed_df['Licensed_GenModel']=='UNKNOWN')&(theft_years_occurences_summed_df['Manufacturer']=='ROVER')&(theft_years_occurences_summed_df['Model_Possible'].str.startswith('216')), 'Licensed_GenModel'] = 'ROVER 200 SERIES'\n",
    "theft_years_occurences_summed_df.loc[(theft_years_occurences_summed_df['Licensed_GenModel']=='UNKNOWN')&(theft_years_occurences_summed_df['Manufacturer']=='ROVER')&(theft_years_occurences_summed_df['Model_Possible'].str.startswith('218')), 'Licensed_GenModel'] = 'ROVER 200 SERIES'\n",
    "theft_years_occurences_summed_df.loc[(theft_years_occurences_summed_df['Licensed_GenModel']=='UNKNOWN')&(theft_years_occurences_summed_df['Manufacturer']=='ROVER')&(theft_years_occurences_summed_df['Model_Possible'].str.startswith('220')), 'Licensed_GenModel'] = 'ROVER 200 SERIES'\n",
    "\n",
    "theft_years_occurences_summed_df.loc[(theft_years_occurences_summed_df['Licensed_GenModel']=='UNKNOWN')&(theft_years_occurences_summed_df['Manufacturer']=='ROVER')&(theft_years_occurences_summed_df['Model_Possible'].str.startswith('414')), 'Licensed_GenModel'] = 'ROVER 400 SERIES'\n",
    "theft_years_occurences_summed_df.loc[(theft_years_occurences_summed_df['Licensed_GenModel']=='UNKNOWN')&(theft_years_occurences_summed_df['Manufacturer']=='ROVER')&(theft_years_occurences_summed_df['Model_Possible'].str.startswith('416')), 'Licensed_GenModel'] = 'ROVER 400 SERIES'\n",
    "\n",
    "\n",
    "theft_years_occurences_summed_df.loc[(theft_years_occurences_summed_df['Licensed_GenModel']=='UNKNOWN')&(theft_years_occurences_summed_df['Manufacturer']=='TOYOTA')&(theft_years_occurences_summed_df['Model_Possible'].str.startswith('HI ACE')), 'Licensed_GenModel'] = 'TOYOTA HIACE'\n",
    "theft_years_occurences_summed_df.loc[(theft_years_occurences_summed_df['Licensed_GenModel']=='UNKNOWN')&(theft_years_occurences_summed_df['Manufacturer']=='TOYOTA')&(theft_years_occurences_summed_df['Model_Possible'].str.startswith('HI LUX')), 'Licensed_GenModel'] = 'TOYOTA HILUX'\n",
    "theft_years_occurences_summed_df.loc[(theft_years_occurences_summed_df['Licensed_GenModel']=='UNKNOWN')&(theft_years_occurences_summed_df['Manufacturer']=='TOYOTA')&(theft_years_occurences_summed_df['Model_Possible'].str.startswith('HI-LUX')), 'Licensed_GenModel'] = 'TOYOTA HILUX'\n",
    "\n",
    "\n",
    "theft_years_occurences_summed_df.loc[(theft_years_occurences_summed_df['Licensed_GenModel']=='UNKNOWN')&(theft_years_occurences_summed_df['Manufacturer']=='TOYOTA')&(theft_years_occurences_summed_df['Model_Possible'].str.startswith('LAND CRUISER')), 'Licensed_GenModel'] = 'TOYOTA LANDCRUISER'\n",
    "\n",
    "theft_years_occurences_summed_df.loc[(theft_years_occurences_summed_df['Licensed_GenModel']=='UNKNOWN')&(theft_years_occurences_summed_df['Manufacturer']=='TVR')&(theft_years_occurences_summed_df['Model_Possible'].str.startswith('CHIMAERA')), 'Licensed_GenModel'] = 'TVR CHIMERA'\n",
    "\n",
    "theft_years_occurences_summed_df.loc[(theft_years_occurences_summed_df['Licensed_GenModel']=='UNKNOWN')&(theft_years_occurences_summed_df['Manufacturer']=='VAUXHALL')&(theft_years_occurences_summed_df['Model_Possible'].str.startswith('INSIG')), 'Licensed_GenModel'] = 'VAUXHALL INSIGNIA'\n",
    "\n",
    "\n",
    "theft_years_occurences_summed_df.loc[(theft_years_occurences_summed_df['Licensed_GenModel']=='UNKNOWN')&(theft_years_occurences_summed_df['Manufacturer']=='VOLKSWAGEN')&(theft_years_occurences_summed_df['Model_Possible'].str.startswith('T-SPORTER')), 'Licensed_GenModel'] = 'VOLKSWAGEN TRANSPORTER'\n",
    "theft_years_occurences_summed_df.loc[(theft_years_occurences_summed_df['Licensed_GenModel']=='UNKNOWN')&(theft_years_occurences_summed_df['Manufacturer']=='VOLKSWAGEN')&(theft_years_occurences_summed_df['Model_Possible'].str.startswith('T-PORTER')), 'Licensed_GenModel'] = 'VOLKSWAGEN TRANSPORTER'\n",
    "theft_years_occurences_summed_df.loc[(theft_years_occurences_summed_df['Licensed_GenModel']=='UNKNOWN')&(theft_years_occurences_summed_df['Manufacturer']=='VOLKSWAGEN')&(theft_years_occurences_summed_df['Model_Possible'].str.startswith('TR-PORTER')), 'Licensed_GenModel'] = 'VOLKSWAGEN TRANSPORTER'\n",
    "theft_years_occurences_summed_df.loc[(theft_years_occurences_summed_df['Licensed_GenModel']=='UNKNOWN')&(theft_years_occurences_summed_df['Manufacturer']=='VOLKSWAGEN')&(theft_years_occurences_summed_df['Model_Possible'].str.startswith('TPORTER')), 'Licensed_GenModel'] = 'VOLKSWAGEN TRANSPORTER'\n",
    "theft_years_occurences_summed_df.loc[(theft_years_occurences_summed_df['Licensed_GenModel']=='UNKNOWN')&(theft_years_occurences_summed_df['Manufacturer']=='VOLKSWAGEN')&(theft_years_occurences_summed_df['Model_Possible'].str.startswith('TR-SPORTER')), 'Licensed_GenModel'] = 'VOLKSWAGEN TRANSPORTER'\n",
    "theft_years_occurences_summed_df.loc[(theft_years_occurences_summed_df['Licensed_GenModel']=='UNKNOWN')&(theft_years_occurences_summed_df['Manufacturer']=='VOLKSWAGEN')&(theft_years_occurences_summed_df['Model_Possible'].str.startswith('TRANS')), 'Licensed_GenModel'] = 'VOLKSWAGEN TRANSPORTER'\n",
    "theft_years_occurences_summed_df.loc[(theft_years_occurences_summed_df['Licensed_GenModel']=='UNKNOWN')&(theft_years_occurences_summed_df['Manufacturer']=='VOLKSWAGEN')&(theft_years_occurences_summed_df['Model_Possible'].str.startswith('TRANSP')), 'Licensed_GenModel'] = 'VOLKSWAGEN TRANSPORTER'\n",
    "theft_years_occurences_summed_df.loc[(theft_years_occurences_summed_df['Licensed_GenModel']=='UNKNOWN')&(theft_years_occurences_summed_df['Manufacturer']=='VOLKSWAGEN')&(theft_years_occurences_summed_df['Model_Possible'].str.startswith('TRAN-ER')), 'Licensed_GenModel'] = 'VOLKSWAGEN TRANSPORTER'\n",
    "theft_years_occurences_summed_df.loc[(theft_years_occurences_summed_df['Licensed_GenModel']=='UNKNOWN')&(theft_years_occurences_summed_df['Manufacturer']=='VOLKSWAGEN')&(theft_years_occurences_summed_df['Model_Possible'].str.startswith('TR-PRTER')), 'Licensed_GenModel'] = 'VOLKSWAGEN TRANSPORTER'\n",
    "\n",
    "theft_years_occurences_summed_df.loc[(theft_years_occurences_summed_df['Licensed_GenModel']=='UNKNOWN')&(theft_years_occurences_summed_df['Manufacturer']=='VOLVO')&(theft_years_occurences_summed_df['Model_Possible'].str.startswith('XC 90')), 'Licensed_GenModel'] = 'VOLVO XC90'\n",
    "\n",
    "\n"
   ]
  },
  {
   "cell_type": "code",
   "execution_count": null,
   "id": "720d59b6",
   "metadata": {},
   "outputs": [],
   "source": [
    "print(len(theft_years_occurences_summed_df.loc[(theft_years_occurences_summed_df['Licensed_GenModel']=='UNKNOWN')&(theft_years_occurences_summed_df['Manufacturer']!='UNKNOWN')&(theft_years_occurences_summed_df['Year Manufacture/First Reg']>1985)]))"
   ]
  },
  {
   "cell_type": "code",
   "execution_count": null,
   "id": "fa65251f",
   "metadata": {},
   "outputs": [],
   "source": [
    "theft_years_occurences_summed_df.loc[(theft_years_occurences_summed_df['Licensed_GenModel']=='UNKNOWN')&(theft_years_occurences_summed_df['Manufacturer']!='UNKNOWN')&(theft_years_occurences_summed_df['Year Manufacture/First Reg']>1985)][-3050:-3001]"
   ]
  },
  {
   "cell_type": "code",
   "execution_count": null,
   "id": "b53c5ff6",
   "metadata": {},
   "outputs": [],
   "source": [
    "licensed_vehicle_df.loc[(licensed_vehicle_df['Make']=='FIAT')]['GenModel'].unique()"
   ]
  },
  {
   "cell_type": "code",
   "execution_count": null,
   "id": "57baf8c7",
   "metadata": {},
   "outputs": [],
   "source": [
    "theft_years_occurences_summed_df.to_csv(r\"C:\\Users\\benwa\\vehicle_features\\Products - Documents\\03_Vehicle_File\\03_Cleaned_Data_Sources\\DVLA\\theft_data_2018_2022_cleaned.csv\")"
   ]
  },
  {
   "cell_type": "code",
   "execution_count": null,
   "id": "20d8879e",
   "metadata": {},
   "outputs": [],
   "source": [
    "theft_years_occurences_summed_df.loc[theft_years_occurences_summed_df['Licensed_GenModel']=='UNKNOWN']"
   ]
  },
  {
   "cell_type": "code",
   "execution_count": null,
   "id": "4d2237c1",
   "metadata": {},
   "outputs": [],
   "source": [
    "licensed_vehicle_df.loc[(licensed_vehicle_df['Make']=='BMW')]['Model'].unique()\n"
   ]
  },
  {
   "cell_type": "code",
   "execution_count": null,
   "id": "e6f2790d",
   "metadata": {},
   "outputs": [],
   "source": [
    "theft_years_occurences_summed_df['Model_Possible'] = theft_years_occurences_summed_df.apply(lambda x: x['Make/Model'].replace(x['Manufacturer'], '').strip(), axis = 1)"
   ]
  },
  {
   "cell_type": "markdown",
   "id": "6a5dbff3",
   "metadata": {},
   "source": [
    "## Re-Name"
   ]
  },
  {
   "cell_type": "code",
   "execution_count": null,
   "id": "15a5c538",
   "metadata": {},
   "outputs": [],
   "source": [
    "theft_years_summed_df = theft_years_occurences_summed_df.rename(columns={'Manufacturer':'Licensed_Manfacturer', 'Model':'Licensed_Model'})"
   ]
  },
  {
   "cell_type": "code",
   "execution_count": null,
   "id": "c62e53fb",
   "metadata": {},
   "outputs": [],
   "source": [
    "theft_years_summed_df.loc[theft_years_summed_df['Licensed_Manfacturer']=='UNKNOWN']['Make/Model'].unique()\n"
   ]
  },
  {
   "cell_type": "code",
   "execution_count": null,
   "id": "75990541",
   "metadata": {},
   "outputs": [],
   "source": [
    "len(theft_years_summed_df.loc[theft_years_summed_df['Licensed_Manfacturer']=='UNKNOWN'])"
   ]
  },
  {
   "cell_type": "markdown",
   "id": "2b0e7ce1",
   "metadata": {},
   "source": [
    "## Formatting"
   ]
  },
  {
   "cell_type": "code",
   "execution_count": null,
   "id": "87eb119c",
   "metadata": {},
   "outputs": [],
   "source": [
    "theft_years_summed_df.loc[(theft_years_summed_df['Licensed_Manfacturer']=='UNKNOWN'), 'Make/Model'] = theft_years_summed_df.loc[(theft_years_summed_df['Licensed_Manfacturer']=='UNKNOWN')]['Make/Model'].replace('VW', 'VOLKSWAGEN')\n",
    "\n",
    "theft_years_summed_df.loc[(theft_years_summed_df['Licensed_Manfacturer']=='UNKNOWN'), 'Make/Model'] = theft_years_summed_df.loc[(theft_years_summed_df['Licensed_Manfacturer']=='UNKNOWN')]['Make/Model'].replace('V W', 'VOLKSWAGEN')\n",
    "\n",
    "theft_years_summed_df['Licensed_Manfacturer'] = theft_years_summed_df['Make/Model'].apply(lambda x: extract_make_func(x))\n"
   ]
  },
  {
   "cell_type": "code",
   "execution_count": null,
   "id": "354ed882",
   "metadata": {},
   "outputs": [],
   "source": [
    "theft_years_summed_with_make_and_model_df = theft_years_summed_df.loc[(theft_years_summed_df['Licensed_Model']!='UNKNOWN')&(pd.isnull(theft_years_summed_df['Licensed_Model'])==False)]\n",
    "\n",
    "theft_years_summed_with_make_and_model_df\n"
   ]
  },
  {
   "cell_type": "markdown",
   "id": "4500db32",
   "metadata": {},
   "source": [
    "- Matches been found where they shouldn't"
   ]
  },
  {
   "cell_type": "code",
   "execution_count": null,
   "id": "d385fd41",
   "metadata": {},
   "outputs": [],
   "source": [
    "theft_years_summed_df.loc[(theft_years_summed_df['Licensed_Model']!='UNKNOWN')&(pd.isnull(theft_years_summed_df['Licensed_Model'])==False)&(theft_years_summed_df['Licensed_Manfacturer'].isin(vehicle_features_manufacturers_upper_list))]\n"
   ]
  },
  {
   "cell_type": "code",
   "execution_count": null,
   "id": "ee8d83f7",
   "metadata": {},
   "outputs": [],
   "source": [
    "licensed_vehicle_with_trim_df = licensed_vehicle_df.copy()\n",
    "licensed_vehicle_with_trim_df.insert(4, 'Trim_Engine', '')"
   ]
  },
  {
   "cell_type": "code",
   "execution_count": null,
   "id": "a338aac7",
   "metadata": {},
   "outputs": [],
   "source": [
    "licensed_vehicle_with_trim_df['Trim_Engine'] = licensed_vehicle_with_trim_df.apply(lambda x: x['Model'].replace((x['GenModel'].replace(x['Make'], '').strip()), '').strip(), axis = 1)"
   ]
  },
  {
   "cell_type": "code",
   "execution_count": null,
   "id": "a767abe0",
   "metadata": {},
   "outputs": [],
   "source": [
    "licensed_trims = licensed_vehicle_with_trim_df['Trim_Engine'].unique()\n",
    "licensed_trims"
   ]
  },
  {
   "cell_type": "code",
   "execution_count": null,
   "id": "64a24520",
   "metadata": {},
   "outputs": [],
   "source": [
    "licensed_vehicle_with_trim_df"
   ]
  },
  {
   "cell_type": "code",
   "execution_count": null,
   "id": "3406f949",
   "metadata": {},
   "outputs": [],
   "source": [
    "licensed_vehicle_with_trim_df"
   ]
  },
  {
   "cell_type": "markdown",
   "id": "ec10f906",
   "metadata": {},
   "source": [
    "## How many of each make model and trim"
   ]
  },
  {
   "cell_type": "code",
   "execution_count": null,
   "id": "e1669f20",
   "metadata": {},
   "outputs": [],
   "source": [
    "# Full model and trim count with year\n",
    "full_model_trim_count = {2022: {}, 2021: {}, 2020: {}, 2019: {}, 2018: {}}\n",
    "for i, row in licensed_vehicle_with_trim_df.iterrows():\n",
    "    if i % 20000 == 0:\n",
    "        print(i)\n",
    "    model = row[\"GenModel\"]\n",
    "    trim = row['Trim_Engine']\n",
    "    for k in full_model_trim_count:\n",
    "        if model not in full_model_trim_count[k].keys():\n",
    "            full_model_trim_count[k][model] = {}\n",
    "        if trim not in full_model_trim_count[k][model].keys():\n",
    "            full_model_trim_count[k][model][trim] = 0\n",
    "        if row[str(k)] != \"[z]\":\n",
    "            full_model_trim_count[k][model][trim] += int(row[str(k)])"
   ]
  },
  {
   "cell_type": "code",
   "execution_count": null,
   "id": "cbb3e017",
   "metadata": {},
   "outputs": [],
   "source": [
    "full_model_trim_count[2022]"
   ]
  },
  {
   "cell_type": "code",
   "execution_count": null,
   "id": "7cfab56e",
   "metadata": {},
   "outputs": [],
   "source": [
    "import pickle\n",
    "\n",
    "with open(r\"C:\\Users\\benwa\\vehicle_features\\Products - Documents\\03_Vehicle_File\\03_Cleaned_Data_Sources\\DVLA\\licensed_vehicles_make_model_trim_dict.pkl\", 'wb') as handle:\n",
    "    pickle.dump(full_model_trim_count, handle, protocol=pickle.HIGHEST_PROTOCOL)\n",
    "\n",
    "#with open(r\"C:\\Users\\benwa\\vehicle_features\\Products - Documents\\03_Vehicle_File\\03_Cleaned_Data_Sources\\DVLA\\licensed_vehicles_make_model_trim_dict.pkl\", 'rb') as handle:\n",
    "    #full_model_trim_count_loaded = pickle.load(handle)"
   ]
  },
  {
   "cell_type": "code",
   "execution_count": null,
   "id": "f3a8035d",
   "metadata": {},
   "outputs": [],
   "source": [
    "full_model_trim_count_loaded"
   ]
  },
  {
   "cell_type": "markdown",
   "id": "8fe07677",
   "metadata": {},
   "source": [
    "## Count of each make Manufacturer, Model, Trim and Year"
   ]
  },
  {
   "cell_type": "code",
   "execution_count": null,
   "id": "27b58731",
   "metadata": {},
   "outputs": [],
   "source": [
    "licensed_vehicle_with_trim_df"
   ]
  },
  {
   "cell_type": "code",
   "execution_count": null,
   "id": "bed88b4c",
   "metadata": {},
   "outputs": [],
   "source": [
    "# Full model and trim count with year\n",
    "full_model_trim_manufacture_year_count = {2022: {}, 2021: {}, 2020: {}, 2019: {}, 2018: {}}\n",
    "for i, row in licensed_vehicle_with_trim_df.iterrows():\n",
    "    if i % 20000 == 0:\n",
    "        print(i)\n",
    "    model = row[\"GenModel\"]\n",
    "    trim = row['Trim_Engine']\n",
    "    manufacture_year = row['YearManufacture']\n",
    "    for k in full_model_trim_manufacture_year_count:\n",
    "        if model not in full_model_trim_manufacture_year_count[k].keys():\n",
    "            full_model_trim_manufacture_year_count[k][model] = {}\n",
    "        if trim not in full_model_trim_manufacture_year_count[k][model].keys():\n",
    "            full_model_trim_manufacture_year_count[k][model][trim] = {}\n",
    "        if manufacture_year not in full_model_trim_manufacture_year_count[k][model][trim].keys():\n",
    "            full_model_trim_manufacture_year_count[k][model][trim][manufacture_year] = 0\n",
    "        if row[str(k)] != \"[z]\":\n",
    "            full_model_trim_manufacture_year_count[k][model][trim][manufacture_year] += int(row[str(k)])"
   ]
  },
  {
   "cell_type": "code",
   "execution_count": null,
   "id": "79cb6bda",
   "metadata": {},
   "outputs": [],
   "source": [
    "full_model_trim_manufacture_year_count"
   ]
  },
  {
   "cell_type": "code",
   "execution_count": null,
   "id": "8e7f4a3c",
   "metadata": {},
   "outputs": [],
   "source": [
    "import pickle\n",
    "\n",
    "with open(r\"C:\\Users\\benwa\\vehicle_features\\Products - Documents\\03_Vehicle_File\\03_Cleaned_Data_Sources\\DVLA\\licensed_vehicles_make_model_trim_manufactureYear_dict.pkl\", 'wb') as handle:\n",
    "    pickle.dump(full_model_trim_manufacture_year_count, handle, protocol=pickle.HIGHEST_PROTOCOL)\n"
   ]
  },
  {
   "cell_type": "code",
   "execution_count": null,
   "id": "5591c0c1",
   "metadata": {},
   "outputs": [],
   "source": [
    "licensed_vehicle_df"
   ]
  },
  {
   "cell_type": "code",
   "execution_count": null,
   "id": "3988554d",
   "metadata": {},
   "outputs": [],
   "source": [
    "licensed_vehicle_df"
   ]
  },
  {
   "cell_type": "code",
   "execution_count": null,
   "id": "29dcba4a",
   "metadata": {},
   "outputs": [],
   "source": [
    "theft_years_summed_with_make_and_model_df"
   ]
  },
  {
   "cell_type": "code",
   "execution_count": null,
   "id": "7645eb1e",
   "metadata": {},
   "outputs": [],
   "source": [
    "full_model_trim_manufacture_year_count"
   ]
  },
  {
   "cell_type": "code",
   "execution_count": null,
   "id": "09c3d562",
   "metadata": {},
   "outputs": [],
   "source": [
    "theft_years_summed_with_make_and_model_df['Trim_Engine'] = theft_years_summed_with_make_and_model_df.apply(lambda x: x['Make/Model'].replace(x['Licensed_Manfacturer'], '').replace(x['Licensed_Model'], '').strip(), axis=1)"
   ]
  },
  {
   "cell_type": "code",
   "execution_count": null,
   "id": "dd55ec21",
   "metadata": {},
   "outputs": [],
   "source": [
    "theft_years_summed_with_make_and_model_df"
   ]
  },
  {
   "cell_type": "markdown",
   "id": "0cec9235",
   "metadata": {},
   "source": [
    "- How many trims match?"
   ]
  },
  {
   "cell_type": "code",
   "execution_count": null,
   "id": "cd2a10b2",
   "metadata": {},
   "outputs": [],
   "source": [
    "theft_years_summed_with_make_and_model_df.loc[theft_years_summed_with_make_and_model_df['Licensed_Manfacturer']=='AUDI']['Trim_Engine'].unique()"
   ]
  },
  {
   "cell_type": "code",
   "execution_count": null,
   "id": "a2e91505",
   "metadata": {},
   "outputs": [],
   "source": [
    "licensed_vehicle_with_trim_df.loc[licensed_vehicle_with_trim_df['Make']=='AUDI']['Trim_Engine'].unique()\n"
   ]
  },
  {
   "cell_type": "code",
   "execution_count": null,
   "id": "68905452",
   "metadata": {},
   "outputs": [],
   "source": [
    "theft_trims = theft_years_summed_with_make_and_model_df['Trim_Engine'].unique()\n",
    "theft_trims"
   ]
  },
  {
   "cell_type": "code",
   "execution_count": null,
   "id": "2fea3999",
   "metadata": {},
   "outputs": [],
   "source": [
    "len(theft_trims)"
   ]
  },
  {
   "cell_type": "code",
   "execution_count": null,
   "id": "d0e4f58d",
   "metadata": {},
   "outputs": [],
   "source": [
    "trims_exact_match = 0\n",
    "for val in theft_trims:\n",
    "    if val in licensed_trims:\n",
    "        trims_exact_match+=1\n",
    "trims_exact_match"
   ]
  },
  {
   "cell_type": "markdown",
   "id": "f21a9861",
   "metadata": {},
   "source": [
    "- Josh's approach"
   ]
  },
  {
   "cell_type": "code",
   "execution_count": null,
   "id": "142c8f58",
   "metadata": {},
   "outputs": [],
   "source": [
    "models = list(set(licensed_vehicle_df[\"GenModel\"]))\n",
    "matched = {}\n",
    "x = 0\n",
    "for i in range(len(models)):\n",
    "    if i % 100 == 0:\n",
    "        print(i)\n",
    "    matched[models[i]] = list(theft_years_summed_df[theft_years_summed_df[\"Make/Model\"].apply(lambda x: models[i].upper() in x.upper())][\"Make/Model\"])\n",
    "    "
   ]
  },
  {
   "cell_type": "code",
   "execution_count": null,
   "id": "cc75dc80",
   "metadata": {},
   "outputs": [],
   "source": [
    "matched"
   ]
  },
  {
   "cell_type": "code",
   "execution_count": null,
   "id": "c9ebd94f",
   "metadata": {},
   "outputs": [],
   "source": [
    "tally_licensed=0\n",
    "\n",
    "tally_theft_make_model = 0\n",
    "\n",
    "for val in matched:\n",
    "    if matched[val]!=[]:\n",
    "        tally_licensed+=1\n",
    "        tally_theft_make_model+=len(matched[val])\n",
    "print(tally_licensed)\n",
    "print(tally_theft_make_model)"
   ]
  },
  {
   "cell_type": "code",
   "execution_count": null,
   "id": "e691dd1e",
   "metadata": {},
   "outputs": [],
   "source": [
    "theft_years_summed_df.loc[((theft_years_summed_df['Licensed_Model']=='UNKNOWN')|(pd.isnull(theft_years_summed_df['Licensed_Model'])==True))&(theft_years_summed_df['Licensed_Manfacturer']!='UNKNOWN')&(theft_years_summed_df['Licensed_Manfacturer'].isin(vehicle_features_manufacturers_upper_list))]['Make/Model'].unique()"
   ]
  },
  {
   "cell_type": "code",
   "execution_count": null,
   "id": "099cc374",
   "metadata": {},
   "outputs": [],
   "source": [
    "theft_years_summed_df.loc[((theft_years_summed_df['Licensed_Model']=='UNKNOWN')|(pd.isnull(theft_years_summed_df['Licensed_Model'])==True))&(theft_years_summed_df['Licensed_Manfacturer']!='UNKNOWN')&(theft_years_summed_df['Licensed_Manfacturer'].isin(vehicle_features_manufacturers_upper_list))]"
   ]
  },
  {
   "cell_type": "code",
   "execution_count": null,
   "id": "e3270863",
   "metadata": {},
   "outputs": [],
   "source": [
    "current_vehicle_file_df.loc[current_vehicle_file_df['Manufacturer']=='AC']"
   ]
  },
  {
   "cell_type": "markdown",
   "id": "ff1a6815",
   "metadata": {},
   "source": [
    "## Looking at trim"
   ]
  },
  {
   "cell_type": "code",
   "execution_count": null,
   "id": "4c7ef6bb",
   "metadata": {},
   "outputs": [],
   "source": [
    "GenModel_found_df = theft_years_occurences_summed_df.loc[theft_years_occurences_summed_df['Licensed_GenModel']!='UNKNOWN']\n",
    "\n",
    "GenModel_found_df"
   ]
  },
  {
   "cell_type": "code",
   "execution_count": null,
   "id": "cd8ae91c",
   "metadata": {},
   "outputs": [],
   "source": [
    "GenModel_found_df['Trim_Engine'] = GenModel_found_df.apply(lambda x: x['Make/Model'].replace(x['Licensed_GenModel'], ''), axis = 1)"
   ]
  },
  {
   "cell_type": "code",
   "execution_count": null,
   "id": "d3c8038b",
   "metadata": {},
   "outputs": [],
   "source": [
    "GenModel_found_df"
   ]
  },
  {
   "cell_type": "code",
   "execution_count": null,
   "id": "48544c9e",
   "metadata": {},
   "outputs": [],
   "source": [
    "GenModel_found_df['Licensed_Trim_Engine'] = ''"
   ]
  },
  {
   "cell_type": "code",
   "execution_count": null,
   "id": "7ed756d8",
   "metadata": {},
   "outputs": [],
   "source": [
    "GenModel_found_df.loc[GenModel_found_df['Manufacturer']=='AUDI']"
   ]
  },
  {
   "cell_type": "code",
   "execution_count": null,
   "id": "28a5791b",
   "metadata": {},
   "outputs": [],
   "source": [
    "GenModel_found_df.to_csv(r\"C:\\Users\\benwa\\vehicle_features\\Products - Documents\\03_Vehicle_File\\03_Cleaned_Data_Sources\\DVLA\\theft_data_trim_split_2018_2022_cleaned.csv\")"
   ]
  },
  {
   "cell_type": "code",
   "execution_count": null,
   "id": "6fe0745f",
   "metadata": {},
   "outputs": [],
   "source": [
    "licensed_vehicle_df.head()"
   ]
  },
  {
   "cell_type": "code",
   "execution_count": null,
   "id": "f988ca9d",
   "metadata": {},
   "outputs": [],
   "source": [
    "def get_licensed_trim(manufacturer, gen_model, full_model):\n",
    "    #manufacturer = x['Make']\n",
    "    #gen_model = x['GenModel']\n",
    "    #full_model = x['Model']\n",
    "    \n",
    "    gen_model_make_removed = gen_model.replace(manufacturer, '').strip()\n",
    "    \n",
    "    trim = full_model.replace(gen_model_make_removed, '').strip()\n",
    "    return trim\n",
    "\n",
    "licensed_vehicle_df['Licensed_Trim'] = licensed_vehicle_df.apply(lambda x: get_licensed_trim(x['Make'], x['GenModel'], x['Model']), axis = 1)"
   ]
  },
  {
   "cell_type": "code",
   "execution_count": null,
   "id": "4c896985",
   "metadata": {},
   "outputs": [],
   "source": [
    "licensed_vehicle_df"
   ]
  },
  {
   "cell_type": "code",
   "execution_count": null,
   "id": "293f9f02",
   "metadata": {},
   "outputs": [],
   "source": [
    "licensed_make_model_trim = {}\n",
    "for manufacturer_val in licensed_manufacturers:\n",
    "    manufacturer_dict = {manufacturer_val : {}}\n",
    "    licensed_make_model_trim = {**licensed_make_model_trim, **manufacturer_dict}\n",
    "    gen_models = list(licensed_vehicle_df.loc[licensed_vehicle_df['Make'] == manufacturer_val]['GenModel'].unique())\n",
    "    for gen_model_val in gen_models:\n",
    "        trim_engines = list(licensed_vehicle_df.loc[(licensed_vehicle_df['Make'] == manufacturer_val)&(licensed_vehicle_df['GenModel'] == gen_model_val)]['Licensed_Trim'].unique())\n",
    "        licensed_make_model_trim[manufacturer_val][gen_model_val] = trim_engines\n",
    "#licensed_vehicle_df"
   ]
  },
  {
   "cell_type": "code",
   "execution_count": null,
   "id": "ece05531",
   "metadata": {},
   "outputs": [],
   "source": [
    "licensed_make_model_trim"
   ]
  },
  {
   "cell_type": "markdown",
   "id": "b6628c37",
   "metadata": {},
   "source": [
    "- Saving output (dictionary) as a pickle file"
   ]
  },
  {
   "cell_type": "code",
   "execution_count": null,
   "id": "d2390ffb",
   "metadata": {},
   "outputs": [],
   "source": [
    "import pickle"
   ]
  },
  {
   "cell_type": "code",
   "execution_count": null,
   "id": "1102d85c",
   "metadata": {},
   "outputs": [],
   "source": [
    "output = open(r\"C:\\Users\\benwa\\vehicle_features\\Products - Documents\\03_Vehicle_File\\03_Cleaned_Data_Sources\\DVLA\\licensed_make_genModel_trim.pkl\", 'wb')\n",
    "pickle.dump(licensed_make_model_trim, output)\n",
    "output.close()\n",
    "\n",
    "# read python dict back from the file\n",
    "pkl_file = open(r\"C:\\Users\\benwa\\vehicle_features\\Products - Documents\\03_Vehicle_File\\03_Cleaned_Data_Sources\\DVLA\\licensed_make_genModel_trim.pkl\", 'rb')\n",
    "licensed_make_model_trim_loaded = pickle.load(pkl_file)\n",
    "pkl_file.close()"
   ]
  },
  {
   "cell_type": "code",
   "execution_count": null,
   "id": "fef7f98b",
   "metadata": {},
   "outputs": [],
   "source": [
    "GenModel_found_df"
   ]
  },
  {
   "cell_type": "markdown",
   "id": "b37221bf",
   "metadata": {},
   "source": [
    "- Corrections"
   ]
  },
  {
   "cell_type": "code",
   "execution_count": null,
   "id": "89040886",
   "metadata": {},
   "outputs": [],
   "source": [
    "GenModel_found_df.loc[GenModel_found_df['Licensed_GenModel']=='ACCESS 450', 'Manufacturer'] = 'ACCESS'\n",
    "GenModel_found_df.loc[GenModel_found_df['Licensed_GenModel'].str.contains('ACCESS'), 'Manufacturer'] = 'ACCESS'\n",
    "GenModel_found_df.loc[GenModel_found_df['Licensed_GenModel'].str.contains('ALFA ROMEO'), 'Manufacturer'] = 'ALFA ROMEO'\n",
    "\n",
    "GenModel_found_df.loc[GenModel_found_df['Licensed_GenModel']=='ALFA ROMEO33', 'Licensed_GenModel'] = 'ALFA ROMEO 33'\n"
   ]
  },
  {
   "cell_type": "code",
   "execution_count": null,
   "id": "e0248c16",
   "metadata": {},
   "outputs": [],
   "source": [
    "GenModel_found_df['Manufacturer'] = GenModel_found_df['Manufacturer'].apply(lambda x: x.strip())\n",
    "GenModel_found_df['Licensed_GenModel'] = GenModel_found_df['Licensed_GenModel'].apply(lambda x: x.strip())"
   ]
  },
  {
   "cell_type": "code",
   "execution_count": null,
   "id": "dfd2b38a",
   "metadata": {},
   "outputs": [],
   "source": [
    "licensed_manufacturers = list(licensed_manufacturers)\n",
    "licensed_manufacturers.sort(key=len, reverse=True)\n",
    "licensed_manufacturers[:5]"
   ]
  },
  {
   "cell_type": "code",
   "execution_count": null,
   "id": "0bda04c4",
   "metadata": {},
   "outputs": [],
   "source": [
    "def check_licences_manufacturers(manufacturer, make_model):\n",
    "    for val in licensed_manufacturers:\n",
    "        if val in make_model:\n",
    "            correct_manufacturer = val\n",
    "            break\n",
    "        else:\n",
    "            correct_manufacturer = manufacturer\n",
    "    return correct_manufacturer\n",
    "\n",
    "GenModel_found_df['Manufacturer'] = GenModel_found_df.apply(lambda x: check_licences_manufacturers(x['Manufacturer'], x['Make/Model']), axis = 1)\n"
   ]
  },
  {
   "cell_type": "code",
   "execution_count": null,
   "id": "2a99dbdf",
   "metadata": {},
   "outputs": [],
   "source": [
    "GenModel_found_df = GenModel_found_df.drop(GenModel_found_df.loc[GenModel_found_df['Licensed_GenModel']=='AJSDESERT SCRAMBLER'].index)\n",
    "GenModel_found_df = GenModel_found_df.drop(GenModel_found_df.loc[GenModel_found_df['Licensed_GenModel']=='AJS NAC 12'].index)"
   ]
  },
  {
   "cell_type": "code",
   "execution_count": null,
   "id": "974236b9",
   "metadata": {},
   "outputs": [],
   "source": [
    "GenModel_found_df.loc[GenModel_found_df['Licensed_GenModel']=='ABARTH 595']"
   ]
  },
  {
   "cell_type": "code",
   "execution_count": null,
   "id": "51069045",
   "metadata": {},
   "outputs": [],
   "source": [
    "licensed_vehicle_df.loc[licensed_vehicle_df['GenModel']=='ABARTH 595']#['GenModel'].unique()"
   ]
  },
  {
   "cell_type": "markdown",
   "id": "2df020c0",
   "metadata": {},
   "source": [
    "## Searching for Licensed trims in theft data trims"
   ]
  },
  {
   "cell_type": "code",
   "execution_count": null,
   "id": "8fdd7921",
   "metadata": {},
   "outputs": [],
   "source": [
    "GenModel_found_df.loc[GenModel_found_df['Licensed_GenModel']=='KIA RIO']"
   ]
  },
  {
   "cell_type": "code",
   "execution_count": null,
   "id": "f0ead83e",
   "metadata": {},
   "outputs": [],
   "source": [
    "licensed_vehicle_df.loc[licensed_vehicle_df['GenModel']=='FORD FIESTA']['Make'].unique()"
   ]
  },
  {
   "cell_type": "code",
   "execution_count": null,
   "id": "a43a6015",
   "metadata": {},
   "outputs": [],
   "source": [
    "def search_licensed_trim(manufacturer, gen_model, trim_engine):\n",
    "    if (len(licensed_vehicle_df.loc[licensed_vehicle_df['Make']==manufacturer])>0) & (len(licensed_vehicle_df.loc[(licensed_vehicle_df['Make']==manufacturer)&(licensed_vehicle_df['GenModel']==gen_model)])>0):\n",
    "        trims_list = licensed_make_model_trim[manufacturer][gen_model]\n",
    "        \n",
    "        trims_list.sort(key=len, reverse=True)\n",
    "        #print(trims_list)\n",
    "        #print(trim_engine)\n",
    "        for trim in trims_list:\n",
    "            if trim.strip() == trim_engine.strip():\n",
    "                licensed_trim_engine = trim.strip()\n",
    "                #print(trim.strip())\n",
    "                #print(trim_engine.strip())\n",
    "                break\n",
    "                \n",
    "            elif trim.strip() in trim_engine.strip():\n",
    "                licensed_trim_engine = trim.strip()\n",
    "                #print(trim.strip())\n",
    "                #print(trim_engine.strip())\n",
    "                break\n",
    "                \n",
    "            else:\n",
    "                licensed_trim_engine = ''\n",
    "    else:\n",
    "        licensed_trim_engine = ''\n",
    "    \n",
    "    return licensed_trim_engine"
   ]
  },
  {
   "cell_type": "code",
   "execution_count": null,
   "id": "7aea0c29",
   "metadata": {},
   "outputs": [],
   "source": [
    "GenModel_found_df['Licensed_Trim_Engine'] = GenModel_found_df.apply(lambda x: search_licensed_trim(x['Manufacturer'],x['Licensed_GenModel'], x['Trim_Engine']), axis = 1)"
   ]
  },
  {
   "cell_type": "code",
   "execution_count": null,
   "id": "79b0bcd1",
   "metadata": {},
   "outputs": [],
   "source": [
    "GenModel_found_df.to_csv(r\"C:\\Users\\benwa\\vehicle_features\\Products - Documents\\03_Vehicle_File\\03_Cleaned_Data_Sources\\DVLA\\theft_data_trim_split_2018_2022_cleaned.csv\")"
   ]
  },
  {
   "cell_type": "code",
   "execution_count": null,
   "id": "0ad9df4e",
   "metadata": {},
   "outputs": [],
   "source": [
    "GenModel_found_df['Licensed_Trim_Engine'].unique()"
   ]
  },
  {
   "cell_type": "code",
   "execution_count": null,
   "id": "878dcce1",
   "metadata": {},
   "outputs": [],
   "source": [
    "GenModel_found_df.loc[(GenModel_found_df['Licensed_Trim_Engine']!=\"\")&(pd.isnull(GenModel_found_df['Licensed_Trim_Engine'])==False)&(GenModel_found_df['Manufacturer']=='AUDI')]"
   ]
  },
  {
   "cell_type": "code",
   "execution_count": null,
   "id": "ab590ba0",
   "metadata": {},
   "outputs": [],
   "source": [
    "licensed_vehicle_df"
   ]
  },
  {
   "cell_type": "code",
   "execution_count": null,
   "id": "d0fe0604",
   "metadata": {},
   "outputs": [],
   "source": [
    "GenModel_found_df.loc[GenModel_found_df['Manufacturer']=='BMW']"
   ]
  },
  {
   "cell_type": "code",
   "execution_count": null,
   "id": "c37c8119",
   "metadata": {},
   "outputs": [],
   "source": [
    "licensed_vehicle_df.loc[(licensed_vehicle_df['Make']=='BMW')]['Model'].unique()#&(licensed_vehicle_df['Model']=='114D ES')]#['Model'].unique()"
   ]
  },
  {
   "cell_type": "markdown",
   "id": "c2d3c524",
   "metadata": {},
   "source": [
    "- Partial matching..."
   ]
  },
  {
   "cell_type": "code",
   "execution_count": null,
   "id": "9fe80f2f",
   "metadata": {},
   "outputs": [],
   "source": [
    "missing_trim_match = GenModel_found_df.loc[(GenModel_found_df['Licensed_Trim_Engine']==\"\")|(pd.isnull(GenModel_found_df['Licensed_Trim_Engine'])==True)]\n",
    "missing_trim_match"
   ]
  },
  {
   "cell_type": "code",
   "execution_count": null,
   "id": "5d6de2fa",
   "metadata": {},
   "outputs": [],
   "source": [
    "licensed_make_model_trim['ABARTH']"
   ]
  },
  {
   "cell_type": "code",
   "execution_count": null,
   "id": "12893fec",
   "metadata": {},
   "outputs": [],
   "source": [
    "from fuzzywuzzy import process"
   ]
  },
  {
   "cell_type": "code",
   "execution_count": null,
   "id": "3bf36b56",
   "metadata": {},
   "outputs": [],
   "source": [
    "def search_licensed_trim_partial(manufacturer, gen_model, trim_engine):\n",
    "    if (len(licensed_vehicle_df.loc[licensed_vehicle_df['Make']==manufacturer])>0) & (len(licensed_vehicle_df.loc[(licensed_vehicle_df['Make']==manufacturer)&(licensed_vehicle_df['GenModel']==gen_model)])>0):\n",
    "        trims_list = licensed_make_model_trim[manufacturer][gen_model]\n",
    "        \n",
    "        trims_list.sort(key=len, reverse=True)\n",
    "        \n",
    "        trims_list = [trim_val.strip() for trim_val in trims_list]\n",
    "        \n",
    "        trim_engine = trim_engine.strip()\n",
    "        \n",
    "        results = process.extract(trim_engine, trims_list)\n",
    "        \n",
    "        print(results)\n",
    "            \n",
    "    \n",
    "    return results"
   ]
  },
  {
   "cell_type": "code",
   "execution_count": null,
   "id": "1688c004",
   "metadata": {},
   "outputs": [],
   "source": [
    "theft_df"
   ]
  },
  {
   "cell_type": "code",
   "execution_count": null,
   "id": "d102b854",
   "metadata": {},
   "outputs": [],
   "source": [
    "missing_trim_match.loc[missing_trim_match['Trim_Engine']==\"\"]"
   ]
  },
  {
   "cell_type": "code",
   "execution_count": null,
   "id": "c0c3eabe",
   "metadata": {},
   "outputs": [],
   "source": [
    "missing_trim_match['Licensed_Trim_Engine'] = missing_trim_match.apply(lambda x: search_licensed_trim_partial(x['Manufacturer'],x['Licensed_GenModel'], x['Trim_Engine']), axis = 1)"
   ]
  },
  {
   "cell_type": "code",
   "execution_count": null,
   "id": "a28e1fdc",
   "metadata": {},
   "outputs": [],
   "source": [
    "missing_trim_match['Manufacturer'].unique()"
   ]
  },
  {
   "cell_type": "code",
   "execution_count": null,
   "id": "8e7704cd",
   "metadata": {},
   "outputs": [],
   "source": [
    "fuzz.partial_ratio('SPIDER MULTIAIR', '124 SPIDER MULTIAIR')"
   ]
  },
  {
   "cell_type": "code",
   "execution_count": null,
   "id": "a4732066",
   "metadata": {},
   "outputs": [],
   "source": [
    "for index, row in theft_years_summed_df.iterrows():\n",
    "    make_model = row['Make/Model']\n",
    "    \n",
    "    if make_model in gen_models_unique_list:\n",
    "        theft_years_summed_df.loc[index, 'Exact_Match'] = 1\n",
    "        \n",
    "    \"\"\"    \n",
    "    else:\n",
    "        matches = []\n",
    "        scores=[]\n",
    "        for val in gen_models_unique_list:\n",
    "            matches.append(val)\n",
    "            score = fuzz.token_sort_ratio(val, make_model)\n",
    "            scores.append(score)\n",
    "            \n",
    "        index_best_match = scores.index(np.max(scores))\n",
    "        best_match = matches[index_best_match]\n",
    "        \n",
    "        theft_years_summed_df.loc[index, 'Match_Score'] = np.max(scores)\n",
    "        \n",
    "        theft_years_summed_df.loc[index, 'Possible_Match'] = best_match\n",
    "    \"\"\""
   ]
  },
  {
   "cell_type": "code",
   "execution_count": null,
   "id": "8285da10",
   "metadata": {},
   "outputs": [],
   "source": [
    "theft_years_summed_df.loc[theft_years_summed_df['Exact_Match']==1]"
   ]
  },
  {
   "cell_type": "code",
   "execution_count": null,
   "id": "545cae10",
   "metadata": {},
   "outputs": [],
   "source": [
    "matches = 0\n",
    "for year in full_model_count.keys():\n",
    "    print(year)\n",
    "    models_with_frequency = full_model_count[year]\n",
    "    for make_model in models_with_frequency:\n",
    "        vehicles_matched_df = theft_df.loc[theft_df['Make/Model']==make_model]\n",
    "        if len(vehicles_matched_df)>0:\n",
    "            matches+=1\n",
    "matches"
   ]
  },
  {
   "cell_type": "code",
   "execution_count": null,
   "id": "16b5329e-10e2-48dc-9726-5eccd004450e",
   "metadata": {},
   "outputs": [],
   "source": [
    "theft_proportions = {}\n",
    "for i, row in casualty_df.iterrows():\n",
    "    if i % 20000 == 0:\n",
    "        print(i)\n",
    "    ref = row[\"accident_reference\"]\n",
    "    if ref not in casualties.keys():\n",
    "        casualties[ref] = []\n",
    "    casualties[ref].append(row)\n",
    "print(len(casualties))"
   ]
  },
  {
   "cell_type": "code",
   "execution_count": null,
   "id": "823256e8-53d0-41aa-a013-f90ed86706f7",
   "metadata": {},
   "outputs": [],
   "source": [
    "# Calculate theft values\n",
    "theft_values = {}\n",
    "#  Max proportion\n",
    "#  Average proportion of vehicles stolen across years"
   ]
  },
  {
   "cell_type": "markdown",
   "id": "510bcce0",
   "metadata": {},
   "source": [
    "## Look at trends seen across the year span for vehicle make/models\n",
    "\n",
    "    - Maybe apply the linear gradient to scale up older/newer vehicles depending on their theft liklihood."
   ]
  },
  {
   "cell_type": "code",
   "execution_count": null,
   "id": "d161d0c2-f361-43e8-afd3-b635b9d66ab9",
   "metadata": {},
   "outputs": [],
   "source": [
    "theft_values_df = pd.DataFrame(columns={\"GenModel\",\"Theft_rating\"})\n",
    "theft_values_df = theft_values_df.assign(GenModel=theft_values.keys(), Theft_rating=theft_values.values())"
   ]
  },
  {
   "cell_type": "markdown",
   "id": "6d8c20c5",
   "metadata": {},
   "source": [
    "## Overlays to apply after frequency analysis is performed"
   ]
  },
  {
   "cell_type": "code",
   "execution_count": null,
   "id": "7906f0a3",
   "metadata": {},
   "outputs": [],
   "source": [
    "import pandas as pd\n",
    "import numpy as np\n",
    "pd.set_option('display.max_columns', None)"
   ]
  },
  {
   "cell_type": "code",
   "execution_count": null,
   "id": "817ad22e",
   "metadata": {},
   "outputs": [],
   "source": [
    "current_vehicle_df = pd.read_csv(r\"C:\\Users\\benwa\\vehicle_features\\Products - Documents\\03_Vehicle_File\\08_Master_File\\vehicle_features_Vehicle_File_Master_05_09_2023.csv\")"
   ]
  },
  {
   "cell_type": "code",
   "execution_count": null,
   "id": "dd2b1d56",
   "metadata": {},
   "outputs": [],
   "source": [
    "current_vehicle_df"
   ]
  },
  {
   "cell_type": "code",
   "execution_count": null,
   "id": "1e3b40d7",
   "metadata": {},
   "outputs": [],
   "source": [
    "from xgboost import XGBRegressor\n",
    "from sklearn.model_selection import train_test_split"
   ]
  },
  {
   "cell_type": "code",
   "execution_count": null,
   "id": "c3d78d6a",
   "metadata": {},
   "outputs": [],
   "source": [
    "X = current_vehicle_df.select_dtypes(include=[np.number])\n",
    "X"
   ]
  },
  {
   "cell_type": "markdown",
   "id": "5686adaf",
   "metadata": {},
   "source": [
    "- Security Thatcham"
   ]
  },
  {
   "cell_type": "code",
   "execution_count": null,
   "id": "e168ea43",
   "metadata": {},
   "outputs": [],
   "source": [
    "security_thatcham_dict = {'T1':1, 'T2':2, 'N1':3, 'N2':4}"
   ]
  },
  {
   "cell_type": "code",
   "execution_count": null,
   "id": "9b70717a",
   "metadata": {},
   "outputs": [],
   "source": [
    "security_thatcham_numeric = current_vehicle_df.loc[:,['Security_Thatcham', 'ABI_Code_44']]\n",
    "security_thatcham_numeric.loc[:,'Security_Thatcham_Numeric'] = security_thatcham_numeric['Security_Thatcham'].apply(lambda x: security_thatcham_dict[x] if pd.isnull(x)==False else x)"
   ]
  },
  {
   "cell_type": "code",
   "execution_count": null,
   "id": "61137d67",
   "metadata": {},
   "outputs": [],
   "source": [
    "security_thatcham_numeric['Security_Thatcham_Numeric'].unique()"
   ]
  },
  {
   "cell_type": "markdown",
   "id": "f1fa9de1",
   "metadata": {},
   "source": [
    "- Fuel_Desc"
   ]
  },
  {
   "cell_type": "code",
   "execution_count": null,
   "id": "4862b5d5",
   "metadata": {},
   "outputs": [],
   "source": [
    "current_vehicle_df['Fuel_Desc'].unique()"
   ]
  },
  {
   "cell_type": "code",
   "execution_count": null,
   "id": "8e7780f2",
   "metadata": {},
   "outputs": [],
   "source": [
    "fuel_desc_dict = {'Electric':1, 'Plug-in Hybrid':2, 'Regen Hybrid':3, 'Other':4, 'Petrol BiFuel':5, 'Diesel':6, 'Petrol':7}\n",
    "\n",
    "fuel_desc_numeric = current_vehicle_df.loc[:,['Fuel_Desc', 'ABI_Code_44']]\n",
    "fuel_desc_numeric.loc[:,'Fuel_Desc_Numeric'] = fuel_desc_numeric['Fuel_Desc'].apply(lambda x: fuel_desc_dict[x] if pd.isnull(x)==False else x)"
   ]
  },
  {
   "cell_type": "markdown",
   "id": "95ab3ca3",
   "metadata": {},
   "source": [
    "## Merging numeric converted columns"
   ]
  },
  {
   "cell_type": "code",
   "execution_count": null,
   "id": "b0bfc270",
   "metadata": {},
   "outputs": [],
   "source": [
    "X = X.merge(security_thatcham_numeric, on = ['ABI_Code_44', 'ABI_Code_44'], how = 'left')"
   ]
  },
  {
   "cell_type": "code",
   "execution_count": null,
   "id": "c7608f1c",
   "metadata": {},
   "outputs": [],
   "source": [
    "X = X.merge(fuel_desc_numeric, on = ['ABI_Code_44', 'ABI_Code_44'], how = 'left')\n"
   ]
  },
  {
   "cell_type": "markdown",
   "id": "ec84691a",
   "metadata": {},
   "source": [
    "- Drop columns not needed"
   ]
  },
  {
   "cell_type": "code",
   "execution_count": null,
   "id": "637a1855",
   "metadata": {},
   "outputs": [],
   "source": [
    "X_Copy = X.copy()"
   ]
  },
  {
   "cell_type": "code",
   "execution_count": null,
   "id": "2d254aa0",
   "metadata": {},
   "outputs": [],
   "source": [
    "X = X.drop(columns=['Security_Thatcham', 'Fuel_Desc', 'vehicle_features_MR_Risk_Theft_23', 'ABI_Code_44'])"
   ]
  },
  {
   "cell_type": "code",
   "execution_count": null,
   "id": "0a6b9fad",
   "metadata": {},
   "outputs": [],
   "source": [
    "columns_list = list(X.columns)\n",
    "columns_list.remove('Bumper_Score_RCAR')\n",
    "columns_list[:5]"
   ]
  },
  {
   "cell_type": "code",
   "execution_count": null,
   "id": "24b8ca47",
   "metadata": {},
   "outputs": [],
   "source": [
    "len(columns_list)"
   ]
  },
  {
   "cell_type": "markdown",
   "id": "4cd1346a",
   "metadata": {},
   "source": [
    "- Replacing -1 placeholders"
   ]
  },
  {
   "cell_type": "code",
   "execution_count": null,
   "id": "cc52d63f",
   "metadata": {},
   "outputs": [],
   "source": [
    "X[X['End_Year_Veh_Generation']==-1]"
   ]
  },
  {
   "cell_type": "code",
   "execution_count": null,
   "id": "b68c42f6",
   "metadata": {},
   "outputs": [],
   "source": [
    "for col_header in columns_list:\n",
    "    X.loc[X[col_header]==-1, col_header] = np.full(len(X.loc[X[col_header]==-1]), np.nan)"
   ]
  },
  {
   "cell_type": "code",
   "execution_count": null,
   "id": "df9c712f",
   "metadata": {},
   "outputs": [],
   "source": [
    "X"
   ]
  },
  {
   "cell_type": "code",
   "execution_count": null,
   "id": "a2391853",
   "metadata": {},
   "outputs": [],
   "source": [
    "y = current_vehicle_df['vehicle_features_MR_Risk_Theft_23']\n",
    "y"
   ]
  },
  {
   "cell_type": "code",
   "execution_count": null,
   "id": "811a1d2d",
   "metadata": {},
   "outputs": [],
   "source": [
    "# split into train test sets\n",
    "X_train, X_test, y_train, y_test = train_test_split(X, y)"
   ]
  },
  {
   "cell_type": "code",
   "execution_count": null,
   "id": "507452b7",
   "metadata": {},
   "outputs": [],
   "source": [
    "X_train"
   ]
  },
  {
   "cell_type": "code",
   "execution_count": null,
   "id": "ee8ef71e",
   "metadata": {},
   "outputs": [],
   "source": [
    "bst = XGBRegressor(n_estimators=200, eta= 0.1, max_depth=15)\n",
    "# fit model\n",
    "bst.fit(X_train, y_train)\n",
    "# make predictions\n",
    "preds = bst.predict(X_test)"
   ]
  },
  {
   "cell_type": "code",
   "execution_count": null,
   "id": "4b6ed033",
   "metadata": {},
   "outputs": [],
   "source": [
    "from sklearn.metrics import mean_squared_error\n",
    "mse = mean_squared_error(preds, y_test)\n",
    "mse"
   ]
  },
  {
   "cell_type": "code",
   "execution_count": null,
   "id": "9d2cf0cb",
   "metadata": {},
   "outputs": [],
   "source": [
    "bst.feature_importances_"
   ]
  },
  {
   "cell_type": "code",
   "execution_count": null,
   "id": "34e82eb7",
   "metadata": {},
   "outputs": [],
   "source": [
    "X_train"
   ]
  },
  {
   "cell_type": "code",
   "execution_count": null,
   "id": "cd60dc1b",
   "metadata": {},
   "outputs": [],
   "source": [
    "from xgboost import plot_importance\n",
    "\n",
    "plot_importance(bst, max_num_features=20)"
   ]
  },
  {
   "cell_type": "markdown",
   "id": "e8ef1920",
   "metadata": {},
   "source": [
    "# Uplift to theft ratings\n",
    "\n",
    "- Start_Year_Veh_Generation\n",
    "\n",
    "- Safety_Manufacturer\n",
    "\n",
    "- Volume_Box\n",
    "\n",
    "- Engine_CC_Petro_Electric\n",
    "\n",
    "- Body_Score_NVSA\n",
    "\n",
    "- ID_Score_NVSA\n",
    "\n",
    "- Electronic_Score_NVSA\n",
    "\n",
    "- Security_Thatcham_Numeric\n",
    "\n",
    "Bring in price\n",
    "\n",
    "How to combine..."
   ]
  },
  {
   "cell_type": "markdown",
   "id": "6af93318",
   "metadata": {},
   "source": [
    "### Looking at price..."
   ]
  },
  {
   "cell_type": "code",
   "execution_count": null,
   "id": "439fb156",
   "metadata": {},
   "outputs": [],
   "source": [
    "vehicle_file_price_df = pd.read_csv(r\"C:\\Users\\benwa\\vehicle_features\\Products - Documents\\03_Vehicle_File\\02_Vehicle_File_Collaboration\\vehicle_features_Vehicle_File_Best_Matched_With_Local_Fills_Ben_New.csv\")\n",
    "\n",
    "vehicle_file_price_df = vehicle_file_price_df.drop(columns=['Unnamed: 0'])"
   ]
  },
  {
   "cell_type": "code",
   "execution_count": null,
   "id": "a3725d8f",
   "metadata": {},
   "outputs": [],
   "source": [
    "vehicle_price_original_df = pd.read_csv(r\"C:\\Users\\benwa\\vehicle_features\\Products - Documents\\03_Vehicle_File\\02_Vehicle_File_Collaboration\\vehicle_features_Vehicle_File_Best_Matched_With_Local_Fills_Ben_New.csv\")"
   ]
  },
  {
   "cell_type": "code",
   "execution_count": null,
   "id": "5ab7bdd6",
   "metadata": {},
   "outputs": [],
   "source": [
    "print(vehicle_price_original_df['Price_New'].isna().sum())\n",
    "\n",
    "print(vehicle_price_original_df['Price_Used_Average'].isna().sum())"
   ]
  },
  {
   "cell_type": "code",
   "execution_count": null,
   "id": "6a9a8784",
   "metadata": {},
   "outputs": [],
   "source": [
    "vehicle_file_price_df['Manufacturer'].unique()"
   ]
  },
  {
   "cell_type": "code",
   "execution_count": null,
   "id": "4d2f5250",
   "metadata": {},
   "outputs": [],
   "source": [
    "grouping_less_granular_original_df = vehicle_file_price_df.groupby(by=['Manufacturer', 'Model', 'Veh_Generation', 'Start_Year_Veh_Generation', 'Veh_Desc_ABI','Fuel_Primary', 'Fuel_Secondary', 'Engine_Size_Litres', 'Body_Type', 'Aspiration'], dropna=False).agg({'ABI_Code':'count', 'Price_New':'mean', 'Price_Used_Average':'mean'}).reset_index()\n",
    "\n",
    "grouping_less_granular_original_df"
   ]
  },
  {
   "cell_type": "markdown",
   "id": "94d74ec9",
   "metadata": {},
   "source": [
    "- Median values"
   ]
  },
  {
   "cell_type": "code",
   "execution_count": null,
   "id": "2d497ec0",
   "metadata": {},
   "outputs": [],
   "source": [
    "grouping_less_granular_original_median_df = vehicle_file_price_df.groupby(by=['Manufacturer', 'Model', 'Veh_Generation', 'Start_Year_Veh_Generation', 'Veh_Desc_ABI','Fuel_Primary', 'Fuel_Secondary', 'Engine_Size_Litres', 'Body_Type', 'Aspiration'], dropna=False).agg({'ABI_Code':'count', 'Price_New':'median', 'Price_Used_Average':'median'}).reset_index()"
   ]
  },
  {
   "cell_type": "code",
   "execution_count": null,
   "id": "54272043",
   "metadata": {},
   "outputs": [],
   "source": [
    "grouping_less_granular_original_median_df.loc[grouping_less_granular_original_median_df['Price_Used_Average']>grouping_less_granular_original_median_df['Price_New']]"
   ]
  },
  {
   "cell_type": "code",
   "execution_count": null,
   "id": "83e93684",
   "metadata": {},
   "outputs": [],
   "source": [
    "grouping_less_granular_original_df['Price_New'].isna().sum()"
   ]
  },
  {
   "cell_type": "code",
   "execution_count": null,
   "id": "c76db2c8",
   "metadata": {},
   "outputs": [],
   "source": [
    "grouping_less_granular_original_df.loc[pd.isnull(grouping_less_granular_original_df['Price_New'])==True]"
   ]
  },
  {
   "cell_type": "markdown",
   "id": "d0fb1d19",
   "metadata": {},
   "source": [
    "- Thatcham Price data"
   ]
  },
  {
   "cell_type": "code",
   "execution_count": null,
   "id": "e17f7eb4",
   "metadata": {},
   "outputs": [],
   "source": [
    "import pandas as pd"
   ]
  },
  {
   "cell_type": "code",
   "execution_count": null,
   "id": "48d3cf55",
   "metadata": {},
   "outputs": [],
   "source": [
    "thatcham_df = pd.read_excel(r\"C:\\Users\\benwa\\vehicle_features\\vehicle_features FS - Documents\\09_Data\\Thatcham\\2023_20\\vehicle_risk_data_advanced_Car_full_2023.20.xlsx\")"
   ]
  },
  {
   "cell_type": "code",
   "execution_count": null,
   "id": "a4af8141",
   "metadata": {},
   "outputs": [],
   "source": [
    "for val in thatcham_df.columns:\n",
    "    if 'abi' in val.lower():\n",
    "        print(val)"
   ]
  },
  {
   "cell_type": "code",
   "execution_count": null,
   "id": "6d084889",
   "metadata": {},
   "outputs": [],
   "source": [
    "thatcham_df[['TVI Code', 'ABI Description', 'List Price']].groupby(by=['ABI Description']).agg({'List Price':'mean'}).reset_index()"
   ]
  },
  {
   "cell_type": "code",
   "execution_count": null,
   "id": "df253501",
   "metadata": {},
   "outputs": [],
   "source": [
    "thatcham_grouped_df = thatcham_df.groupby(by = ['ABI Description'], dropna=False).agg({'List Price' : 'mean'}).reset_index()\n",
    "\n",
    "thatcham_grouped_df"
   ]
  },
  {
   "cell_type": "code",
   "execution_count": null,
   "id": "11bd6b90",
   "metadata": {},
   "outputs": [],
   "source": [
    "thatcham_grouped_df = thatcham_grouped_df.rename(columns={'ABI Description' : 'Veh_Desc_ABI'})"
   ]
  },
  {
   "cell_type": "code",
   "execution_count": null,
   "id": "0fc139a9",
   "metadata": {},
   "outputs": [],
   "source": [
    "thatcham_grouped_df"
   ]
  },
  {
   "cell_type": "markdown",
   "id": "ed65354c",
   "metadata": {},
   "source": [
    "- Merging on Thatcham data"
   ]
  },
  {
   "cell_type": "code",
   "execution_count": null,
   "id": "00331dfd",
   "metadata": {},
   "outputs": [],
   "source": [
    "grouping_less_granular_original_df = grouping_less_granular_original_df.merge(thatcham_grouped_df[['Veh_Desc_ABI', 'List Price']], on =['Veh_Desc_ABI', 'Veh_Desc_ABI'], how = 'left')\n",
    "grouping_less_granular_original_df"
   ]
  },
  {
   "cell_type": "code",
   "execution_count": null,
   "id": "641161a7",
   "metadata": {},
   "outputs": [],
   "source": [
    "grouping_less_granular_original_df.loc[grouping_less_granular_original_df['Price_New']!=grouping_less_granular_original_df['List Price']]"
   ]
  },
  {
   "cell_type": "code",
   "execution_count": null,
   "id": "b025a66c",
   "metadata": {},
   "outputs": [],
   "source": [
    "grouping_less_granular_original_df.loc[(pd.isnull(grouping_less_granular_original_df['Price_New'])==True)&(pd.isnull(grouping_less_granular_original_df['List Price'])==False), 'Price_New'] = grouping_less_granular_original_df.loc[(pd.isnull(grouping_less_granular_original_df['Price_New'])==True)&(pd.isnull(grouping_less_granular_original_df['List Price'])==False)]['List Price']"
   ]
  },
  {
   "cell_type": "markdown",
   "id": "4eb5772b",
   "metadata": {},
   "source": [
    "- Automate with closest match"
   ]
  },
  {
   "cell_type": "code",
   "execution_count": null,
   "id": "8cfdb201",
   "metadata": {},
   "outputs": [],
   "source": [
    "grouping_less_granular_original_df.loc[pd.isnull(grouping_less_granular_original_df['Price_New'])==True]"
   ]
  },
  {
   "cell_type": "code",
   "execution_count": null,
   "id": "e493cb08",
   "metadata": {},
   "outputs": [],
   "source": [
    "grouping_less_granular_original_df.to_csv(r\"C:\\Users\\benwa\\vehicle_features\\Products - Documents\\03_Vehicle_File\\16_Theft_Rating_Re_Worked\\Price_Analysis\\grouped_price_data_original.csv\")"
   ]
  },
  {
   "cell_type": "code",
   "execution_count": null,
   "id": "e9b29c2f",
   "metadata": {},
   "outputs": [],
   "source": [
    "abi_desc_missing = list(grouping_less_granular_original_df.loc[pd.isnull(grouping_less_granular_original_df['Price_New'])==True]['Veh_Desc_ABI'].unique())"
   ]
  },
  {
   "cell_type": "code",
   "execution_count": null,
   "id": "9269b8ca",
   "metadata": {},
   "outputs": [],
   "source": [
    "len(grouping_less_granular_original_df)"
   ]
  },
  {
   "cell_type": "code",
   "execution_count": null,
   "id": "c830308c",
   "metadata": {},
   "outputs": [],
   "source": [
    "grouping_less_granular_df.loc[(pd.isnull(grouping_less_granular_df['Price_New_Estimate'])==False)&(grouping_less_granular_df['Veh_Desc_ABI'].isin(abi_desc_missing))][::100]\n"
   ]
  },
  {
   "cell_type": "code",
   "execution_count": null,
   "id": "0410dea0",
   "metadata": {},
   "outputs": [],
   "source": [
    "grouping_less_granular_df = grouping_less_granular_original_df.copy()"
   ]
  },
  {
   "cell_type": "code",
   "execution_count": null,
   "id": "f8917d9d",
   "metadata": {},
   "outputs": [],
   "source": [
    "no_matches = 0\n",
    "no_value_with_match = 0\n",
    "\n",
    "for index, row in grouping_less_granular_df.loc[pd.isnull(grouping_less_granular_df['Price_New_Estimate'])==True].iterrows():\n",
    "    manufacturer = row['Manufacturer']\n",
    "    model = row['Model']\n",
    "    generation = row['Veh_Generation']\n",
    "    primary_fuel = row['Fuel_Primary']\n",
    "    fuel_secondary = row['Fuel_Secondary']\n",
    "    body_type = row['Body_Type']\n",
    "    engine_size_litres = row['Engine_Size_Litres']\n",
    "    aspiration = row['Aspiration']\n",
    "    abi_desc = row['Veh_Desc_ABI']\n",
    "    start_year = row['Start_Year_Veh_Generation']\n",
    "    \n",
    "    \n",
    "    \n",
    "    subset_price_1_df = grouping_less_granular_df.loc[(grouping_less_granular_df['Manufacturer']==manufacturer)&(grouping_less_granular_df['Model']==model)]#&(grouping_less_granular_df['Engine_Size_Litres']==engine_size_litres)]#((grouping_less_granular_df['Start_Year_Veh_Generation']==start_year)|(grouping_less_granular_df['Start_Year_Veh_Generation']==start_year+1)|(grouping_less_granular_df['Start_Year_Veh_Generation']==start_year-1))&(grouping_less_granular_df['Aspiration']==aspiration)]\n",
    "    \n",
    "    if len(subset_price_1_df)>0:\n",
    "        mean_price_estimate = subset_price_1_df['Price_New_Estimate'].mean()\n",
    "        \n",
    "        if pd.isnull(mean_price_estimate)==False:\n",
    "            grouping_less_granular_df.loc[index, 'Price_New_Estimate'] = mean_price_estimate\n",
    "        else:\n",
    "            no_value_with_match+=1\n",
    "    else:\n",
    "        no_matches+=1\n",
    "    \n",
    "print(no_matches)\n",
    "print(no_value_with_match)\n",
    "            \n",
    "\"\"\"\n",
    "subset_price_2_df = grouping_less_granular_df.loc[(grouping_less_granular_df['Manufacturer']==manufacturer)&(grouping_less_granular_df['Model']==model)&(grouping_less_granular_df['Fuel_Primary']==primary_fuel)&(grouping_less_granular_df['Body_Type']==body_type)&(grouping_less_granular_df['Fuel_Secondary']==fuel_secondary)]\n",
    "if len(subset_price_2_df)>0:\n",
    "    mean_price_estimate = subset_price_2_df['Price_New_Estimate'].mean()\n",
    "    \n",
    "    if pd.isnull(mean_price_estimate) == False:\n",
    "        second_level_match+=1\n",
    "        grouping_less_granular_df.loc[index, 'Price_New_Estimate'] = mean_price_estimate\n",
    "    else:\n",
    "        subset_price_3_df = grouping_less_granular_df.loc[(grouping_less_granular_df['Manufacturer']==manufacturer)&(grouping_less_granular_df['Model']==model)&(grouping_less_granular_df['Fuel_Primary']==primary_fuel)&(grouping_less_granular_df['Body_Type']==body_type)]\n",
    "        if len(subset_price_3_df)>0:\n",
    "            mean_price_estimate = subset_price_3_df['Price_New_Estimate'].mean()\n",
    "            if pd.isnull(mean_price_estimate)==False:\n",
    "                third_level_match+=1\n",
    "                grouping_less_granular_df.loc[index, 'Price_New_Estimate'] = mean_price_estimate\n",
    "            \n",
    "            else:\n",
    "                subset_price_4_df = grouping_less_granular_df.loc[(grouping_less_granular_df['Manufacturer']==manufacturer)&(grouping_less_granular_df['Model']==model)&(grouping_less_granular_df['Fuel_Primary']==primary_fuel)&(grouping_less_granular_df['Body_Type']==body_type)]\n",
    "                \n",
    "\n",
    "                if len(subset_price_4_df)>0:\n",
    "                    mean_price_estimate = subset_price_4_df['Price_New_Estimate'].mean()\n",
    "                    if pd.isnull(mean_price_estimate)==False:\n",
    "                        grouping_less_granular_df.loc[index, 'Price_New_Estimate'] = mean_price_estimate\n",
    "                    else:\n",
    "                        subset_price_5_df = grouping_less_granular_df.loc[(grouping_less_granular_df['Manufacturer']==manufacturer)&(grouping_less_granular_df['Model']==model)&(grouping_less_granular_df['Fuel_Primary']==primary_fuel)]\n",
    "                        if len(subset_price_5_df)>0:\n",
    "                            mean_price_estimate = subset_price_5_df['Price_New_Estimate'].mean()\n",
    "                            if pd.isnull(mean_price_estimate) == False:\n",
    "                                grouping_less_granular_df.loc[index, 'Price_New_Estimate'] = mean_price_estimate\n",
    "                            else:\n",
    "                                subset_price_6_df = grouping_less_granular_df.loc[(grouping_less_granular_df['Manufacturer']==manufacturer)&(grouping_less_granular_df['Model']==model)&(grouping_less_granular_df['Veh_Generation']==generation)]\n",
    "                                if len(subset_price_6_df)>0:\n",
    "                                    mean_price_estimate = subset_price_6_df['Price_New_Estimate'].mean()\n",
    "                                    if pd.isnull(mean_price_estimate) == False:\n",
    "                                        grouping_less_granular_df.loc[index, 'Price_New_Estimate'] = mean_price_estimate\n",
    "\"\"\"\n",
    "\n"
   ]
  },
  {
   "cell_type": "code",
   "execution_count": null,
   "id": "cf4fcb5a",
   "metadata": {},
   "outputs": [],
   "source": [
    "grouping_less_granular_df['Price_New_Estimate'].isna().sum()"
   ]
  },
  {
   "cell_type": "markdown",
   "id": "ed143cd6",
   "metadata": {},
   "source": [
    "- search for these missing values"
   ]
  },
  {
   "cell_type": "code",
   "execution_count": null,
   "id": "9ddb1a9b",
   "metadata": {},
   "outputs": [],
   "source": [
    "grouping_less_granular_df.loc[pd.isnull(grouping_less_granular_df['Price_New_Estimate'])==True][:40]"
   ]
  },
  {
   "cell_type": "code",
   "execution_count": null,
   "id": "b0da223e",
   "metadata": {},
   "outputs": [],
   "source": [
    "grouping_less_granular_df.loc[(grouping_less_granular_df['Manufacturer']=='Chevrolet')&(grouping_less_granular_df['Model']=='Chevelle')]"
   ]
  },
  {
   "cell_type": "code",
   "execution_count": null,
   "id": "94c172a3",
   "metadata": {},
   "outputs": [],
   "source": [
    "grouping_less_granular_df.loc[(grouping_less_granular_df['Manufacturer']=='AC')&(grouping_less_granular_df['Model']=='Ace')&(pd.isnull(grouping_less_granular_df['Price_New_Estimate'])==True), 'Price_New_Estimate'] = 90000\n",
    "\n",
    "grouping_less_granular_df.loc[(grouping_less_granular_df['Manufacturer']=='AC')&(grouping_less_granular_df['Model']=='Cobra')&(pd.isnull(grouping_less_granular_df['Price_New_Estimate'])==True), 'Price_New_Estimate'] = 85000\n",
    "\n",
    "grouping_less_granular_df.loc[(grouping_less_granular_df['Manufacturer']=='Aixam')&(grouping_less_granular_df['Model']=='400')&(pd.isnull(grouping_less_granular_df['Price_New_Estimate'])==True), 'Price_New_Estimate'] = 7200\n",
    "\n",
    "grouping_less_granular_df.loc[(grouping_less_granular_df['Manufacturer']=='Aixam')&(grouping_less_granular_df['Model']=='500-4')&(pd.isnull(grouping_less_granular_df['Price_New_Estimate'])==True), 'Price_New_Estimate'] = 7200\n",
    "\n",
    "grouping_less_granular_df.loc[(grouping_less_granular_df['Manufacturer']=='Aixam')&(grouping_less_granular_df['Model']=='500-5')&(pd.isnull(grouping_less_granular_df['Price_New_Estimate'])==True), 'Price_New_Estimate'] = 7200\n",
    "\n",
    "grouping_less_granular_df.loc[(grouping_less_granular_df['Manufacturer']=='Aixam')&(grouping_less_granular_df['Model']=='Mega')&(pd.isnull(grouping_less_granular_df['Price_New_Estimate'])==True), 'Price_New_Estimate'] = 12000\n",
    "\n",
    "grouping_less_granular_df.loc[(grouping_less_granular_df['Manufacturer']=='Aixam')&(grouping_less_granular_df['Model']=='A751')&(pd.isnull(grouping_less_granular_df['Price_New_Estimate'])==True), 'Price_New_Estimate'] = 7400\n",
    "\n",
    "grouping_less_granular_df.loc[(grouping_less_granular_df['Manufacturer']=='Aixam')&(grouping_less_granular_df['Model']=='700')&(pd.isnull(grouping_less_granular_df['Price_New_Estimate'])==True), 'Price_New_Estimate'] = 7400\n",
    "\n",
    "grouping_less_granular_df.loc[(grouping_less_granular_df['Manufacturer']=='Aixam')&(grouping_less_granular_df['Model']=='City')&(pd.isnull(grouping_less_granular_df['Price_New_Estimate'])==True), 'Price_New_Estimate'] = 10000\n",
    "\n",
    "grouping_less_granular_df.loc[(grouping_less_granular_df['Manufacturer']=='Aixam')&(grouping_less_granular_df['Model']=='GTO')&(pd.isnull(grouping_less_granular_df['Price_New_Estimate'])==True), 'Price_New_Estimate'] = 10000\n",
    "\n",
    "grouping_less_granular_df.loc[(grouping_less_granular_df['Manufacturer']=='Alfa Romeo')&(grouping_less_granular_df['Model']=='8C Spider')&(pd.isnull(grouping_less_granular_df['Price_New_Estimate'])==True), 'Price_New_Estimate'] = 174000\n",
    "\n",
    "grouping_less_granular_df.loc[(grouping_less_granular_df['Manufacturer']=='Alfa Romeo')&(grouping_less_granular_df['Model']=='8C')&(pd.isnull(grouping_less_granular_df['Price_New_Estimate'])==True), 'Price_New_Estimate'] = 111000\n",
    "\n",
    "grouping_less_granular_df.loc[(grouping_less_granular_df['Manufacturer']=='Alfa Romeo')&(grouping_less_granular_df['Model']=='SZ')&(pd.isnull(grouping_less_granular_df['Price_New_Estimate'])==True), 'Price_New_Estimate'] = 42500\n",
    "\n",
    "grouping_less_granular_df.loc[(grouping_less_granular_df['Manufacturer']=='Alpina')&(grouping_less_granular_df['Model']=='B5')&(pd.isnull(grouping_less_granular_df['Price_New_Estimate'])==True), 'Price_New_Estimate'] = 70000\n",
    "\n",
    "grouping_less_granular_df.loc[(grouping_less_granular_df['Manufacturer']=='Asia')&(grouping_less_granular_df['Model']=='Rocsta')&(pd.isnull(grouping_less_granular_df['Price_New_Estimate'])==True), 'Price_New_Estimate'] = 9950\n",
    "\n",
    "grouping_less_granular_df.loc[(grouping_less_granular_df['Manufacturer']=='Bugatti')&(grouping_less_granular_df['Model']=='Veyron')&(pd.isnull(grouping_less_granular_df['Price_New_Estimate'])==True), 'Price_New_Estimate'] = 1000000\n",
    "\n",
    "grouping_less_granular_df.loc[(grouping_less_granular_df['Manufacturer']=='Bugatti')&(grouping_less_granular_df['Model']=='Chiron')&(pd.isnull(grouping_less_granular_df['Price_New_Estimate'])==True), 'Price_New_Estimate'] = 1900000\n",
    "\n",
    "grouping_less_granular_df.loc[(grouping_less_granular_df['Manufacturer']=='Bugatti')&(grouping_less_granular_df['Model']=='Divo')&(pd.isnull(grouping_less_granular_df['Price_New_Estimate'])==True), 'Price_New_Estimate'] = 4200000\n",
    "\n",
    "grouping_less_granular_df.loc[(grouping_less_granular_df['Manufacturer']=='Buick')&(grouping_less_granular_df['Model']=='Regal')&(pd.isnull(grouping_less_granular_df['Price_New_Estimate'])==True), 'Price_New_Estimate'] = 25000\n",
    "\n",
    "grouping_less_granular_df.loc[(grouping_less_granular_df['Manufacturer']=='Aston Martin')&(grouping_less_granular_df['Model']=='One-77')&(pd.isnull(grouping_less_granular_df['Price_New_Estimate'])==True), 'Price_New_Estimate'] = 1400000\n",
    "\n",
    "grouping_less_granular_df.loc[(grouping_less_granular_df['Manufacturer']=='Caterham')&(grouping_less_granular_df['Model']=='Seven')&(pd.isnull(grouping_less_granular_df['Price_New_Estimate'])==True), 'Price_New_Estimate'] = 30000\n",
    "\n",
    "grouping_less_granular_df.loc[(grouping_less_granular_df['Manufacturer']=='Chrysler')&(grouping_less_granular_df['Model']=='Crossfire')&(pd.isnull(grouping_less_granular_df['Price_New_Estimate'])==True), 'Price_New_Estimate'] = 26000\n",
    "\n",
    "grouping_less_granular_df.loc[(grouping_less_granular_df['Manufacturer']=='Dodge')&(grouping_less_granular_df['Model']=='Viper')&(pd.isnull(grouping_less_granular_df['Price_New_Estimate'])==True), 'Price_New_Estimate'] = 70000\n",
    "\n",
    "grouping_less_granular_df.loc[(grouping_less_granular_df['Manufacturer']=='Chrysler')&(grouping_less_granular_df['Model']=='Viper')&(pd.isnull(grouping_less_granular_df['Price_New_Estimate'])==True), 'Price_New_Estimate'] = 70000\n",
    "\n",
    "grouping_less_granular_df.loc[(grouping_less_granular_df['Manufacturer']=='Dodge')&(grouping_less_granular_df['Model']=='SRT10')&(pd.isnull(grouping_less_granular_df['Price_New_Estimate'])==True), 'Price_New_Estimate'] = 77500\n",
    "\n",
    "#grouping_less_granular_df.loc[(grouping_less_granular_df['Manufacturer']=='Chevrolet')&(grouping_less_granular_df['Model']=='Caprice')&(pd.isnull(grouping_less_granular_df['Price_New_Estimate'])==True), 'Price_New_Estimate'] = 4000\n",
    "\n"
   ]
  },
  {
   "cell_type": "code",
   "execution_count": null,
   "id": "2e6132c1",
   "metadata": {},
   "outputs": [],
   "source": [
    "list(grouping_less_granular_df.columns)"
   ]
  },
  {
   "cell_type": "code",
   "execution_count": null,
   "id": "d21c393e",
   "metadata": {},
   "outputs": [],
   "source": [
    "grouping_less_granular_df.to_csv(r\"C:\\Users\\benwa\\vehicle_features\\Products - Documents\\03_Vehicle_File\\16_Theft_Rating_Re_Worked\\Price_Analysis\\grouped_price_data_new_price_filled.csv\")"
   ]
  },
  {
   "cell_type": "code",
   "execution_count": null,
   "id": "5e831dde",
   "metadata": {},
   "outputs": [],
   "source": [
    "grouping_less_granular_mean_df = pd.read_csv(r\"C:\\Users\\benwa\\vehicle_features\\Products - Documents\\03_Vehicle_File\\16_Theft_Rating_Re_Worked\\Price_Analysis\\grouped_price_data_new_price_filled.csv\")\n",
    "\n",
    "grouping_less_granular_mean_df"
   ]
  },
  {
   "cell_type": "markdown",
   "id": "82681f8b",
   "metadata": {},
   "source": [
    "- Separate out:\n",
    "\n",
    "    - High performance (Super/Hyper cars), High value cars, Classic cars"
   ]
  },
  {
   "cell_type": "code",
   "execution_count": null,
   "id": "f0487ab9",
   "metadata": {},
   "outputs": [],
   "source": [
    "grouping_less_granular_df['Manufacturer'].unique()"
   ]
  },
  {
   "cell_type": "code",
   "execution_count": null,
   "id": "484986f3",
   "metadata": {},
   "outputs": [],
   "source": [
    "grouping_less_granular_df.loc[pd.isnull(grouping_less_granular_df['Price_New'])==True]"
   ]
  },
  {
   "cell_type": "code",
   "execution_count": null,
   "id": "9dd8c91f",
   "metadata": {},
   "outputs": [],
   "source": [
    "grouping_less_granular_df.loc[(pd.isnull(grouping_less_granular_df['Price_New'])==True)&(grouping_less_granular_df['Manufacturer']=='Aston Martin')&(grouping_less_granular_df['Model']=='Valkyrie'), 'Price_New'] = 2500000\n",
    "grouping_less_granular_df.loc[(pd.isnull(grouping_less_granular_df['Price_Used_Average'])==True)&(grouping_less_granular_df['Manufacturer']=='Aston Martin')&(grouping_less_granular_df['Model']=='Valkyrie'), 'Price_Used_Average'] = 3500000\n",
    "\n",
    "grouping_less_granular_df.loc[(pd.isnull(grouping_less_granular_df['Price_New'])==True)&(grouping_less_granular_df['Manufacturer']=='BMW')&(grouping_less_granular_df['Model']=='ActiveHybrid 5'), 'Price_New'] = 46860\n",
    "\n",
    "grouping_less_granular_df.loc[(pd.isnull(grouping_less_granular_df['Price_New'])==True)&(grouping_less_granular_df['Manufacturer']=='Bentley')&(grouping_less_granular_df['Model']=='Bentayga PHEV'), 'Price_New'] = 133100\n",
    "\n",
    "grouping_less_granular_df.loc[(pd.isnull(grouping_less_granular_df['Price_New'])==True)&(grouping_less_granular_df['Manufacturer']=='Cadillac')&(grouping_less_granular_df['Model']=='BLS'), 'Price_New'] = 19950\n",
    "\n",
    "grouping_less_granular_df.loc[(pd.isnull(grouping_less_granular_df['Price_New'])==True)&(grouping_less_granular_df['Manufacturer']=='Cadillac')&(grouping_less_granular_df['Model']=='BLS')&(grouping_less_granular_df['Body_Type']=='Saloon'), 'Price_Used_Average'] = 1000\n",
    "grouping_less_granular_df.loc[(pd.isnull(grouping_less_granular_df['Price_Used_Average'])==True)&(grouping_less_granular_df['Manufacturer']=='Cadillac')&(grouping_less_granular_df['Model']=='BLS')&(grouping_less_granular_df['Body_Type']=='Estate'), 'Price_Used_Average'] = 2400\n",
    "\n",
    "grouping_less_granular_df.loc[(pd.isnull(grouping_less_granular_df['Price_New'])==True)&(grouping_less_granular_df['Manufacturer']=='Ferrari')&(grouping_less_granular_df['Model']=='296')&(grouping_less_granular_df['Veh_Desc_ABI']=='296 GTB'), 'Price_New'] = 241550\n",
    "grouping_less_granular_df.loc[(pd.isnull(grouping_less_granular_df['Price_Used_Average'])==True)&(grouping_less_granular_df['Manufacturer']=='Ferrari')&(grouping_less_granular_df['Model']=='296')&(grouping_less_granular_df['Veh_Desc_ABI']=='296 GTB'), 'Price_Used_Average'] = 230000\n",
    "\n",
    "grouping_less_granular_df.loc[(pd.isnull(grouping_less_granular_df['Price_New'])==True)&(grouping_less_granular_df['Manufacturer']=='Ferrari')&(grouping_less_granular_df['Model']=='296')&(grouping_less_granular_df['Veh_Desc_ABI']=='296 GTS'), 'Price_New'] = 279000\n",
    "grouping_less_granular_df.loc[(pd.isnull(grouping_less_granular_df['Price_Used_Average'])==True)&(grouping_less_granular_df['Manufacturer']=='Ferrari')&(grouping_less_granular_df['Model']=='296')&(grouping_less_granular_df['Veh_Desc_ABI']=='296 GTS'), 'Price_Used_Average'] = 270000\n",
    "\n",
    "grouping_less_granular_df.loc[(pd.isnull(grouping_less_granular_df['Price_New'])==True)&(grouping_less_granular_df['Manufacturer']=='Ferrari')&(grouping_less_granular_df['Model']=='SF90'), 'Price_New'] = 376000\n",
    "grouping_less_granular_df.loc[(pd.isnull(grouping_less_granular_df['Price_Used_Average'])==True)&(grouping_less_granular_df['Manufacturer']=='Ferrari')&(grouping_less_granular_df['Model']=='SF90'), 'Price_Used_Average'] = 370000\n",
    "\n",
    "grouping_less_granular_df.loc[(pd.isnull(grouping_less_granular_df['Price_New'])==True)&(grouping_less_granular_df['Manufacturer']=='SEAT')&(grouping_less_granular_df['Model']=='Leon'), 'Price_New'] = 18500\n",
    "\n",
    "grouping_less_granular_df.loc[(pd.isnull(grouping_less_granular_df['Price_New'])==True)&(grouping_less_granular_df['Manufacturer']=='Honda')&(grouping_less_granular_df['Model']=='Fit'), 'Price_New'] = 13000\n",
    "\n",
    "grouping_less_granular_df.loc[(pd.isnull(grouping_less_granular_df['Price_New'])==True)&(grouping_less_granular_df['Manufacturer']=='Honda')&(grouping_less_granular_df['Model']=='Insight'), 'Price_New'] = 17170\n",
    "\n",
    "grouping_less_granular_df.loc[(pd.isnull(grouping_less_granular_df['Price_New'])==True)&(grouping_less_granular_df['Manufacturer']=='Volvo')&(grouping_less_granular_df['Model']=='V70'), 'Price_New'] = 28985\n",
    "\n",
    "grouping_less_granular_df.loc[(pd.isnull(grouping_less_granular_df['Price_New'])==True)&(grouping_less_granular_df['Manufacturer']=='Volvo')&(grouping_less_granular_df['Model']=='V50'), 'Price_New'] = 19325\n",
    "\n",
    "grouping_less_granular_df.loc[(pd.isnull(grouping_less_granular_df['Price_New'])==True)&(grouping_less_granular_df['Manufacturer']=='Volvo')&(grouping_less_granular_df['Model']=='S80'), 'Price_New'] = 19325\n",
    "\n",
    "grouping_less_granular_df.loc[(pd.isnull(grouping_less_granular_df['Price_New'])==True)&(grouping_less_granular_df['Manufacturer']=='Volvo')&(grouping_less_granular_df['Model']=='S40'), 'Price_New'] = 16000\n",
    "\n",
    "grouping_less_granular_df.loc[(pd.isnull(grouping_less_granular_df['Price_New'])==True)&(grouping_less_granular_df['Manufacturer']=='Volkswagen')&(grouping_less_granular_df['Model']=='Touareg Hybrid'), 'Price_New'] = 57500\n",
    "\n",
    "grouping_less_granular_df.loc[(pd.isnull(grouping_less_granular_df['Price_New'])==True)&(grouping_less_granular_df['Manufacturer']=='Toyota')&(grouping_less_granular_df['Model']=='Prius'), 'Price_New'] = 21210\n",
    "\n",
    "grouping_less_granular_df.loc[(pd.isnull(grouping_less_granular_df['Price_New'])==True)&(grouping_less_granular_df['Manufacturer']=='Toyota')&(grouping_less_granular_df['Model']=='Auris Hybrid')&(grouping_less_granular_df['Veh_Desc_ABI']=='Auris Hybrid T4'), 'Price_New'] = 18950\n",
    "\n",
    "grouping_less_granular_df.loc[(pd.isnull(grouping_less_granular_df['Price_New'])==True)&(grouping_less_granular_df['Manufacturer']=='Toyota')&(grouping_less_granular_df['Model']=='Estima'), 'Price_New'] = 32000\n",
    "\n",
    "grouping_less_granular_df.loc[(pd.isnull(grouping_less_granular_df['Price_New'])==True)&(grouping_less_granular_df['Manufacturer']=='Toyota')&(grouping_less_granular_df['Model']=='Noah'), 'Price_New'] = 34000\n",
    "\n",
    "grouping_less_granular_df.loc[(pd.isnull(grouping_less_granular_df['Price_New'])==True)&(grouping_less_granular_df['Manufacturer']=='Toyota')&(grouping_less_granular_df['Model']=='Auris Hybrid')&(grouping_less_granular_df['Veh_Desc_ABI']=='Auris Hybrid T-Spirit'), 'Price_New'] = 20700\n",
    "\n",
    "grouping_less_granular_df.loc[(pd.isnull(grouping_less_granular_df['Price_New'])==True)&(grouping_less_granular_df['Manufacturer']=='Saab')&(grouping_less_granular_df['Model']=='9-5'), 'Price_New'] = 25500\n",
    "\n",
    "grouping_less_granular_df.loc[(pd.isnull(grouping_less_granular_df['Price_New'])==True)&(grouping_less_granular_df['Manufacturer']=='Saab')&(grouping_less_granular_df['Model']=='9-3'), 'Price_New'] = 26265\n",
    "\n",
    "grouping_less_granular_df.loc[(pd.isnull(grouping_less_granular_df['Price_New'])==True)&(grouping_less_granular_df['Manufacturer']=='Renault')&(grouping_less_granular_df['Model']=='Clio'), 'Price_New'] = 11175\n",
    "\n",
    "grouping_less_granular_df.loc[(pd.isnull(grouping_less_granular_df['Price_New'])==True)&(grouping_less_granular_df['Manufacturer']=='Koenigsegg')&(grouping_less_granular_df['Model']=='Regera'), 'Price_New'] = 1400000\n",
    "\n",
    "grouping_less_granular_df.loc[(pd.isnull(grouping_less_granular_df['Price_New'])==True)&(grouping_less_granular_df['Manufacturer']=='Land Rover')&(grouping_less_granular_df['Model']=='Range Rover Hybrid'), 'Price_New'] = 100000\n",
    "\n",
    "grouping_less_granular_df.loc[(pd.isnull(grouping_less_granular_df['Price_New'])==True)&(grouping_less_granular_df['Manufacturer']=='Porsche')&(grouping_less_granular_df['Model']=='918 PHEV'), 'Price_New'] = 678000\n",
    "\n",
    "grouping_less_granular_df.loc[(pd.isnull(grouping_less_granular_df['Price_New'])==True)&(grouping_less_granular_df['Manufacturer']=='Porsche')&(grouping_less_granular_df['Model']=='Cayenne Hybrid'), 'Price_New'] = 50000\n",
    "\n",
    "grouping_less_granular_df.loc[(pd.isnull(grouping_less_granular_df['Price_New'])==True)&(grouping_less_granular_df['Manufacturer']=='Porsche')&(grouping_less_granular_df['Model']=='Panamera Hybrid'), 'Price_New'] = 86500\n",
    "\n",
    "grouping_less_granular_df.loc[(pd.isnull(grouping_less_granular_df['Price_New'])==True)&(grouping_less_granular_df['Manufacturer']=='Lexus')&(grouping_less_granular_df['Model']=='GS Hybrid'), 'Price_New'] = 46690\n",
    "\n",
    "grouping_less_granular_df.loc[(pd.isnull(grouping_less_granular_df['Price_New'])==True)&(grouping_less_granular_df['Manufacturer']=='Lexus')&(grouping_less_granular_df['Model']=='RX Hybrid'), 'Price_New'] = 54000\n",
    "\n",
    "grouping_less_granular_df.loc[(pd.isnull(grouping_less_granular_df['Price_New'])==True)&(grouping_less_granular_df['Manufacturer']=='McLaren')&(grouping_less_granular_df['Model']=='Artura'), 'Price_New'] = 189200\n",
    "\n",
    "grouping_less_granular_df.loc[(pd.isnull(grouping_less_granular_df['Price_New'])==True)&(grouping_less_granular_df['Manufacturer']=='McLaren')&(grouping_less_granular_df['Model']=='Speedtail'), 'Price_New'] = 1750000\n",
    "\n",
    "grouping_less_granular_df.loc[(pd.isnull(grouping_less_granular_df['Price_New'])==True)&(grouping_less_granular_df['Manufacturer']=='Mitsubishi')&(grouping_less_granular_df['Model']=='Outlander PHEV'), 'Price_New'] = 35805\n"
   ]
  },
  {
   "cell_type": "code",
   "execution_count": null,
   "id": "005b1f94",
   "metadata": {},
   "outputs": [],
   "source": [
    "grouping_less_granular_df = grouping_less_granular_df.rename(columns={'Price_New':'Price_New_Estimate', 'Price_Used_Average':'Price_Used_Average_Estimate'})\n",
    "grouping_less_granular_df.head()"
   ]
  },
  {
   "cell_type": "code",
   "execution_count": null,
   "id": "93c6ef39",
   "metadata": {},
   "outputs": [],
   "source": [
    "len(grouping_less_granular_df)"
   ]
  },
  {
   "cell_type": "markdown",
   "id": "fa98740c",
   "metadata": {},
   "source": [
    "- Join back to overall df\n",
    "\n",
    "    - Master File"
   ]
  },
  {
   "cell_type": "code",
   "execution_count": null,
   "id": "a1829868",
   "metadata": {},
   "outputs": [],
   "source": [
    "price_new_estimate_dict = grouping_less_granular_df.set_index('Veh_Desc_ABI')['Price_New_Estimate'].to_dict()\n",
    "price_used_estimate_dict = grouping_less_granular_df.set_index('Veh_Desc_ABI')['Price_Used_Average_Estimate'].to_dict()\n",
    "\n",
    "price_new_estimate_dict"
   ]
  },
  {
   "cell_type": "code",
   "execution_count": null,
   "id": "a4533718",
   "metadata": {},
   "outputs": [],
   "source": [
    "grouping_less_granular_df['Price_New_Estimate'].isna().sum()"
   ]
  },
  {
   "cell_type": "code",
   "execution_count": null,
   "id": "f2a4a9ee",
   "metadata": {},
   "outputs": [],
   "source": [
    "import numpy as np"
   ]
  },
  {
   "cell_type": "code",
   "execution_count": null,
   "id": "695aa475",
   "metadata": {},
   "outputs": [],
   "source": [
    "master_file = pd.read_csv(r\"C:\\Users\\benwa\\vehicle_features\\Products - Documents\\03_Vehicle_File\\08_Master_File\\vehicle_features_Vehicle_File_Master_05_09_2023.csv\")\n"
   ]
  },
  {
   "cell_type": "markdown",
   "id": "fa09ba55",
   "metadata": {},
   "source": [
    "- Merge two data frames on"
   ]
  },
  {
   "cell_type": "code",
   "execution_count": null,
   "id": "6cb58dde",
   "metadata": {},
   "outputs": [],
   "source": [
    "grouping_less_granular_df = grouping_less_granular_df.rename(columns = {'Price_New_Estimate':'Price_New_Estimate_Filled', 'Price_Used_Average_Estimate':'Price_Used_Mean_Estimate'})"
   ]
  },
  {
   "cell_type": "code",
   "execution_count": null,
   "id": "4be96ae7",
   "metadata": {},
   "outputs": [],
   "source": [
    "grouping_less_granular_original_median_df = grouping_less_granular_original_median_df.rename(columns = {'Price_New':'Price_New_Median', 'Price_Used_Average':'Price_Used_Median'})\n"
   ]
  },
  {
   "cell_type": "code",
   "execution_count": null,
   "id": "820e3450",
   "metadata": {},
   "outputs": [],
   "source": [
    "vehicle_file_price_prediction_df = master_file.copy()\n",
    "\n",
    "vehicle_file_price_prediction_df = vehicle_file_price_prediction_df.merge(grouping_less_granular_df[['Manufacturer',\n",
    "                                                                                                    'Model',\n",
    "                                                                                                    'Veh_Generation',\n",
    "                                                                                                    'Start_Year_Veh_Generation',\n",
    "                                                                                                    'Veh_Desc_ABI',\n",
    "                                                                                                    'Fuel_Primary',\n",
    "                                                                                                    'Fuel_Secondary',\n",
    "                                                                                                    'Engine_Size_Litres',\n",
    "                                                                                                    'Body_Type',\n",
    "                                                                                                    'Aspiration', 'Price_New_Estimate_Filled', 'Price_Used_Mean_Estimate']], \n",
    "                                                                                                    on = ['Manufacturer',\n",
    "                                                                                                    'Model',\n",
    "                                                                                                    'Veh_Generation',\n",
    "                                                                                                    'Start_Year_Veh_Generation',\n",
    "                                                                                                    'Veh_Desc_ABI',\n",
    "                                                                                                    'Fuel_Primary',\n",
    "                                                                                                    'Fuel_Secondary',\n",
    "                                                                                                    'Engine_Size_Litres',\n",
    "                                                                                                    'Body_Type',\n",
    "                                                                                                    'Aspiration'], \n",
    "                                                                                                     how = 'left')\n"
   ]
  },
  {
   "cell_type": "code",
   "execution_count": null,
   "id": "f50515dc",
   "metadata": {},
   "outputs": [],
   "source": [
    "\n",
    "vehicle_file_price_prediction_df = vehicle_file_price_prediction_df.merge(grouping_less_granular_original_median_df[['Manufacturer',\n",
    "                                                                                                    'Model',\n",
    "                                                                                                    'Veh_Generation',\n",
    "                                                                                                    'Start_Year_Veh_Generation',\n",
    "                                                                                                    'Veh_Desc_ABI',\n",
    "                                                                                                    'Fuel_Primary',\n",
    "                                                                                                    'Fuel_Secondary',\n",
    "                                                                                                    'Engine_Size_Litres',\n",
    "                                                                                                    'Body_Type',\n",
    "                                                                                                    'Aspiration', 'Price_New_Median', 'Price_Used_Median']], \n",
    "                                                                                                    on = ['Manufacturer',\n",
    "                                                                                                    'Model',\n",
    "                                                                                                    'Veh_Generation',\n",
    "                                                                                                    'Start_Year_Veh_Generation',\n",
    "                                                                                                    'Veh_Desc_ABI',\n",
    "                                                                                                    'Fuel_Primary',\n",
    "                                                                                                    'Fuel_Secondary',\n",
    "                                                                                                    'Engine_Size_Litres',\n",
    "                                                                                                    'Body_Type',\n",
    "                                                                                                    'Aspiration'], \n",
    "                                                                                                     how = 'left')\n"
   ]
  },
  {
   "cell_type": "code",
   "execution_count": null,
   "id": "0987caef",
   "metadata": {},
   "outputs": [],
   "source": [
    "vehicle_file_price_prediction_df"
   ]
  },
  {
   "cell_type": "code",
   "execution_count": null,
   "id": "b0e047e0",
   "metadata": {},
   "outputs": [],
   "source": [
    "vehicle_file_price_prediction_df['Price_New_Final_Filled'] = vehicle_file_price_prediction_df.apply(lambda x: x['Price_New_Median'] if pd.isnull(x['Price_New_Median'])==False else x['Price_New_Estimate_Filled'], axis = 1)\n",
    "\n",
    "vehicle_file_price_prediction_df['Price_Used_Final_Filled'] = vehicle_file_price_prediction_df.apply(lambda x: x['Price_Used_Median'] if pd.isnull(x['Price_Used_Median'])==False else x['Price_Used_Mean_Estimate'], axis = 1)\n",
    "\n",
    "vehicle_file_price_prediction_df.loc[pd.isnull(vehicle_file_price_prediction_df['Price_New_Final_Filled'])==True, 'Price_New_Final_Filled'] = vehicle_file_price_prediction_df.loc[pd.isnull(vehicle_file_price_prediction_df['Price_New_Final_Filled'])==True].apply(lambda x: price_vals[x['ABI_Code_44']] if x['ABI_Code_44'] in (price_vals.keys()) else x['Price_New_Final_Filled'], axis = 1)"
   ]
  },
  {
   "cell_type": "code",
   "execution_count": null,
   "id": "773336a6",
   "metadata": {},
   "outputs": [],
   "source": [
    "vehicle_file_price_prediction_df['Price_New_Final_Filled'].isna().sum()"
   ]
  },
  {
   "cell_type": "code",
   "execution_count": null,
   "id": "a84913ba",
   "metadata": {},
   "outputs": [],
   "source": [
    "vehicle_file_price_prediction_df.to_csv(r\"C:\\Users\\benwa\\vehicle_features\\Products - Documents\\03_Vehicle_File\\16_Theft_Rating_Re_Worked\\Price_Analysis\\grouped_price_data_new_price_filled.csv\")"
   ]
  },
  {
   "cell_type": "markdown",
   "id": "a58ada56",
   "metadata": {},
   "source": [
    "- Original missing"
   ]
  },
  {
   "cell_type": "code",
   "execution_count": null,
   "id": "a7d00abc",
   "metadata": {},
   "outputs": [],
   "source": [
    "print(vehicle_price_original_df['Price_New'].isna().sum())\n",
    "\n",
    "print(vehicle_price_original_df['Price_Used_Average'].isna().sum())"
   ]
  },
  {
   "cell_type": "code",
   "execution_count": null,
   "id": "d642ad14",
   "metadata": {},
   "outputs": [],
   "source": [
    "vehicle_file_price_prediction_df['Price_New_Final_Filled'].isna().sum()"
   ]
  },
  {
   "cell_type": "code",
   "execution_count": null,
   "id": "c103e996",
   "metadata": {},
   "outputs": [],
   "source": [
    "vehicle_file_price_prediction_df['Price_Used_Final_Filled'].isna().sum()\n"
   ]
  },
  {
   "cell_type": "markdown",
   "id": "726c7769",
   "metadata": {},
   "source": [
    "- Calculate depreciation/appreciation"
   ]
  },
  {
   "cell_type": "code",
   "execution_count": null,
   "id": "64d16243",
   "metadata": {},
   "outputs": [],
   "source": [
    "vehicle_file_price_prediction_df = vehicle_file_price_prediction_df.drop(columns=['Price_New_Median', 'Price_Used_Median', 'Price_New_Estimate_Filled', 'Price_Used_Mean_Estimate'])"
   ]
  },
  {
   "cell_type": "code",
   "execution_count": null,
   "id": "d8ec8281",
   "metadata": {},
   "outputs": [],
   "source": [
    "vehicle_file_price_prediction_df['End_Year_ABI_Code'] = vehicle_file_price_prediction_df['End_Date_ABI_Code'].apply(lambda x: (x.split('-'))[0] if ((x.split('-'))[0])!='9999' else -1)\n",
    "vehicle_file_price_prediction_df['End_Year_ABI_Code'] = vehicle_file_price_prediction_df['End_Year_ABI_Code'].astype(float)\n",
    "\n",
    "vehicle_file_price_prediction_df['Start_Year_ABI_Code'] = vehicle_file_price_prediction_df['Start_Date_ABI_Code'].apply(lambda x: (x.split('-'))[0] if ((x.split('-'))[0])!='9999' else -1)\n",
    "vehicle_file_price_prediction_df['Start_Year_ABI_Code'] = vehicle_file_price_prediction_df['Start_Year_ABI_Code'].astype(float)"
   ]
  },
  {
   "cell_type": "markdown",
   "id": "ddd56dc8",
   "metadata": {},
   "source": [
    "- Calculate decimal years from start of manufacturing"
   ]
  },
  {
   "cell_type": "code",
   "execution_count": null,
   "id": "2766b23f",
   "metadata": {},
   "outputs": [],
   "source": [
    "import datetime"
   ]
  },
  {
   "cell_type": "code",
   "execution_count": null,
   "id": "87934919",
   "metadata": {},
   "outputs": [],
   "source": [
    "vehicle_file_price_prediction_df['Years_From_First_Manufacturer']  = vehicle_file_price_prediction_df['Start_Date_ABI_Code'].apply(lambda x: round(((datetime.datetime.today() - datetime.datetime.strptime(x, '%Y-%m-%d')).days)/365, 2))\n"
   ]
  },
  {
   "cell_type": "code",
   "execution_count": null,
   "id": "db39dc63",
   "metadata": {},
   "outputs": [],
   "source": [
    "vehicle_file_price_prediction_df['Years_From_First_Manufacturer'].max()"
   ]
  },
  {
   "cell_type": "code",
   "execution_count": null,
   "id": "7dd80555",
   "metadata": {},
   "outputs": [],
   "source": [
    "vehicle_file_price_prediction_df.loc[vehicle_file_price_prediction_df['Price_New_Final_Filled']==0, 'Price_New_Final_Filled'] = np.full(len(vehicle_file_price_prediction_df.loc[vehicle_file_price_prediction_df['Price_New_Final_Filled']==0]), np.nan)"
   ]
  },
  {
   "cell_type": "code",
   "execution_count": null,
   "id": "27334bd3",
   "metadata": {},
   "outputs": [],
   "source": [
    "vehicle_file_price_prediction_df['Price_Change_Metric'] = vehicle_file_price_prediction_df.apply(lambda x: ((((abs(x['Price_New_Final_Filled']-x['Price_Used_Final_Filled']))/x['Price_New_Final_Filled'])**(1/x['Years_From_First_Manufacturer']))) if (pd.isnull(x['Price_Used_Final_Filled'])==False and pd.isnull(x['Price_New_Final_Filled'])==False) else np.nan, axis = 1)"
   ]
  },
  {
   "cell_type": "code",
   "execution_count": null,
   "id": "4cb2baa2",
   "metadata": {},
   "outputs": [],
   "source": [
    "vehicle_file_price_prediction_df.loc[vehicle_file_price_prediction_df['Price_Used_Final_Filled']>vehicle_file_price_prediction_df['Price_New_Final_Filled']][['ABI_Code_44', 'Manufacturer',\n",
    "                                                                                                    'Model',\n",
    "                                                                                                    'Veh_Generation',\n",
    "                                                                                                    'Start_Year_Veh_Generation',\n",
    "                                                                                                    'Veh_Desc_ABI',\n",
    "                                                                                                    'Fuel_Primary',\n",
    "                                                                                                    'Fuel_Secondary',\n",
    "                                                                                                    'Engine_Size_Litres',\n",
    "                                                                                                    'Body_Type',\n",
    "                                                                                                    'Aspiration', 'Price_New_Final_Filled', 'Price_Used_Final_Filled']]"
   ]
  },
  {
   "cell_type": "code",
   "execution_count": null,
   "id": "e37e4c2c",
   "metadata": {},
   "outputs": [],
   "source": [
    "vehicle_file_price_prediction_df.loc[(vehicle_file_price_prediction_df['Price_Used_Final_Filled']>vehicle_file_price_prediction_df['Price_New_Final_Filled'])&(vehicle_file_price_prediction_df['Manufacturer']=='Audi')&(vehicle_file_price_prediction_df['Model']=='Q2'), 'Price_Used_Final_Filled'] = np.full(len(vehicle_file_price_prediction_df.loc[(vehicle_file_price_prediction_df['Price_Used_Final_Filled']>vehicle_file_price_prediction_df['Price_New_Final_Filled'])&(vehicle_file_price_prediction_df['Manufacturer']=='Audi')&(vehicle_file_price_prediction_df['Model']=='Q2')]), 16500)\n",
    "\n",
    "vehicle_file_price_prediction_df.loc[(vehicle_file_price_prediction_df['Price_Used_Final_Filled']>vehicle_file_price_prediction_df['Price_New_Final_Filled'])&(vehicle_file_price_prediction_df['Manufacturer']=='Audi')&(vehicle_file_price_prediction_df['Model']=='A3'), 'Price_Used_Final_Filled'] = np.full(len(vehicle_file_price_prediction_df.loc[(vehicle_file_price_prediction_df['Price_Used_Final_Filled']>vehicle_file_price_prediction_df['Price_New_Final_Filled'])&(vehicle_file_price_prediction_df['Manufacturer']=='Audi')&(vehicle_file_price_prediction_df['Model']=='A3')]), 49000)\n"
   ]
  },
  {
   "cell_type": "code",
   "execution_count": null,
   "id": "f7f431ac",
   "metadata": {},
   "outputs": [],
   "source": [
    "vehicle_file_price_prediction_df.loc[(vehicle_file_price_prediction_df['Price_Used_Final_Filled']>vehicle_file_price_prediction_df['Price_New_Final_Filled'])&(vehicle_file_price_prediction_df['Manufacturer']=='Audi')]['Start_Year_Veh_Generation']"
   ]
  },
  {
   "cell_type": "markdown",
   "id": "fa8ef498",
   "metadata": {},
   "source": [
    "- Manual Changes before model training"
   ]
  },
  {
   "cell_type": "code",
   "execution_count": null,
   "id": "32a65538",
   "metadata": {},
   "outputs": [],
   "source": [
    "vehicle_file_price_prediction_df.loc[vehicle_file_price_prediction_df['ABI_Code_44']==4137689, 'Price_Used_Final_Filled'] = 16500\n",
    "\n",
    "vehicle_file_price_prediction_df.loc[vehicle_file_price_prediction_df['ABI_Code_44']==4137164, 'Price_Used_Final_Filled'] = 28500\n",
    "\n",
    "vehicle_file_price_prediction_df.loc[vehicle_file_price_prediction_df['ABI_Code_44']==4136716, 'Price_Used_Final_Filled'] = 26000\n",
    "\n",
    "vehicle_file_price_prediction_df.loc[vehicle_file_price_prediction_df['ABI_Code_44']==57100011, 'Price_Used_Final_Filled'] = 58000\n",
    "\n",
    "vehicle_file_price_prediction_df.loc[vehicle_file_price_prediction_df['ABI_Code_44']==57100011, 'Price_New_Final_Filled'] = 69000\n",
    "\n",
    "vehicle_file_price_prediction_df.loc[vehicle_file_price_prediction_df['ABI_Code_44']==57100011, 'Price_Used_Final_Filled'] = 58000\n",
    "\n",
    "\n"
   ]
  },
  {
   "cell_type": "markdown",
   "id": "d4fb1fd6",
   "metadata": {},
   "source": [
    "**Final_Price** = `Price_New_Final_Filled` - ((`Price_Change_Metric`^(`Years_From_First_Manufacturer`))*`Price_New_Final_Filled`)"
   ]
  },
  {
   "cell_type": "code",
   "execution_count": null,
   "id": "1f6deafc",
   "metadata": {},
   "outputs": [],
   "source": [
    "vehicle_file_price_prediction_df['Price_Change_Metric'].median()"
   ]
  },
  {
   "cell_type": "code",
   "execution_count": null,
   "id": "a2d0c18e",
   "metadata": {},
   "outputs": [],
   "source": [
    "vehicle_file_price_prediction_df['Price_Change_Metric'].describe()"
   ]
  },
  {
   "cell_type": "markdown",
   "id": "65b024eb",
   "metadata": {},
   "source": [
    "- Should I remove extremes..."
   ]
  },
  {
   "cell_type": "markdown",
   "id": "a7a8f62c",
   "metadata": {},
   "source": [
    "- Use linear predictor/glm to calculate these missing values"
   ]
  },
  {
   "cell_type": "code",
   "execution_count": null,
   "id": "a457d70b",
   "metadata": {},
   "outputs": [],
   "source": [
    "fuel_primary_df = pd.read_excel(r\"C:\\Users\\benwa\\Downloads\\Test_schema.xlsm\", sheet_name='Fuel_Primary')\n",
    "fuel_primary_map = dict(zip(fuel_primary_df['Key'], fuel_primary_df['Value']))\n",
    "\n",
    "fuel_secondary_df = pd.read_excel(r\"C:\\Users\\benwa\\Downloads\\Test_schema.xlsm\", sheet_name='Fuel_Secondary')\n",
    "fuel_secondary_map = dict(zip(fuel_secondary_df['Key'], fuel_secondary_df['Value']))\n",
    "fuel_secondary_map = {np.nan: 0, 'Electric': 1, 'CNG':2, 'Hydrogen': 3, 'LPG': 4, 'Petrol': 5, 'Biofuel': 6}\n",
    "\n",
    "fuel_desc_df = pd.read_excel(r\"C:\\Users\\benwa\\Downloads\\Test_schema.xlsm\", sheet_name='Fuel_Desc')\n",
    "fuel_desc_map = dict(zip(fuel_desc_df['Key'], fuel_desc_df['Value']))\n",
    "\n",
    "aspiration_df = pd.read_excel(r\"C:\\Users\\benwa\\Downloads\\Test_schema.xlsm\", sheet_name='Aspiration')\n",
    "aspiration_map = dict(zip(aspiration_df['Key'], aspiration_df['Value']))\n",
    "\n",
    "drive_type_df = pd.read_excel(r\"C:\\Users\\benwa\\Downloads\\Test_schema.xlsm\", sheet_name='Drive_Type')\n",
    "drive_type_map = dict(zip(drive_type_df['Key'], drive_type_df['Value']))\n",
    "\n",
    "body_type_df = pd.read_excel(r\"C:\\Users\\benwa\\Downloads\\Test_schema.xlsm\", sheet_name='Body_Type')\n",
    "body_type_map = dict(zip(body_type_df['Key'], body_type_df['Value']))\n",
    "\n",
    "import_type_df = pd.read_excel(r\"C:\\Users\\benwa\\Downloads\\Test_schema.xlsm\", sheet_name='Import_Type')\n",
    "import_type_map = dict(zip(import_type_df['Key'], import_type_df['Value']))\n",
    "\n",
    "gr20_l_df = pd.read_excel(r\"C:\\Users\\benwa\\Downloads\\Test_schema.xlsm\", sheet_name='GR20_L')\n",
    "gr20_l_map = dict(zip(gr20_l_df['Key'], gr20_l_df['Value']))\n",
    "\n",
    "gr50_l_df = pd.read_excel(r\"C:\\Users\\benwa\\Downloads\\Test_schema.xlsm\", sheet_name='GR50_L')\n",
    "gr50_l_map = dict(zip(gr50_l_df['Key'], gr50_l_df['Value']))\n",
    "\n",
    "transmission_df = pd.read_excel(r\"C:\\Users\\benwa\\Downloads\\Test_schema.xlsm\", sheet_name='Transmission')\n",
    "transmission_map = dict(zip(transmission_df['Key'], transmission_df['Value']))\n",
    "\n",
    "transmission_group_df = pd.read_excel(r\"C:\\Users\\benwa\\Downloads\\Test_schema.xlsm\", sheet_name='Transmission_Group')\n",
    "transmission_group_map = dict(zip(transmission_group_df['Key'], transmission_group_df['Value']))\n",
    "\n",
    "aeb_type_df = pd.read_excel(r\"C:\\Users\\benwa\\Downloads\\Test_schema.xlsm\", sheet_name='AEB_Type')\n",
    "aeb_type_map = dict(zip(aeb_type_df['Key'], aeb_type_df['Value']))\n",
    "\n",
    "speed_adapt_df = pd.read_excel(r\"C:\\Users\\benwa\\Downloads\\Test_schema.xlsm\", sheet_name='Speed_Adapt')\n",
    "speed_adapt_map = dict(zip(speed_adapt_df['Key'], speed_adapt_df['Value']))\n",
    "\n",
    "speed_alert_df = pd.read_excel(r\"C:\\Users\\benwa\\Downloads\\Test_schema.xlsm\", sheet_name='Speed_Alert')\n",
    "speed_alert_map = dict(zip(speed_alert_df['Key'], speed_alert_df['Value']))\n",
    "\n",
    "ldw_df = pd.read_excel(r\"C:\\Users\\benwa\\Downloads\\Test_schema.xlsm\", sheet_name='LDW')\n",
    "ldw_map = dict(zip(ldw_df['Key'], ldw_df['Value']))\n",
    "\n",
    "blis_df = pd.read_excel(r\"C:\\Users\\benwa\\Downloads\\Test_schema.xlsm\", sheet_name='BLIS')\n",
    "blis_map = dict(zip(blis_df['Key'], blis_df['Value']))\n",
    "\n",
    "manufacturer_df = pd.read_excel(r\"C:\\Users\\benwa\\vehicle_features\\Products - Documents\\03_Vehicle_File\\Categorical feature ordering-automated adjusted.xlsx\", sheet_name='Manufacturers_Manual')\n",
    "manufacturer_map = dict(zip(manufacturer_df['Manufacturer'], manufacturer_df['Rank']))\n",
    "\n",
    "security_thatcham_map = {np.nan : 0, 'N2' : 1, 'N1' : 2, 'T2' : 3, 'T1' : 4}"
   ]
  },
  {
   "cell_type": "code",
   "execution_count": null,
   "id": "25dcd06d",
   "metadata": {},
   "outputs": [],
   "source": [
    "vehicle_file_price_prediction_numerical_df = vehicle_file_price_prediction_df.copy()\n",
    "\n",
    "vehicle_file_price_prediction_numerical_df['Manufacturer'] = vehicle_file_price_prediction_numerical_df['Manufacturer'].apply(lambda x: manufacturer_map[x])\n",
    "\n",
    "vehicle_file_price_prediction_numerical_df['Fuel_Primary'] = vehicle_file_price_prediction_numerical_df['Fuel_Primary'].apply(lambda x: fuel_primary_map[x])\n",
    "\n",
    "vehicle_file_price_prediction_numerical_df['Fuel_Secondary'] = vehicle_file_price_prediction_numerical_df['Fuel_Secondary'].apply(lambda x: fuel_secondary_map[x])\n",
    "\n",
    "vehicle_file_price_prediction_numerical_df['Fuel_Desc'] = vehicle_file_price_prediction_numerical_df['Fuel_Desc'].apply(lambda x: fuel_desc_map[x])\n",
    "\n",
    "vehicle_file_price_prediction_numerical_df['Aspiration'] = vehicle_file_price_prediction_numerical_df['Aspiration'].apply(lambda x: aspiration_map[x])\n",
    "\n",
    "vehicle_file_price_prediction_numerical_df['Drive_Type'] = vehicle_file_price_prediction_numerical_df['Drive_Type'].apply(lambda x: drive_type_map[x])\n",
    "\n",
    "vehicle_file_price_prediction_numerical_df['Body_Type'] = vehicle_file_price_prediction_numerical_df['Body_Type'].apply(lambda x: body_type_map[x])\n",
    "\n",
    "vehicle_file_price_prediction_numerical_df['Veh_Import_Type'] = vehicle_file_price_prediction_numerical_df['Veh_Import_Type'].apply(lambda x: import_type_map[x])\n",
    "\n",
    "vehicle_file_price_prediction_numerical_df['GR20_L'] = vehicle_file_price_prediction_numerical_df['GR20_L'].apply(lambda x: gr20_l_map[x])\n",
    "\n",
    "vehicle_file_price_prediction_numerical_df['GR50_L'] = vehicle_file_price_prediction_numerical_df['GR50_L'].apply(lambda x: gr50_l_map[x])\n",
    "\n",
    "vehicle_file_price_prediction_numerical_df['Transmission'] = vehicle_file_price_prediction_numerical_df['Transmission'].apply(lambda x: transmission_map[x])\n",
    "\n",
    "vehicle_file_price_prediction_numerical_df['Transmission_Group'] = vehicle_file_price_prediction_numerical_df['Transmission_Group'].apply(lambda x: transmission_group_map[x])\n",
    "\n",
    "vehicle_file_price_prediction_numerical_df['AEB_Type'] = vehicle_file_price_prediction_numerical_df['AEB_Type'].apply(lambda x: aeb_type_map[x])\n",
    "\n",
    "vehicle_file_price_prediction_numerical_df['Speed_Adapt'] = vehicle_file_price_prediction_numerical_df['Speed_Adapt'].apply(lambda x: speed_adapt_map[x])\n",
    "\n",
    "vehicle_file_price_prediction_numerical_df['Speed_Alert'] = vehicle_file_price_prediction_numerical_df['Speed_Alert'].apply(lambda x: speed_alert_map[x])\n",
    "\n",
    "vehicle_file_price_prediction_numerical_df['LDW'] = vehicle_file_price_prediction_numerical_df['LDW'].apply(lambda x: ldw_map[x])\n",
    "\n",
    "vehicle_file_price_prediction_numerical_df['BLIS'] = vehicle_file_price_prediction_numerical_df['BLIS'].apply(lambda x: blis_map[x])\n",
    "\n",
    "vehicle_file_price_prediction_numerical_df['Security_Thatcham'] = vehicle_file_price_prediction_numerical_df['Security_Thatcham'].apply(lambda x: security_thatcham_map[x])\n"
   ]
  },
  {
   "cell_type": "code",
   "execution_count": null,
   "id": "ed0cbab1",
   "metadata": {},
   "outputs": [],
   "source": [
    "vehicle_file_price_prediction_numerical_df = vehicle_file_price_prediction_numerical_df.select_dtypes(np.number)"
   ]
  },
  {
   "cell_type": "markdown",
   "id": "8dc747ae",
   "metadata": {},
   "source": [
    "- Replace zeros with NaN"
   ]
  },
  {
   "cell_type": "code",
   "execution_count": null,
   "id": "d970af94",
   "metadata": {},
   "outputs": [],
   "source": [
    "vehicle_file_price_prediction_numerical_df.loc[vehicle_file_price_prediction_numerical_df['Price_New_Final_Filled']==0, 'Price_New_Final_Filled'] = np.full(len(vehicle_file_price_prediction_numerical_df.loc[vehicle_file_price_prediction_numerical_df['Price_New_Final_Filled']==0]), np.nan)\n",
    "\n",
    "vehicle_file_price_prediction_numerical_df.loc[vehicle_file_price_prediction_numerical_df['Price_Used_Final_Filled']==0, 'Price_Used_Final_Filled'] = np.full(len(vehicle_file_price_prediction_numerical_df.loc[vehicle_file_price_prediction_numerical_df['Price_Used_Final_Filled']==0]), np.nan)\n"
   ]
  },
  {
   "cell_type": "markdown",
   "id": "bdce4eda",
   "metadata": {},
   "source": [
    "- Is there new price data"
   ]
  },
  {
   "cell_type": "code",
   "execution_count": null,
   "id": "8abcffde",
   "metadata": {},
   "outputs": [],
   "source": [
    "print(len(vehicle_file_price_prediction_numerical_df))\n",
    "\n",
    "print(len(vehicle_file_price_prediction_numerical_df.loc[pd.isnull(vehicle_file_price_prediction_numerical_df['Price_New_Final_Filled'])==False]))\n"
   ]
  },
  {
   "cell_type": "code",
   "execution_count": null,
   "id": "1f081367",
   "metadata": {},
   "outputs": [],
   "source": [
    "Vehicle_file_predictions_all = vehicle_file_price_prediction_numerical_df.loc[pd.isnull(vehicle_file_price_prediction_numerical_df['Price_New_Final_Filled'])==False]\n",
    "\n",
    "Vehicle_file_predictions_all = Vehicle_file_predictions_all[X.columns]"
   ]
  },
  {
   "cell_type": "code",
   "execution_count": null,
   "id": "50e3437d",
   "metadata": {},
   "outputs": [],
   "source": [
    "final_predictions = vehicle_file_price_prediction_numerical_df.loc[pd.isnull(vehicle_file_price_prediction_numerical_df['Price_Change_Metric'])==False]\n",
    "final_predictions"
   ]
  },
  {
   "cell_type": "code",
   "execution_count": null,
   "id": "b79cc983",
   "metadata": {},
   "outputs": [],
   "source": [
    "vehicle_file_price_prediction_numerical_df.loc[(pd.isnull(vehicle_file_price_prediction_numerical_df['Price_New_Final_Filled'])==True)&(pd.isnull(vehicle_file_price_prediction_numerical_df['Price_Used_Final_Filled'])==False)]"
   ]
  },
  {
   "cell_type": "markdown",
   "id": "60784ca8",
   "metadata": {},
   "source": [
    "# Imputing missing values"
   ]
  },
  {
   "cell_type": "code",
   "execution_count": null,
   "id": "11d3a7e2",
   "metadata": {},
   "outputs": [],
   "source": [
    "from sklearn.experimental import enable_iterative_imputer\n",
    "from sklearn.impute import IterativeImputer"
   ]
  },
  {
   "cell_type": "code",
   "execution_count": null,
   "id": "7a8f2bd5",
   "metadata": {},
   "outputs": [],
   "source": [
    "vehicle_file_price_prediction_numerical_copy_df = vehicle_file_price_prediction_numerical_df.copy()\n",
    "\n",
    "vehicle_file_price_prediction_numerical_copy_df.loc[vehicle_file_price_prediction_numerical_copy_df['GR_L']==-1, 'GR_L'] = np.full(len(vehicle_file_price_prediction_numerical_copy_df.loc[vehicle_file_price_prediction_numerical_copy_df['GR_L']==-1]), np.nan)\n",
    "vehicle_file_price_prediction_numerical_copy_df.loc[vehicle_file_price_prediction_numerical_copy_df['ID_Score_NVSA']==-1, 'ID_Score_NVSA'] = np.full(len(vehicle_file_price_prediction_numerical_copy_df.loc[vehicle_file_price_prediction_numerical_copy_df['ID_Score_NVSA']==-1]), np.nan)\n",
    "vehicle_file_price_prediction_numerical_copy_df.loc[vehicle_file_price_prediction_numerical_copy_df['Body_Score_NVSA']==-1, 'Body_Score_NVSA'] = np.full(len(vehicle_file_price_prediction_numerical_copy_df.loc[vehicle_file_price_prediction_numerical_copy_df['Body_Score_NVSA']==-1]), np.nan)\n",
    "vehicle_file_price_prediction_numerical_copy_df.loc[vehicle_file_price_prediction_numerical_copy_df['Electronic_Score_NVSA']==-1, 'Electronic_Score_NVSA'] = np.full(len(vehicle_file_price_prediction_numerical_copy_df.loc[vehicle_file_price_prediction_numerical_copy_df['Electronic_Score_NVSA']==-1]), np.nan)\n",
    "vehicle_file_price_prediction_numerical_copy_df.loc[vehicle_file_price_prediction_numerical_copy_df['Safety_Manufacturer']==-1, 'Safety_Manufacturer'] = np.full(len(vehicle_file_price_prediction_numerical_copy_df.loc[vehicle_file_price_prediction_numerical_copy_df['Safety_Manufacturer']==-1]), np.nan)\n",
    "vehicle_file_price_prediction_numerical_copy_df.loc[vehicle_file_price_prediction_numerical_copy_df['AEB_Type']==-1, 'AEB_Type'] = np.full(len(vehicle_file_price_prediction_numerical_copy_df.loc[vehicle_file_price_prediction_numerical_copy_df['AEB_Type']==-1]), np.nan)\n",
    "vehicle_file_price_prediction_numerical_copy_df.loc[vehicle_file_price_prediction_numerical_copy_df['AEB_Score']==-1, 'AEB_Score'] = np.full(len(vehicle_file_price_prediction_numerical_copy_df.loc[vehicle_file_price_prediction_numerical_copy_df['AEB_Score']==-1]), np.nan)\n",
    "vehicle_file_price_prediction_numerical_copy_df.loc[vehicle_file_price_prediction_numerical_copy_df['Speed_Alert']==-1, 'Speed_Alert'] = np.full(len(vehicle_file_price_prediction_numerical_copy_df.loc[vehicle_file_price_prediction_numerical_copy_df['Speed_Alert']==-1]), np.nan)\n",
    "vehicle_file_price_prediction_numerical_copy_df.loc[vehicle_file_price_prediction_numerical_copy_df['Speed_Adapt']==-1, 'Speed_Adapt'] = np.full(len(vehicle_file_price_prediction_numerical_copy_df.loc[vehicle_file_price_prediction_numerical_copy_df['Speed_Adapt']==-1]), np.nan)\n",
    "vehicle_file_price_prediction_numerical_copy_df.loc[vehicle_file_price_prediction_numerical_copy_df['Bumper_Score_RCAR']==-1, 'Bumper_Score_RCAR'] = np.full(len(vehicle_file_price_prediction_numerical_copy_df.loc[vehicle_file_price_prediction_numerical_copy_df['Bumper_Score_RCAR']==-1]), np.nan)\n",
    "vehicle_file_price_prediction_numerical_copy_df.loc[vehicle_file_price_prediction_numerical_copy_df['LDW']==-1, 'LDW'] = np.full(len(vehicle_file_price_prediction_numerical_copy_df.loc[vehicle_file_price_prediction_numerical_copy_df['LDW']==-1]), np.nan)\n",
    "vehicle_file_price_prediction_numerical_copy_df.loc[vehicle_file_price_prediction_numerical_copy_df['BLIS']==-1, 'BLIS'] = np.full(len(vehicle_file_price_prediction_numerical_copy_df.loc[vehicle_file_price_prediction_numerical_copy_df['BLIS']==-1]), np.nan)\n",
    "\n",
    "vehicle_file_price_prediction_numerical_copy_df.loc[vehicle_file_price_prediction_numerical_copy_df['ID_Score_NVSA']==0, 'ID_Score_NVSA'] = np.nan\n",
    "vehicle_file_price_prediction_numerical_copy_df.loc[vehicle_file_price_prediction_numerical_copy_df['ID_Score_NVSA']==1, 'ID_Score_NVSA'] = np.nan\n",
    "\n",
    "vehicle_file_price_prediction_numerical_copy_df.loc[vehicle_file_price_prediction_numerical_copy_df['Body_Score_NVSA']==0, 'Body_Score_NVSA'] = np.nan\n",
    "vehicle_file_price_prediction_numerical_copy_df.loc[vehicle_file_price_prediction_numerical_copy_df['Body_Score_NVSA']==1, 'Body_Score_NVSA'] = np.nan\n",
    "\n",
    "vehicle_file_price_prediction_numerical_copy_df.loc[vehicle_file_price_prediction_numerical_copy_df['Electronic_Score_NVSA']==0, 'Electronic_Score_NVSA'] = np.nan\n",
    "vehicle_file_price_prediction_numerical_copy_df.loc[vehicle_file_price_prediction_numerical_copy_df['Electronic_Score_NVSA']==1, 'Electronic_Score_NVSA'] = np.nan\n",
    "\n",
    "imputer = IterativeImputer(max_iter=10, random_state=0)\n",
    "\n",
    "imputed_values = imputer.fit_transform(vehicle_file_price_prediction_numerical_copy_df)"
   ]
  },
  {
   "cell_type": "code",
   "execution_count": null,
   "id": "6207029a",
   "metadata": {},
   "outputs": [],
   "source": [
    "imputed_values.shape"
   ]
  },
  {
   "cell_type": "code",
   "execution_count": null,
   "id": "59af7a14",
   "metadata": {},
   "outputs": [],
   "source": [
    "vehicle_file_price_prediction_numerical_copy_df[vehicle_file_price_prediction_numerical_copy_df.columns] = imputed_values\n",
    "\n",
    "vehicle_file_price_prediction_numerical_copy_df"
   ]
  },
  {
   "cell_type": "code",
   "execution_count": null,
   "id": "4ba13ea1",
   "metadata": {},
   "outputs": [],
   "source": [
    "for val in list(vehicle_file_price_prediction_numerical_df.columns):\n",
    "    print(val)\n",
    "    print(len(vehicle_file_price_prediction_numerical_df.loc[vehicle_file_price_prediction_numerical_df[val]==-1]))\n",
    "    \n",
    "    print(len(vehicle_file_price_prediction_numerical_df.loc[pd.isnull(vehicle_file_price_prediction_numerical_df[val])==True]))\n",
    "    "
   ]
  },
  {
   "cell_type": "markdown",
   "id": "c80cf07d",
   "metadata": {},
   "source": [
    "# Overlay"
   ]
  },
  {
   "cell_type": "code",
   "execution_count": null,
   "id": "162f6882",
   "metadata": {},
   "outputs": [],
   "source": [
    "from sklearn.preprocessing import MinMaxScaler\n",
    "\n",
    "pd.set_option('display.max_columns', None)"
   ]
  },
  {
   "cell_type": "code",
   "execution_count": null,
   "id": "cd9ff9e8",
   "metadata": {},
   "outputs": [],
   "source": [
    "vehicle_file_price_prediction_numerical_df"
   ]
  },
  {
   "cell_type": "code",
   "execution_count": null,
   "id": "9cd54ad8",
   "metadata": {},
   "outputs": [],
   "source": [
    "vehicle_file_price_prediction_numerical_df['GR_L'] = vehicle_file_price_prediction_numerical_df.apply(lambda x: x['GR50_L'] if x['GR50_L'] !=-1 else x['GR20_L'], axis = 1)\n",
    "\n",
    "vehicle_file_price_prediction_numerical_df['GR_L'].unique()"
   ]
  },
  {
   "cell_type": "code",
   "execution_count": null,
   "id": "1681f188",
   "metadata": {},
   "outputs": [],
   "source": [
    "vehicle_file_price_prediction_numerical_df.loc[vehicle_file_price_prediction_numerical_df['GR_L']==-1]"
   ]
  },
  {
   "cell_type": "code",
   "execution_count": null,
   "id": "571d7c36",
   "metadata": {},
   "outputs": [],
   "source": [
    "vehicle_file_price_prediction_numerical_df['GR_L'].unique()"
   ]
  },
  {
   "cell_type": "code",
   "execution_count": null,
   "id": "846806fd",
   "metadata": {},
   "outputs": [],
   "source": []
  },
  {
   "cell_type": "markdown",
   "id": "b9ff5818",
   "metadata": {},
   "source": [
    "- Imputing final missing prices"
   ]
  },
  {
   "cell_type": "code",
   "execution_count": null,
   "id": "6851b636",
   "metadata": {},
   "outputs": [],
   "source": [
    "scaler = MinMaxScaler()\n",
    "\n",
    "df_overlay = vehicle_file_price_prediction_numerical_copy_df[['Years_From_First_Manufacturer', 'vehicle_features_MR_Risk_Accident_23', 'GR_L', 'Safety_Manufacturer', 'Power_to_Weight', 'Fuel_Desc', 'Veh_Import_Type', 'Body_Type', 'Seats_Num', 'Doors_Num', 'Volume_Box', 'Engine_Size_PetroElectric', 'ID_Score_NVSA', 'Body_Score_NVSA', 'Electronic_Score_NVSA', 'Engine_Power_kW']]\n",
    "\n",
    "df_overlay_scaled = scaler.fit_transform(df_overlay.to_numpy())\n",
    "\n",
    "df_overlay.loc[:, df_overlay.columns] = df_overlay_scaled\n",
    "\n",
    "df_overlay = vehicle_file_price_prediction_numerical_copy_df[['ABI_Code_44']].join(df_overlay)\n",
    "\n",
    "df_overlay"
   ]
  },
  {
   "cell_type": "code",
   "execution_count": null,
   "id": "ac49f3cf",
   "metadata": {},
   "outputs": [],
   "source": [
    "body_type_map"
   ]
  },
  {
   "cell_type": "code",
   "execution_count": null,
   "id": "8b65900a",
   "metadata": {},
   "outputs": [],
   "source": [
    "df_overlay\n"
   ]
  },
  {
   "cell_type": "code",
   "execution_count": null,
   "id": "c5490309",
   "metadata": {},
   "outputs": [],
   "source": [
    "import_type_map"
   ]
  },
  {
   "cell_type": "markdown",
   "id": "2a98da3f",
   "metadata": {},
   "source": [
    "- Incorporating Price data"
   ]
  },
  {
   "cell_type": "code",
   "execution_count": null,
   "id": "1d7cf88d",
   "metadata": {},
   "outputs": [],
   "source": [
    "price_df = pd.read_csv(r\"C:\\Users\\benwa\\vehicle_features\\Products - Documents\\03_Vehicle_File\\16_Theft_Rating_Re_Worked\\Price_Analysis\\vehicle_file_with_depreciation_factor.csv\")"
   ]
  },
  {
   "cell_type": "code",
   "execution_count": null,
   "id": "1ade7251",
   "metadata": {},
   "outputs": [],
   "source": [
    "print(len(price_df))\n",
    "print(len(price_df.loc[pd.isnull(price_df['Price_New_Final_Filled'])==False]))"
   ]
  },
  {
   "cell_type": "code",
   "execution_count": null,
   "id": "8250d2e8",
   "metadata": {},
   "outputs": [],
   "source": [
    "price_df"
   ]
  },
  {
   "cell_type": "code",
   "execution_count": null,
   "id": "96429c77",
   "metadata": {},
   "outputs": [],
   "source": [
    "price_combined_df = price_df.copy()\n",
    "\n",
    "price_combined_df['Price_Used_Final_Filled'] = price_combined_df.apply(lambda x: x['Price_Used_Final_Filled'] if pd.isnull(x['Price_Used_Final_Filled'])==False else x['Price_Used_Predicted'] if x['Price_Used_Predicted']>300 else np.nan, axis = 1)"
   ]
  },
  {
   "cell_type": "code",
   "execution_count": null,
   "id": "be177f8c",
   "metadata": {},
   "outputs": [],
   "source": [
    "price_combined_df['Price_New_Final_Filled'].isna().sum()\n"
   ]
  },
  {
   "cell_type": "code",
   "execution_count": null,
   "id": "0e5dfebe",
   "metadata": {},
   "outputs": [],
   "source": [
    "price_combined_df['Price_Used_Final_Filled'].isna().sum()"
   ]
  },
  {
   "cell_type": "code",
   "execution_count": null,
   "id": "970ee637",
   "metadata": {},
   "outputs": [],
   "source": [
    "imputer = IterativeImputer(max_iter=10, random_state=0)\n",
    "\n",
    "price_combined_copy_df = price_combined_df.copy()\n",
    "\n",
    "price_combined_copy_df = price_combined_copy_df.select_dtypes(include='number')\n",
    "\n",
    "imputed_values = imputer.fit_transform(price_combined_copy_df)"
   ]
  },
  {
   "cell_type": "code",
   "execution_count": null,
   "id": "1f1ff754",
   "metadata": {},
   "outputs": [],
   "source": [
    "from sklearn.preprocessing import MinMaxScaler\n",
    "\n",
    "scaler = MinMaxScaler((-3,3))"
   ]
  },
  {
   "cell_type": "code",
   "execution_count": null,
   "id": "15a51aec",
   "metadata": {},
   "outputs": [],
   "source": [
    "df_overlay['Overlay_Value'] = - (1.5*df_overlay['Electronic_Score_NVSA']) - (1.2*df_overlay['GR_L']) - (0.8*df_overlay['Body_Score_NVSA']) - (0.6*df_overlay['ID_Score_NVSA']) + df_overlay['vehicle_features_MR_Risk_Accident_23'] + df_overlay['Veh_Import_Type'] #  + df_overlay['Power_to_Weight'] + df_overlay['Safety_Manufacturer'] + df_overlay['Engine_Power_kW']\n",
    "\n",
    "#+ (0.4*df_overlay['Safety_Manufacturer']) + (0.6*df_overlay['Engine_Power_kW']) + (0.8*df_overlay['Power_to_Weight']) + (0.8*df_overlay['vehicle_features_MR_Risk_Accident_23']) + (0.8*df_overlay['Veh_Import_Type']) + (0.6*df_overlay['Engine_Power_kW'])\n",
    "\n",
    "#(0.4*df_overlay['Safety_Manufacturer'])+(0.3*df_overlay['Engine_Power_kW'])+ (0.6*df_overlay['Power_to_Weight']) + (0.4*df_overlay['vehicle_features_MR_Risk_Accident_23']) +(0.6*df_overlay['Veh_Import_Type']) + (0.4*df_overlay['Engine_Power_kW'])\n",
    "\n",
    "a, b = -2, 2\n",
    "\n",
    "x,y = df_overlay['Overlay_Value'].min(), df_overlay['Overlay_Value'].max()\n",
    "\n",
    "#df_overlay['Overlay_Value_Scaled'] = df_overlay['Overlay_Value'].apply(lambda overlay: round((overlay-x)/(y-x)*(b-a)+a))\n",
    "\n",
    "df_overlay['Overlay_Value_Scaled'] = scaler.fit_transform(df_overlay[['Overlay_Value']])"
   ]
  },
  {
   "cell_type": "code",
   "execution_count": null,
   "id": "cefc50ab",
   "metadata": {},
   "outputs": [],
   "source": [
    "plt.plot(df_overlay['Overlay_Value_Scaled'])"
   ]
  },
  {
   "cell_type": "code",
   "execution_count": null,
   "id": "9b5a283b",
   "metadata": {},
   "outputs": [],
   "source": [
    "df_overlay.loc[df_overlay['Overlay_Value_Scaled']<-1]\n"
   ]
  },
  {
   "cell_type": "code",
   "execution_count": null,
   "id": "e89b5502",
   "metadata": {},
   "outputs": [],
   "source": [
    "master_file_with_overlay_df = master_file.join(df_overlay['Overlay_Value_Scaled'])"
   ]
  },
  {
   "cell_type": "code",
   "execution_count": null,
   "id": "ca23dead",
   "metadata": {},
   "outputs": [],
   "source": [
    "master_file_with_overlay_df['Overlay_Value_Scaled'] = df_overlay['Overlay_Value_Scaled']"
   ]
  },
  {
   "cell_type": "code",
   "execution_count": null,
   "id": "57def21a",
   "metadata": {},
   "outputs": [],
   "source": [
    "master_file_with_overlay_df['Overlay_Value_Scaled'].unique()"
   ]
  },
  {
   "cell_type": "code",
   "execution_count": null,
   "metadata": {},
   "outputs": [],
   "source": [
    "master_file_with_overlay_df.loc[master_file_with_overlay_df['Overlay_Value_Scaled']==-2]"
   ]
  },
  {
   "cell_type": "code",
   "execution_count": null,
   "id": "c3c8a12c",
   "metadata": {},
   "outputs": [],
   "source": [
    "master_file_with_overlay_df.to_csv(r\"C:\\Users\\benwa\\vehicle_features\\Products - Documents\\03_Vehicle_File\\16_Theft_Rating_Re_Worked\\Overlays_try\\possible_overlay.csv\")"
   ]
  },
  {
   "cell_type": "code",
   "execution_count": null,
   "id": "59281165",
   "metadata": {},
   "outputs": [],
   "source": [
    "grouped_by_manufacturer = master_file_with_overlay_df.groupby(by=['Manufacturer', 'Overlay_Value_Scaled']).agg({'Overlay_Value_Scaled':['count', 'first']}).reset_index()\n",
    "\n",
    "labels = grouped_by_manufacturer['Overlay_Value_Scaled']['first']\n",
    "\n",
    "def addlabels(x,y):\n",
    "    for i in range(len(x)):\n",
    "        plt.text(x[i], y[i], labels[i], ha = 'center')"
   ]
  },
  {
   "cell_type": "code",
   "execution_count": null,
   "id": "b921b515",
   "metadata": {},
   "outputs": [],
   "source": [
    "grouped_by_manufacturer = master_file_with_overlay_df.groupby(by=['Manufacturer']).agg({'Overlay_Value_Scaled':['mean', 'median']}).reset_index()\n",
    "\n",
    "\n",
    "x = grouped_by_manufacturer['Manufacturer']\n",
    "\n",
    "y = grouped_by_manufacturer['Overlay_Value_Scaled']['mean']\n",
    "\n",
    "\n",
    "plt.figure(figsize=(20, 15))\n",
    "plt.bar(x,y)\n",
    "plt.xticks(rotation=90)\n",
    "\n",
    "#addlabels(x, y)\n",
    "\n",
    "plt.show()\n",
    "\n"
   ]
  },
  {
   "cell_type": "code",
   "execution_count": null,
   "id": "7861bcb0",
   "metadata": {},
   "outputs": [],
   "source": [
    "master_file_with_overlay_df"
   ]
  },
  {
   "cell_type": "code",
   "execution_count": null,
   "id": "2cf80e13",
   "metadata": {},
   "outputs": [],
   "source": [
    "df_overlay['Overlay_Value'].max()"
   ]
  },
  {
   "cell_type": "code",
   "execution_count": null,
   "id": "6bda9fb3",
   "metadata": {},
   "outputs": [],
   "source": [
    "master_df_check = pd.read_csv(r\"C:\\Users\\benwa\\vehicle_features\\Products - Documents\\03_Vehicle_File\\08_Master_File\\vehicle_features_Vehicle_File_Master_05_09_2023.csv\")"
   ]
  },
  {
   "cell_type": "markdown",
   "id": "94e0a3af",
   "metadata": {},
   "source": [
    "New and Used need to train data"
   ]
  },
  {
   "cell_type": "code",
   "execution_count": null,
   "id": "b7546bbf",
   "metadata": {},
   "outputs": [],
   "source": [
    "vehicle_file_price_prediction_numerical_new_price_present_df = vehicle_file_price_prediction_numerical_df.loc[(pd.isnull(vehicle_file_price_prediction_numerical_df['Price_New_Final_Filled'])==False)&(pd.isnull(vehicle_file_price_prediction_numerical_df['Price_Used_Final_Filled'])==False)]"
   ]
  },
  {
   "cell_type": "code",
   "execution_count": null,
   "id": "8f80018b",
   "metadata": {},
   "outputs": [],
   "source": [
    "len(vehicle_file_price_prediction_numerical_new_price_present_df)"
   ]
  },
  {
   "cell_type": "code",
   "execution_count": null,
   "id": "ac367bd2",
   "metadata": {},
   "outputs": [],
   "source": [
    "vehicle_file_price_prediction_numerical_new_price_present_df.columns"
   ]
  },
  {
   "cell_type": "code",
   "execution_count": null,
   "id": "44fa5877",
   "metadata": {},
   "outputs": [],
   "source": [
    "from sklearn.model_selection import train_test_split \n",
    "\n",
    "from sklearn import linear_model \n",
    "from sklearn.metrics import r2_score "
   ]
  },
  {
   "cell_type": "code",
   "execution_count": null,
   "id": "2b73110a",
   "metadata": {},
   "outputs": [],
   "source": [
    "X = vehicle_file_price_prediction_numerical_new_price_present_df.drop(columns=['Price_Used_Final_Filled', 'Data_Version', 'Price_Change_Metric'])\n",
    "y = vehicle_file_price_prediction_numerical_new_price_present_df['Price_Change_Metric']\n",
    "\n",
    "X_train, X_test, y_train, y_test = train_test_split(X, y, train_size=0.7, test_size=0.3, random_state=100)"
   ]
  },
  {
   "cell_type": "code",
   "execution_count": null,
   "id": "2e9fe49a",
   "metadata": {},
   "outputs": [],
   "source": [
    "len(vehicle_file_price_prediction_numerical_new_price_present_df)"
   ]
  },
  {
   "cell_type": "markdown",
   "id": "851a025a",
   "metadata": {},
   "source": [
    "- Linear Model sklearn"
   ]
  },
  {
   "cell_type": "code",
   "execution_count": null,
   "id": "54142b64",
   "metadata": {},
   "outputs": [],
   "source": [
    "lm = linear_model.LinearRegression() \n",
    "lm.fit(X_train, y_train) \n",
    "y_pred = lm.predict(X_test) \n",
    "print(r2_score(y_true=y_test, y_pred=y_pred)) # 0.7518 "
   ]
  },
  {
   "cell_type": "code",
   "execution_count": null,
   "id": "f9b44b46",
   "metadata": {},
   "outputs": [],
   "source": [
    "import matplotlib.pyplot as plt"
   ]
  },
  {
   "cell_type": "code",
   "execution_count": null,
   "id": "5439f4f0",
   "metadata": {},
   "outputs": [],
   "source": [
    "importance = lm.coef_\n",
    "# summarize feature importance\n",
    "for i,v in enumerate(importance):\n",
    "    print('Feature:', list(vehicle_file_price_prediction_numerical_new_price_present_df.columns)[i], 'Score: %.5f' % (v))\n",
    "# plot feature importance\n",
    "plt.bar([x for x in range(len(importance))], importance)\n",
    "plt.show()"
   ]
  },
  {
   "cell_type": "markdown",
   "id": "acdac914",
   "metadata": {},
   "source": [
    "- OLS Stats models"
   ]
  },
  {
   "cell_type": "code",
   "execution_count": null,
   "id": "408e03c3",
   "metadata": {},
   "outputs": [],
   "source": [
    "import statsmodels.api as sm "
   ]
  },
  {
   "cell_type": "code",
   "execution_count": null,
   "id": "d05be7b2",
   "metadata": {},
   "outputs": [],
   "source": [
    "model_ols = sm.OLS(y_train, X_train).fit() \n",
    "predictions = model_ols.predict(X_test) \n",
    "print(model_ols.rsquared) # 0.91823 "
   ]
  },
  {
   "cell_type": "markdown",
   "id": "c0eb3f64",
   "metadata": {},
   "source": [
    "- CatBoost regressor"
   ]
  },
  {
   "cell_type": "code",
   "execution_count": null,
   "id": "29bf5f0c",
   "metadata": {},
   "outputs": [],
   "source": [
    "from catboost import CatBoostRegressor "
   ]
  },
  {
   "cell_type": "code",
   "execution_count": null,
   "id": "f79615b2",
   "metadata": {},
   "outputs": [],
   "source": [
    "model_cat_boost = CatBoostRegressor(iterations=6542, learning_rate=0.1) \n",
    "model_cat_boost.fit( \n",
    "\tX_train, y_train, \n",
    "\teval_set=(X_test, y_test), \n",
    ") \n",
    "print(model_cat_boost.score(X, y)) # 0.92416 "
   ]
  },
  {
   "cell_type": "code",
   "execution_count": null,
   "id": "ff4df248",
   "metadata": {},
   "outputs": [],
   "source": [
    "model_cat_boost.predict(X_test)"
   ]
  },
  {
   "cell_type": "code",
   "execution_count": null,
   "id": "82a522fb",
   "metadata": {},
   "outputs": [],
   "source": [
    "print(model_cat_boost.score(X, y))"
   ]
  },
  {
   "cell_type": "code",
   "execution_count": null,
   "id": "dd40052b",
   "metadata": {},
   "outputs": [],
   "source": [
    "importances = model_cat_boost.get_feature_importance(type='PredictionValuesChange')\n",
    "feature_importances = pd.Series(importances, index=X.columns).sort_values()"
   ]
  },
  {
   "cell_type": "code",
   "execution_count": null,
   "id": "3d56abff",
   "metadata": {},
   "outputs": [],
   "source": [
    "plt.figure(figsize=(10, 6))\n",
    "\n",
    "plt.barh(feature_importances.index, feature_importances.values)"
   ]
  },
  {
   "cell_type": "markdown",
   "id": "50256916",
   "metadata": {},
   "source": [
    "- Save model"
   ]
  },
  {
   "cell_type": "code",
   "execution_count": null,
   "id": "ca05ea9a",
   "metadata": {},
   "outputs": [],
   "source": [
    "model_cat_boost.save_model(r\"C:\\Users\\benwa\\vehicle_features\\Products - Documents\\03_Vehicle_File\\16_Theft_Rating_Re_Worked\\Price_Analysis\\catBoost_price_depreciation_model.cbm\")"
   ]
  },
  {
   "cell_type": "code",
   "execution_count": null,
   "id": "4ed57887",
   "metadata": {},
   "outputs": [],
   "source": [
    "model_catboost_loaded = CatBoostRegressor(\n",
    "    random_seed=42,\n",
    "    logging_level='Silent')\n",
    "model_catboost_loaded.load_model(r\"C:\\Users\\benwa\\vehicle_features\\Products - Documents\\03_Vehicle_File\\16_Theft_Rating_Re_Worked\\Price_Analysis\\catBoost_price_depreciation_model.cbm\")"
   ]
  },
  {
   "cell_type": "markdown",
   "id": "7fb49d28",
   "metadata": {},
   "source": [
    "- Making predictions on all data"
   ]
  },
  {
   "cell_type": "code",
   "execution_count": null,
   "id": "0e41f4f8",
   "metadata": {},
   "outputs": [],
   "source": [
    "model_predicted = model_cat_boost.predict(Vehicle_file_predictions_all)"
   ]
  },
  {
   "cell_type": "code",
   "execution_count": null,
   "id": "d5b599ca",
   "metadata": {},
   "outputs": [],
   "source": [
    "predictions_dict = dict(zip(Vehicle_file_predictions_all['ABI_Code_44'], model_predicted))\n",
    "predictions_dict"
   ]
  },
  {
   "cell_type": "code",
   "execution_count": null,
   "id": "51bc7c4d",
   "metadata": {},
   "outputs": [],
   "source": [
    "vehicle_file_price_prediction_df['Price_Change_Metric_Model'] = vehicle_file_price_prediction_df['ABI_Code_44'].apply(lambda x: predictions_dict[x] if x in list(predictions_dict.keys()) else np.nan)"
   ]
  },
  {
   "cell_type": "code",
   "execution_count": null,
   "id": "33162de5",
   "metadata": {},
   "outputs": [],
   "source": [
    "vehicle_file_price_prediction_df['Price_Change_Metric_Model'].isna().sum()"
   ]
  },
  {
   "cell_type": "markdown",
   "id": "13759477",
   "metadata": {},
   "source": [
    "- Ensuring no Price Changes calculated when price data is missing"
   ]
  },
  {
   "cell_type": "code",
   "execution_count": null,
   "id": "8304ab90",
   "metadata": {},
   "outputs": [],
   "source": [
    "vehicle_file_price_prediction_df.loc[(pd.isnull(vehicle_file_price_prediction_df['Price_New_Final_Filled'])==True)|(pd.isnull(vehicle_file_price_prediction_df['Price_Used_Final_Filled'])==True), 'Price_Change_Metric'] = np.full(len(vehicle_file_price_prediction_df.loc[(pd.isnull(vehicle_file_price_prediction_df['Price_New_Final_Filled'])==True)|(pd.isnull(vehicle_file_price_prediction_df['Price_Used_Final_Filled'])==True)]), np.nan)"
   ]
  },
  {
   "cell_type": "code",
   "execution_count": null,
   "id": "0bd5c817",
   "metadata": {},
   "outputs": [],
   "source": [
    "vehicle_file_price_prediction_df.loc[(pd.isnull(vehicle_file_price_prediction_df['Price_Change_Metric'])==False)&(pd.isnull(vehicle_file_price_prediction_df['Price_Change_Metric_Model'])==False)]"
   ]
  },
  {
   "cell_type": "markdown",
   "id": "5a203ccc",
   "metadata": {},
   "source": [
    "- Calculating predicted used price\n",
    "\n",
    "**Final_Price** = `Price_New_Final_Filled` - ((`Price_Change_Metric`^(`Years_From_First_Manufacturer`))*`Price_New_Final_Filled`)"
   ]
  },
  {
   "cell_type": "code",
   "execution_count": null,
   "id": "1e23bcff",
   "metadata": {},
   "outputs": [],
   "source": [
    "vehicle_file_price_prediction_df['Price_Used_Predicted'] = vehicle_file_price_prediction_df['Price_New_Final_Filled'] - (((vehicle_file_price_prediction_df['Price_Change_Metric_Model'])**(vehicle_file_price_prediction_df['Years_From_First_Manufacturer']))*vehicle_file_price_prediction_df['Price_New_Final_Filled'])"
   ]
  },
  {
   "cell_type": "code",
   "execution_count": null,
   "id": "6a198511",
   "metadata": {},
   "outputs": [],
   "source": [
    "vehicle_file_price_prediction_df.loc[pd.isnull(vehicle_file_price_prediction_df['Price_Used_Final_Filled'])==True]"
   ]
  },
  {
   "cell_type": "code",
   "execution_count": null,
   "id": "92a04e86",
   "metadata": {},
   "outputs": [],
   "source": [
    "vehicle_file_price_prediction_df.loc[abs(vehicle_file_price_prediction_df['Price_Used_Predicted']-vehicle_file_price_prediction_df['Price_Used_Final_Filled'])>1000]"
   ]
  },
  {
   "cell_type": "code",
   "execution_count": null,
   "id": "1a2a2f21",
   "metadata": {},
   "outputs": [],
   "source": [
    "plt.scatter(vehicle_file_price_prediction_df['Price_Used_Final_Filled'], vehicle_file_price_prediction_df['Price_Used_Predicted'])\n",
    "\n",
    "plt.xlim(0,100000)\n",
    "\n",
    "plt.ylim(0,100000)\n"
   ]
  },
  {
   "cell_type": "markdown",
   "id": "27d6fde8",
   "metadata": {},
   "source": [
    "- Pretty good predictions post 2010-falls off after price drops too low\n"
   ]
  },
  {
   "cell_type": "code",
   "execution_count": null,
   "id": "db978a66",
   "metadata": {},
   "outputs": [],
   "source": [
    "vehicle_file_price_prediction_df.loc[(pd.isnull(vehicle_file_price_prediction_df['Price_Used_Final_Filled'])==True)&(vehicle_file_price_prediction_df['Price_Used_Predicted']<500)]#['Price_Used_Predicted'].min()"
   ]
  },
  {
   "cell_type": "code",
   "execution_count": null,
   "id": "4a7a507a",
   "metadata": {},
   "outputs": [],
   "source": [
    "vehicle_file_price_prediction_df.to_csv(r\"C:\\Users\\benwa\\vehicle_features\\Products - Documents\\03_Vehicle_File\\16_Theft_Rating_Re_Worked\\Price_Analysis\\vehicle_file_with_depreciation_factor.csv\")"
   ]
  },
  {
   "cell_type": "code",
   "execution_count": null,
   "id": "f08d28e8",
   "metadata": {},
   "outputs": [],
   "source": [
    "vehicle_file_price_prediction_df.loc[pd.isnull(vehicle_file_price_prediction_df['Price_New_Final_Filled'])==True]"
   ]
  },
  {
   "cell_type": "code",
   "execution_count": null,
   "id": "0a4a03e8",
   "metadata": {},
   "outputs": [],
   "source": [
    "vehicle_file_price_prediction_df.loc[vehicle_file_price_prediction_df['ABI_Code_44']==11700003, 'Price_New_Final_Filled'] = 20000\n",
    "\n",
    "vehicle_file_price_prediction_df.loc[vehicle_file_price_prediction_df['ABI_Code_44']==11700003, 'Price_Used_Final_Filled'] = 12000\n"
   ]
  },
  {
   "cell_type": "markdown",
   "id": "5af4ab9e",
   "metadata": {},
   "source": [
    "- Using model and engine information..."
   ]
  },
  {
   "cell_type": "code",
   "execution_count": null,
   "id": "deb17da7",
   "metadata": {},
   "outputs": [],
   "source": [
    "dummy_model_df = pd.get_dummies(vehicle_file_price_prediction_df['Model'], dtype=int)\n",
    "\n",
    "#dummy_trim_df = pd.get_dummies(vehicle_file_price_prediction_df['Trim'], dtype=int)\n",
    "\n",
    "dummy_engine_label_df = pd.get_dummies(vehicle_file_price_prediction_df['Engine_Label'], dtype=int)\n"
   ]
  },
  {
   "cell_type": "code",
   "execution_count": null,
   "id": "77be69b8",
   "metadata": {},
   "outputs": [],
   "source": [
    "model_only_df = dummy_model_df\n",
    "\n",
    "model_and_engine_numeric_df = dummy_model_df.join(dummy_engine_label_df, lsuffix='_model', rsuffix='_engine')\n",
    "\n",
    "#model_and_engine_and_trim_numeric_df = model_and_engine_numeric_df.join(dummy_trim_df, lsuffix='_model', rsuffix='_engine')"
   ]
  },
  {
   "cell_type": "code",
   "execution_count": null,
   "id": "61a71c70",
   "metadata": {},
   "outputs": [],
   "source": [
    "vehicle_file_price_prediction_model_engine_encoded_df = vehicle_file_price_prediction_df.join(model_and_engine_numeric_df)"
   ]
  },
  {
   "cell_type": "code",
   "execution_count": null,
   "id": "9e1f585d",
   "metadata": {},
   "outputs": [],
   "source": [
    "vehicle_file_price_prediction_model_engine_encoded_df.loc[vehicle_file_price_prediction_model_engine_encoded_df['Price_New_Estimate']==0, 'Price_New_Estimate'] = np.full(len(vehicle_file_price_prediction_model_engine_encoded_df.loc[vehicle_file_price_prediction_model_engine_encoded_df['Price_New_Estimate']==0]), np.nan)\n",
    "\n",
    "vehicle_file_price_prediction_model_engine_encoded_df.loc[vehicle_file_price_prediction_model_engine_encoded_df['Price_Used_Average_Estimate']==0, 'Price_Used_Average_Estimate'] = np.full(len(vehicle_file_price_prediction_model_engine_encoded_df.loc[vehicle_file_price_prediction_model_engine_encoded_df['Price_Used_Average_Estimate']==0]), np.nan)\n",
    "\n",
    "vehicle_file_price_prediction_numerical_model_engine_encoded_new_price_present_df = vehicle_file_price_prediction_model_engine_encoded_df.loc[(pd.isnull(vehicle_file_price_prediction_model_engine_encoded_df['Price_New_Estimate'])==False)&(pd.isnull(vehicle_file_price_prediction_model_engine_encoded_df['Price_Used_Average_Estimate'])==False)]\n",
    "\n",
    "vehicle_file_price_prediction_numerical_model_engine_encoded_new_price_present_df = vehicle_file_price_prediction_numerical_model_engine_encoded_new_price_present_df.select_dtypes(np.number)\n",
    "\n",
    "X_model_engine = vehicle_file_price_prediction_numerical_model_engine_encoded_new_price_present_df.drop(columns=['Price_Used_Average_Estimate'], axis=1)\n",
    "y_model_engine = vehicle_file_price_prediction_numerical_model_engine_encoded_new_price_present_df['Price_Used_Average_Estimate']\n"
   ]
  },
  {
   "cell_type": "code",
   "execution_count": null,
   "id": "f65469f3",
   "metadata": {},
   "outputs": [],
   "source": [
    "len(y_model_engine.loc[y_model_engine<500])"
   ]
  },
  {
   "cell_type": "markdown",
   "id": "a5a6e4ef",
   "metadata": {},
   "source": [
    "- Create trainign and testing sets"
   ]
  },
  {
   "cell_type": "code",
   "execution_count": null,
   "id": "5577fc7f",
   "metadata": {},
   "outputs": [],
   "source": [
    "X_train, X_test, y_train, y_test = train_test_split(X_model_engine, y_model_engine, train_size=0.7, test_size=0.3, random_state=100)\n"
   ]
  },
  {
   "cell_type": "code",
   "execution_count": null,
   "id": "ebd0adeb",
   "metadata": {},
   "outputs": [],
   "source": [
    "model = CatBoostRegressor(iterations=6542, learning_rate=0.05) \n",
    "model.fit( \n",
    "\tX_train, y_train, \n",
    "\teval_set=(X_test, y_test), \n",
    ") \n",
    "print(model.score(X_model_engine, y_model_engine)) # 0.92416 "
   ]
  },
  {
   "cell_type": "markdown",
   "id": "09027bf1",
   "metadata": {},
   "source": [
    "- OLS Stats models"
   ]
  },
  {
   "cell_type": "code",
   "execution_count": null,
   "id": "41fbefd2",
   "metadata": {},
   "outputs": [],
   "source": [
    "import statsmodels.api as sm "
   ]
  },
  {
   "cell_type": "code",
   "execution_count": null,
   "id": "e754b991",
   "metadata": {},
   "outputs": [],
   "source": [
    "model = sm.OLS(y_train, X_train).fit() \n",
    "predictions = model.predict(X_test) \n",
    "print(model.rsquared) "
   ]
  },
  {
   "cell_type": "code",
   "execution_count": null,
   "id": "6304a5c9",
   "metadata": {},
   "outputs": [],
   "source": [
    "y_train.min()"
   ]
  },
  {
   "cell_type": "code",
   "execution_count": null,
   "id": "a1ed5800",
   "metadata": {},
   "outputs": [],
   "source": [
    "X_test"
   ]
  },
  {
   "cell_type": "code",
   "execution_count": null,
   "id": "f2bc0fb3",
   "metadata": {},
   "outputs": [],
   "source": [
    "vehicle_file_price_prediction_df['Price_Change'] = vehicle_file_price_prediction_df['Price_New_Estimate']/vehicle_file_price_prediction_df['Price_Used_Average_Estimate']\n",
    "\n",
    "vehicle_file_price_prediction_df.loc[(vehicle_file_price_prediction_df['Price_Change']<1)][['Manufacturer', 'Model', 'Body_Type', 'Veh_Desc_ABI', 'Start_Year_Veh_Generation', 'Price_New_Estimate', 'Price_Used_Average_Estimate']]"
   ]
  },
  {
   "cell_type": "code",
   "execution_count": null,
   "id": "5d14b0ce",
   "metadata": {},
   "outputs": [],
   "source": [
    "vehicle_file_price_prediction_df.loc[vehicle_file_price_prediction_df['Price_Change']<1]"
   ]
  },
  {
   "cell_type": "code",
   "execution_count": null,
   "id": "2a3279ac",
   "metadata": {},
   "outputs": [],
   "source": [
    "vehicle_file_price_prediction_df['Price_Change'].describe()"
   ]
  },
  {
   "cell_type": "markdown",
   "id": "ef18c37b",
   "metadata": {},
   "source": [
    "- Joining onto main file"
   ]
  },
  {
   "cell_type": "code",
   "execution_count": null,
   "id": "d2bbc231",
   "metadata": {},
   "outputs": [],
   "source": [
    "final_predictions = vehicle_file_price_prediction_numerical_df.loc[pd.isnull(vehicle_file_price_prediction_numerical_df['Price_New_Estimate'])==False]\n",
    "final_predictions = final_predictions.drop(columns = ['Price_Used_Average_Estimate'])\n",
    "\n",
    "final_predictions = final_predictions.join(model_and_engine_numeric_df)\n",
    "\n",
    "final_predictions = final_predictions.select_dtypes(np.number)\n",
    "\n",
    "final_predictions.isna().sum().sum()"
   ]
  },
  {
   "cell_type": "code",
   "execution_count": null,
   "id": "58519d73",
   "metadata": {},
   "outputs": [],
   "source": [
    "final_predictions = final_predictions[list(X_test.columns)]"
   ]
  },
  {
   "cell_type": "code",
   "execution_count": null,
   "id": "09c56829",
   "metadata": {},
   "outputs": [],
   "source": [
    "final_predictions.shape"
   ]
  },
  {
   "cell_type": "code",
   "execution_count": null,
   "id": "e7c84051",
   "metadata": {},
   "outputs": [],
   "source": [
    "predict_all = model.predict(final_predictions)\n",
    "len(predict_all)"
   ]
  },
  {
   "cell_type": "code",
   "execution_count": null,
   "id": "e63d5830",
   "metadata": {},
   "outputs": [],
   "source": [
    "final_predictions_dict = dict(zip(final_predictions['ABI_Code_44'], predict_all))"
   ]
  },
  {
   "cell_type": "code",
   "execution_count": null,
   "id": "35633747",
   "metadata": {},
   "outputs": [],
   "source": [
    "final_predictions_dict.keys()"
   ]
  },
  {
   "cell_type": "code",
   "execution_count": null,
   "id": "d9c6faea",
   "metadata": {},
   "outputs": [],
   "source": [
    "vehicle_file_price_prediction_df['Price_Used_Model'] = vehicle_file_price_prediction_df['ABI_Code_44'].apply(lambda x: final_predictions_dict[x] if x in (final_predictions_dict.keys()) else np.nan)"
   ]
  },
  {
   "cell_type": "code",
   "execution_count": null,
   "id": "0ed6cd09",
   "metadata": {},
   "outputs": [],
   "source": [
    "vehicle_file_price_prediction_df['Price_Used_Model'].isna().sum()"
   ]
  },
  {
   "cell_type": "code",
   "execution_count": null,
   "id": "94212579",
   "metadata": {},
   "outputs": [],
   "source": [
    "vehicle_file_price_prediction_df.loc[vehicle_file_price_prediction_df['Price_Used_Model']<500]"
   ]
  },
  {
   "cell_type": "code",
   "execution_count": null,
   "id": "4a6950ee",
   "metadata": {},
   "outputs": [],
   "source": [
    "vehicle_file_price_prediction_df.to_csv(r\"C:\\Users\\benwa\\vehicle_features\\Products - Documents\\03_Vehicle_File\\16_Theft_Rating_Re_Worked\\Price_Analysis\\vehicle_file_with_used_price_prediction.csv\")"
   ]
  },
  {
   "cell_type": "code",
   "execution_count": null,
   "id": "b231f80d",
   "metadata": {},
   "outputs": [],
   "source": [
    "vehicle_file_price_prediction_df"
   ]
  },
  {
   "cell_type": "code",
   "execution_count": null,
   "id": "377b23d8",
   "metadata": {},
   "outputs": [],
   "source": [
    "vehicle_file_price_prediction_numerical_model_engine_encoded_new_price_present_df['Price_Used_Model'] = predict_all"
   ]
  },
  {
   "cell_type": "code",
   "execution_count": null,
   "id": "5146e78f",
   "metadata": {},
   "outputs": [],
   "source": [
    "vehicle_file_with_prediction_df = vehicle_file_price_prediction_numerical_df.merge(vehicle_file_price_prediction_numerical_model_engine_encoded_new_price_present_df[['ABI_Code_44', 'Price_Used_Model']], on = ['ABI_Code_44', 'ABI_Code_44'], how='left')"
   ]
  },
  {
   "cell_type": "code",
   "execution_count": null,
   "id": "23718e4f",
   "metadata": {},
   "outputs": [],
   "source": [
    "vehicle_file_price_prediction_numerical_df['ABI_Code_44']"
   ]
  },
  {
   "cell_type": "code",
   "execution_count": null,
   "id": "04eabb07",
   "metadata": {},
   "outputs": [],
   "source": [
    "vehicle_file_price_prediction_numerical_model_engine_encoded_new_price_present_df['ABI_Code_44']"
   ]
  },
  {
   "cell_type": "code",
   "execution_count": null,
   "id": "1cb849a5",
   "metadata": {},
   "outputs": [],
   "source": [
    "vehicle_file_with_prediction_df['Price_Used_Model'].isna().sum()"
   ]
  },
  {
   "cell_type": "code",
   "execution_count": null,
   "id": "8cffb36f",
   "metadata": {},
   "outputs": [],
   "source": [
    "vehicle_file_price_prediction_numerical_model_engine_encoded_new_price_present_df['Price_Used_Model'].isna().sum()"
   ]
  },
  {
   "cell_type": "markdown",
   "id": "c527b658",
   "metadata": {},
   "source": [
    "- Plots!!!"
   ]
  },
  {
   "cell_type": "code",
   "execution_count": null,
   "id": "023080f4",
   "metadata": {},
   "outputs": [],
   "source": [
    "plt.scatter(predictions, y_test)\n",
    "\n",
    "plt.xlim(-1000,150000)\n",
    "plt.ylim(-1000,150000)\n"
   ]
  },
  {
   "cell_type": "markdown",
   "id": "9cd981e4",
   "metadata": {},
   "source": [
    "- Using model, engine_label and trim"
   ]
  },
  {
   "cell_type": "markdown",
   "id": "15c1c04e",
   "metadata": {},
   "source": [
    "- Using model and engine_label\n",
    "\n",
    "Score: 0.9668099721490522"
   ]
  },
  {
   "cell_type": "code",
   "execution_count": null,
   "id": "e69cbbdb",
   "metadata": {},
   "outputs": [],
   "source": [
    "plt.plot(y_test - predictions, marker='o', linestyle='')\n",
    "\n",
    "plt.ylim(-20000,20000)\n"
   ]
  },
  {
   "cell_type": "markdown",
   "id": "bf3c04d1",
   "metadata": {},
   "source": [
    "- Not using model or engine_label encoded"
   ]
  },
  {
   "cell_type": "code",
   "execution_count": null,
   "id": "627834e5",
   "metadata": {},
   "outputs": [],
   "source": [
    "plt.plot(y_test - predictions, marker='o', linestyle='')\n",
    "\n",
    "plt.ylim(-20000,20000)\n"
   ]
  },
  {
   "cell_type": "code",
   "execution_count": null,
   "id": "01c983a4",
   "metadata": {},
   "outputs": [],
   "source": [
    "X_test.loc[887]"
   ]
  },
  {
   "cell_type": "code",
   "execution_count": null,
   "id": "411db540",
   "metadata": {},
   "outputs": [],
   "source": [
    "vehicle_file_price_prediction_df.loc[vehicle_file_price_prediction_df['ABI_Code_44']==3511563]"
   ]
  },
  {
   "cell_type": "markdown",
   "id": "604e3986",
   "metadata": {},
   "source": [
    "0.8806879694963347"
   ]
  },
  {
   "cell_type": "markdown",
   "id": "ec9e04c7",
   "metadata": {},
   "source": [
    "- Filling in missing values"
   ]
  },
  {
   "cell_type": "code",
   "execution_count": null,
   "id": "8b4220cd",
   "metadata": {},
   "outputs": [],
   "source": [
    "from sklearn.impute import KNNImputer"
   ]
  },
  {
   "cell_type": "code",
   "execution_count": null,
   "id": "8a1992e1",
   "metadata": {},
   "outputs": [],
   "source": [
    "columns_list = list(X_Copy.columns)\n",
    "columns_list.remove('Bumper_Score_RCAR')"
   ]
  },
  {
   "cell_type": "code",
   "execution_count": null,
   "id": "019ffcb2",
   "metadata": {},
   "outputs": [],
   "source": [
    "for col_header in columns_list:\n",
    "    X_Copy.loc[X_Copy[col_header]==-1, col_header] = np.full(len(X_Copy.loc[X_Copy[col_header]==-1]), np.nan)\n",
    "X_Copy"
   ]
  },
  {
   "cell_type": "code",
   "execution_count": null,
   "id": "a71310f5",
   "metadata": {},
   "outputs": [],
   "source": [
    "#X_Copy = X_Copy.drop(columns = ['Security_Thatcham', 'Fuel_Desc'])\n",
    "imputer = KNNImputer(n_neighbors=3)\n",
    "imputed_data = imputer.fit_transform(X_Copy)"
   ]
  },
  {
   "cell_type": "code",
   "execution_count": null,
   "id": "49a6ffcb",
   "metadata": {},
   "outputs": [],
   "source": [
    "imputed_df = pd.DataFrame(imputed_data, columns=X_Copy.columns)\n",
    "\n",
    "imputed_df"
   ]
  },
  {
   "cell_type": "code",
   "execution_count": null,
   "id": "44fc38b1",
   "metadata": {},
   "outputs": [],
   "source": [
    "X_Copy"
   ]
  },
  {
   "cell_type": "code",
   "execution_count": null,
   "id": "333f74ef",
   "metadata": {},
   "outputs": [],
   "source": [
    "X_Copy['Security_Thatcham_Numeric']*X_Copy['Volume_Box']"
   ]
  },
  {
   "cell_type": "code",
   "execution_count": null,
   "id": "b579c0b9",
   "metadata": {},
   "outputs": [],
   "source": [
    "X_Copy['Theft_Uplift'] = "
   ]
  },
  {
   "cell_type": "code",
   "execution_count": null,
   "id": "742f9e5d",
   "metadata": {},
   "outputs": [],
   "source": [
    "import plotly.express as px"
   ]
  },
  {
   "cell_type": "code",
   "execution_count": null,
   "id": "566bd3e3",
   "metadata": {},
   "outputs": [],
   "source": [
    "px.bar()"
   ]
  },
  {
   "cell_type": "markdown",
   "id": "6e40f19b-422d-47fd-859b-6c9c3f52d790",
   "metadata": {
    "tags": []
   },
   "source": [
    "#### Provisional theft data"
   ]
  },
  {
   "cell_type": "code",
   "execution_count": null,
   "id": "5a0a447d-ea1c-4135-bacb-833fd61edfa8",
   "metadata": {},
   "outputs": [],
   "source": [
    "# Groups:\n",
    "# 0 - theft decreases in likelihood with age (joy ride class)\n",
    "# 1 - theft increases in likelihood with age (scrap class)\n",
    "# 2 - theft increases in likelihood around mean (rare class)\n",
    "manufacturer_band = {\n",
    " 'ABARTH': 1,\n",
    " 'AC': 2,\n",
    " 'AIXAM': 0,\n",
    " 'ALFA ROMEO': 1,\n",
    " 'ALPINA': 2,\n",
    " 'ALPINE': 2,\n",
    " 'ASIA': 0,\n",
    " 'ASTON MARTIN': 2,\n",
    " 'AUDI': 1,\n",
    " 'BENTLEY': 2,\n",
    " 'BMW': 1,\n",
    " 'BRISTOL': 2,\n",
    " 'BUGATTI': 2,\n",
    " 'BUICK': 1,\n",
    " 'BYD': 0,\n",
    " 'CADILLAC': 1,\n",
    " 'CATERHAM': 0,\n",
    " 'CHEVROLET': 0,\n",
    " 'CHRYSLER': 1,\n",
    " 'CITROEN': 0,\n",
    " 'CUPRA': 1,\n",
    " 'DACIA': 0,\n",
    " 'DAEWOO': 0,\n",
    " 'DAIHATSU': 0,\n",
    " 'DAIMLER': 2,\n",
    " 'DE TOMASO': 2,\n",
    " 'DFSK': 0,\n",
    " 'DODGE': 2,\n",
    " 'DS': 1,\n",
    " 'FERRARI': 2,\n",
    " 'FIAT': 0,\n",
    " 'FORD': 0,\n",
    " 'GARDNER DOUGLAS': 2,\n",
    " 'GEM': 1,\n",
    " 'GENESIS': 2,\n",
    " 'GINETTA': 2,\n",
    " 'HINDUSTAN': 0,\n",
    " 'HOLDEN': 0,\n",
    " 'HONDA': 0,\n",
    " 'HUMMER': 2,\n",
    " 'HYUNDAI': 0,\n",
    " 'INEOS': 2,\n",
    " 'INFINITI': 2,\n",
    " 'ISUZU': 0,\n",
    " 'JAGUAR': 1,\n",
    " 'JEEP': 1,\n",
    " 'KIA': 0,\n",
    " 'KOENIGSEGG': 2,\n",
    " 'LADA': 0,\n",
    " 'LAMBORGHINI': 2,\n",
    " 'LANCIA': 2,\n",
    " 'LAND ROVER': 2,\n",
    " 'LEXUS': 1,\n",
    " 'LIGIER': 2,\n",
    " 'LINCOLN': 1,\n",
    " 'LOTUS': 2,\n",
    " 'MARANELLO': 0,\n",
    " 'MARCOS': 2,\n",
    " 'MARLIN': 2,\n",
    " 'MASERATI': 2,\n",
    " 'MAXUS': 1,\n",
    " 'MAYBACH': 2,\n",
    " 'MAZDA': 0,\n",
    " 'MCLAREN': 2,\n",
    " 'MERCEDES': 1,\n",
    " 'MEV': 0,\n",
    " 'MG': 0,\n",
    " 'MG MOTOR UK': 0,\n",
    " 'MINI': 1,\n",
    " 'MITSUBISHI': 0,\n",
    " 'MITSUOKA': 2,\n",
    " 'MORGAN': 2,\n",
    " 'MOSLER': 2,\n",
    " 'MUNRO': 2,\n",
    " 'MW MOTORS S.R.O.': 2,\n",
    " 'MYCAR': 0,\n",
    " 'NAC MG': 0,\n",
    " 'NISSAN': 0,\n",
    " 'NOBLE': 2,\n",
    " 'OKA': 0,\n",
    " 'OPEL': 0,\n",
    " 'PANTHER': 1,\n",
    " 'PERODUA': 0,\n",
    " 'PEUGEOT': 0,\n",
    " 'PGO': 2,\n",
    " 'POLESTAR': 1,\n",
    " 'PONTIAC': 1,\n",
    " 'PORSCHE': 2,\n",
    " 'PROTON': 0,\n",
    " 'RELIANT': 0,\n",
    " 'RENAULT': 0,\n",
    " 'ROLLS': 2,\n",
    " 'ROVER': 0,\n",
    " 'SAAB': 0,\n",
    " 'SAN': 0,\n",
    " 'SAO': 0,\n",
    " 'SEAT': 0,\n",
    " 'SHANGHIEDRIVE': 1,\n",
    " 'SKODA': 0,\n",
    " 'SMART': 1,\n",
    " 'SSANGYONG': 0,\n",
    " 'STEVENS': 0,\n",
    " 'SUBARU': 0,\n",
    " 'SUZUKI': 0,\n",
    " 'T.V.R.': 2,\n",
    " 'TATA': 0,\n",
    " 'TD': 0,\n",
    " 'TESLA': 1,\n",
    " 'THINK': 1,\n",
    " 'TORNADO': 0,\n",
    " 'TOYOTA': 0,\n",
    " 'VAUXHALL': 0,\n",
    " 'VENTURI': 2,\n",
    " 'VEXEL': 0,\n",
    " 'VOLKSWAGEN': 0,\n",
    " 'VOLVO': 1,\n",
    " 'WESTFIELD': 2,\n",
    " 'ZENOS': 2\n",
    "        }"
   ]
  },
  {
   "cell_type": "code",
   "execution_count": null,
   "id": "4fc75832-8321-4d8e-9fc5-f4eb1d86f21c",
   "metadata": {},
   "outputs": [],
   "source": [
    "len(set(licensed_vehicle_df[\"Make\"]))"
   ]
  },
  {
   "cell_type": "code",
   "execution_count": null,
   "id": "aa293a85-3f9c-4b06-8042-be0ace57e569",
   "metadata": {},
   "outputs": [],
   "source": [
    "# commonality\n",
    "commonality = {}\n",
    "boundaries = [0, 1, 5, 10, 15, 20, 30, 40, 50, 60, 70, 80, 90, 100, 200, 300, 400, 500, 600, 700, 800, 900, 1000, 2000, 3000, 4000, 5000, 6000, 7000, 8000, 9000, 10000,\n",
    "          20000, 30000, 40000, 50000, 60000, 70000, 80000, 90000, 100000, 200000, 300000, 400000, 500000, 600000, 700000, 800000, 900000, 1000000, 10000000]\n",
    "for y in full_model_count.keys():\n",
    "    for model in full_model_count[y].keys():\n",
    "        if model not in commonality.keys():\n",
    "            commonality[model] = []\n",
    "        value = full_model_count[y][model]\n",
    "        for i in range(len(boundaries)):\n",
    "            if value >= boundaries[i] and value < boundaries[i+1]:\n",
    "                commonality[model].append(i+1)\n",
    "                \n",
    "#for model in theft_values.keys():\n",
    "for model in commonality.keys():\n",
    "    commonality[model] = int(sum(commonality[model])/len(commonality[model]))"
   ]
  },
  {
   "cell_type": "code",
   "execution_count": null,
   "id": "2430c630",
   "metadata": {},
   "outputs": [],
   "source": [
    "commonality"
   ]
  },
  {
   "cell_type": "code",
   "execution_count": null,
   "id": "9ffa52e4-08c1-4ad3-a0d5-f333dd286e6d",
   "metadata": {},
   "outputs": [],
   "source": [
    "# make bonus\n",
    "make_model_bonus = {}\n",
    "for model in commonality.keys():\n",
    "    matched_make = \"\"\n",
    "    for make in make_model_year.keys():\n",
    "        if model in make_model_year[make]:\n",
    "            matched_make = make\n",
    "    make_model_bonus[model] = 10*manufacturer_band[matched_make] if matched_make in manufacturer_band.keys() else 0"
   ]
  },
  {
   "cell_type": "code",
   "execution_count": null,
   "id": "72ded7f6",
   "metadata": {},
   "outputs": [],
   "source": [
    "commonality.keys()"
   ]
  },
  {
   "cell_type": "code",
   "execution_count": null,
   "id": "09d0fc98-83ff-450c-8557-d9c92fa66e23",
   "metadata": {},
   "outputs": [],
   "source": [
    "theft_values = {}\n",
    "for model in make_model_bonus.keys():\n",
    "    theft_values[model] = commonality[model]+make_model_bonus[model]"
   ]
  },
  {
   "cell_type": "code",
   "execution_count": null,
   "id": "a09ea644-fcf8-4df1-b212-ee5bad8c2bc2",
   "metadata": {},
   "outputs": [],
   "source": [
    "date_shift = {0: [1990, 30, [0, -1]],\n",
    "              1: [1993, 0, [1, 1]],\n",
    "              2: [2013, 20, [1, 1]]}"
   ]
  },
  {
   "cell_type": "code",
   "execution_count": null,
   "id": "72c6ff93-25c9-4d6f-b203-19d6ef51731b",
   "metadata": {},
   "outputs": [],
   "source": [
    "theft_values_df = pd.DataFrame(columns=[\"GenModel\",\"Theft_rating\"])\n",
    "theft_values_df = theft_values_df.assign(GenModel=theft_values.keys(), Theft_rating=theft_values.values())"
   ]
  },
  {
   "cell_type": "code",
   "execution_count": null,
   "id": "1cdb74a1",
   "metadata": {},
   "outputs": [],
   "source": [
    "theft_values_df"
   ]
  },
  {
   "cell_type": "code",
   "execution_count": null,
   "id": "a099e4c5",
   "metadata": {},
   "outputs": [],
   "source": [
    "theft_values_df.loc[theft_values_df['GenModel'] == 'KIA RIO']"
   ]
  },
  {
   "cell_type": "code",
   "execution_count": null,
   "id": "6ef16a51",
   "metadata": {},
   "outputs": [],
   "source": [
    "theft_values_df.loc[theft_values_df['GenModel'] == 'HYUNDAI ACCENT']"
   ]
  },
  {
   "cell_type": "markdown",
   "id": "52f738ff-a610-44e2-a61a-b0aa6f6030f3",
   "metadata": {
    "tags": []
   },
   "source": [
    "### Vehicle file"
   ]
  },
  {
   "cell_type": "code",
   "execution_count": null,
   "id": "51658466-3edd-4f9b-8355-3bc6c9828d24",
   "metadata": {},
   "outputs": [],
   "source": [
    "data_file = pd.read_csv(r\"C:\\Users\\benwa\\vehicle_features\\Products - Documents\\03_Vehicle_File\\02_Vehicle_File_Collaboration\\Public_Fills\\vehicle_features_Vehicle_File_Best_Matched_With_Local_Fills_Ben_New.csv\")\n",
    "data_file[\"Manufacturer\"] = data_file[\"Manufacturer\"].replace({\"MG Motor UK\": \"MGMUK\"})\n",
    "data_file[\"Manufacturer\"] = data_file[\"Manufacturer\"].apply(lambda x: x.upper().split(\" \",1)[0].split(\"-\",1)[0])\n",
    "data_file[\"Manufacturer\"] = data_file[\"Manufacturer\"].replace({\"LAND\": \"LAND ROVER\", \"ALFA\": \"ALFA ROMEO\", \"ASTON\": \"ASTON MARTIN\",\n",
    "                                                              \"DE\": \"DE TOMASO\", \"GARDNER\": \"GARDNER DOUGLAS\", \"MW\": \"MW MOTORS S.R.O.\", \"NAC\": \"NAC MG\",\n",
    "                                                              \"MGMUK\": \"MG MOTOR UK\"})\n",
    "data_file[\"Model\"] = data_file[\"Model\"].str.upper()\n",
    "data_file[\"GenModel\"] = data_file[\"Manufacturer\"]+\" \"+data_file[\"Model\"]\n",
    "\n",
    "## necessary_factors\n",
    "data_file = data_file.drop(columns={\"Weight_Kerb\", \"Acceleration\",\"Top_Speed\"})\n",
    "data_file = data_file.merge(pd.read_csv(r\"C:\\Users\\benwa\\vehicle_features\\Products - Documents\\03_Vehicle_File\\10_Columns_for_review\\02_08_2023\\Acceleration\\Acceleration_TVI.csv\"),on=\"TVI_Code\",how=\"left\")\n",
    "data_file = data_file.merge(pd.read_csv(r\"C:\\Users\\benwa\\vehicle_features\\Products - Documents\\03_Vehicle_File\\10_Columns_for_review\\02_08_2023\\Top Speed\\Top_Speed_TVI.csv\"),on=\"TVI_Code\",how=\"left\")\n",
    "data_file = data_file.merge(pd.read_csv(r\"C:\\Users\\benwa\\vehicle_features\\Products - Documents\\03_Vehicle_File\\10_Columns_for_review\\04_07_2023\\Dimensions Review\\Files for Match Replace\\abi_dimensions_final_20230801.csv\")[[\"TVI_Code\", \"Weight_Kerb_Fill\", \"Volume_Box\"]].rename(columns={\"Weight_Kerb_Fill\": \"Weight_Kerb\"}),on=\"TVI_Code\",how=\"left\")"
   ]
  },
  {
   "cell_type": "code",
   "execution_count": null,
   "id": "d8b9a405",
   "metadata": {},
   "outputs": [],
   "source": [
    "data_file['GenModel'].unique()"
   ]
  },
  {
   "cell_type": "markdown",
   "id": "ddfb089d-97e2-468b-872d-2f1901087cee",
   "metadata": {
    "tags": []
   },
   "source": [
    "### Factor production"
   ]
  },
  {
   "cell_type": "markdown",
   "id": "fddddabf-d74c-4e48-a71d-d5c1014362aa",
   "metadata": {
    "tags": []
   },
   "source": [
    "#### Accident calculation"
   ]
  },
  {
   "cell_type": "code",
   "execution_count": null,
   "id": "c196bb2e-9966-42b8-897b-55a06380ab4b",
   "metadata": {},
   "outputs": [],
   "source": [
    "# direct match\n",
    "accident_matched_file = data_file.merge(accident_values_df, on='GenModel', how=\"left\")"
   ]
  },
  {
   "cell_type": "code",
   "execution_count": null,
   "id": "c903ec7c",
   "metadata": {},
   "outputs": [],
   "source": [
    "accident_matched_file"
   ]
  },
  {
   "cell_type": "code",
   "execution_count": null,
   "id": "ac60cb20-e8e4-4f6c-9708-f27e6bc4b4ad",
   "metadata": {},
   "outputs": [],
   "source": [
    "set(accident_matched_file[\"Accident_rating\"].dropna())"
   ]
  },
  {
   "cell_type": "code",
   "execution_count": null,
   "id": "fb15a4e3-b4d5-4df1-8097-5695b85e1147",
   "metadata": {},
   "outputs": [],
   "source": [
    "# bespoke value fill\n",
    "luxury_makes = [\"FERRARI\", \"BUGATTI\", \"LAMBORGHINI\", \"ASTON MARTIN\", \"T.V.R.\", \"ROLLS\", \"MCLAREN\", \"KOENIGSEGG\", \"DE TOMASO\"]\n",
    "for make in luxury_makes:\n",
    "    accident_matched_file.loc[accident_matched_file['Manufacturer'] == make, \"Accident_rating\"] = 99"
   ]
  },
  {
   "cell_type": "code",
   "execution_count": null,
   "id": "9742f83c",
   "metadata": {},
   "outputs": [],
   "source": [
    "accident_matched_file.loc[(accident_matched_file['Manufacturer']=='AUDI')&(accident_matched_file['Model']=='A3')][\"Accident_rating\"].unique()"
   ]
  },
  {
   "cell_type": "code",
   "execution_count": null,
   "id": "091ee6a7-b161-4bc0-a71a-bc17c45e89da",
   "metadata": {},
   "outputs": [],
   "source": [
    "# indirect match\n",
    "from difflib import SequenceMatcher\n",
    "\n",
    "indirect_matches = {}\n",
    "remaining_df = accident_matched_file[accident_matched_file[\"Accident_rating\"].isna()]\n",
    "remaining_models = list(set(remaining_df[\"GenModel\"]))\n",
    "print(len(remaining_models))\n",
    "for i in range(len(remaining_models)):\n",
    "    if i % 100 == 0:\n",
    "        print(i)\n",
    "    mx, match = 0.875, 0\n",
    "    for j, row in accident_values_df.iterrows():\n",
    "        veh = row[\"GenModel\"]\n",
    "        val = SequenceMatcher(None, veh, remaining_models[i]).ratio()\n",
    "        if veh in remaining_models[i]:\n",
    "            val = 1\n",
    "        if val > mx:\n",
    "            mx = val\n",
    "            match = veh\n",
    "    if match != 0:\n",
    "        # print(remaining_models[i] + \" - \" + match)\n",
    "        rarity_detriment = []\n",
    "        indirect_matches[remaining_models[i]] = list(accident_values_df[accident_values_df[\"GenModel\"]==match][\"Accident_rating\"])[0]\n",
    "for k in indirect_matches.keys():\n",
    "    accident_matched_file.loc[accident_matched_file['GenModel'] == k, \"Accident_rating\"] = indirect_matches[k]"
   ]
  },
  {
   "cell_type": "code",
   "execution_count": null,
   "id": "83e5c6b3",
   "metadata": {},
   "outputs": [],
   "source": [
    "indirect_matches"
   ]
  },
  {
   "cell_type": "code",
   "execution_count": null,
   "id": "88738c34-63ce-4259-898d-be197ff96ed3",
   "metadata": {},
   "outputs": [],
   "source": [
    "# ## Manufacturer vehicle imputation\n",
    "remaining_models = list(set(accident_matched_file[accident_matched_file[\"Accident_rating\"].isna()][\"GenModel\"]))\n",
    "matched_manufacturers = list(set(accident_matched_file[accident_matched_file[\"Accident_rating\"].notna()][accident_matched_file[\"Accident_rating\"] < 99][\"Manufacturer\"]))\n",
    "remaining_models_with_matched_make = []\n",
    "for model in remaining_models:\n",
    "    x = False\n",
    "    for make in matched_manufacturers:\n",
    "        x |= model.split()[0] in make.split()\n",
    "    if x:\n",
    "        remaining_models_with_matched_make.append(model)\n",
    "print(len(remaining_models_with_matched_make))\n",
    "distance_factors = [\"Volume_Box\",\"Weight_Kerb\",\"Acceleration\",\"Top_Speed\"]\n",
    "matched_ratings = {}\n",
    "for model in remaining_models_with_matched_make:\n",
    "    print(model)\n",
    "    closest_dist, closest_point, closest_model = 100, [], \"\"\n",
    "    model_make = \"\"\n",
    "    for make in matched_manufacturers:\n",
    "        make_split = make.split()\n",
    "        model_split = model.split()\n",
    "        x = True\n",
    "        if len(make_split) < len(model_split):\n",
    "            for i in range(len(make_split)):\n",
    "                x &= make_split[i] == model_split[i]\n",
    "            if x:\n",
    "                model_make = make\n",
    "    print(model_make)\n",
    "    make_df = accident_matched_file[accident_matched_file[\"Manufacturer\"]==model_make][distance_factors+[\"GenModel\",\"Accident_rating\"]]\n",
    "    mean, std = [], []\n",
    "    for factor in distance_factors:\n",
    "        mean.append(make_df[factor].mean())\n",
    "        std.append(make_df[factor].std())\n",
    "    new_model_df = accident_matched_file[accident_matched_file[\"GenModel\"]==model][distance_factors]\n",
    "    for i in range(len(distance_factors)):\n",
    "        new_model_df[distance_factors[i]] = (new_model_df[distance_factors[i]]-mean[i])/std[i]\n",
    "    mean_point = []\n",
    "    for f in distance_factors:\n",
    "        mean_point.append(new_model_df[f].mean())\n",
    "    # print(mean_point)\n",
    "    matched_model_df = make_df[make_df[\"Accident_rating\"].notna()]\n",
    "    matched_model_list = list(set(matched_model_df[\"GenModel\"]))\n",
    "    # print(\"MATCHED MODEL\")\n",
    "    for matched_model in matched_model_list:\n",
    "        current_matched_model_df = matched_model_df[matched_model_df[\"GenModel\"]==matched_model]\n",
    "        for i in range(len(distance_factors)):\n",
    "            current_matched_model_df[distance_factors[i]] = (current_matched_model_df[distance_factors[i]]-mean[i])/std[i]\n",
    "        matched_mean_point = []\n",
    "        for f in distance_factors:\n",
    "            matched_mean_point.append(current_matched_model_df[f].mean())\n",
    "        dist = 0\n",
    "        for i in range(len(mean_point)):\n",
    "            if not math.isnan(mean_point[i]):\n",
    "                dist += math.pow((mean_point[i]-matched_mean_point[i]),2)\n",
    "        dist = math.sqrt(dist)\n",
    "        if closest_dist > dist:\n",
    "            closest_dist = dist\n",
    "            closest_point = matched_mean_point\n",
    "            closest_model = matched_model\n",
    "    mx, commonality_match = 0.875, closest_model\n",
    "    for j, row in accident_values_df.iterrows():\n",
    "        veh = row[\"GenModel\"]\n",
    "        val = SequenceMatcher(None, veh, closest_model).ratio()\n",
    "        if veh in closest_model:\n",
    "            val = 1\n",
    "        if val > mx:\n",
    "            mx = val\n",
    "            commonality_match = veh\n",
    "    print(closest_model)\n",
    "    print(commonality_match)\n",
    "    # print(closest_point)\n",
    "    # print(closest_dist)\n",
    "    commonality_detriment = []\n",
    "    for y in years:\n",
    "        if commonality_match in commonality[y].keys():\n",
    "            commonality_detriment.append(commonality[y][commonality_match])\n",
    "    commonality_detriment = sum(commonality_detriment)/(len(commonality_detriment)*2)\n",
    "    matched_ratings[model] = int(list(accident_matched_file[accident_matched_file[\"GenModel\"]==closest_model][\"Accident_rating\"])[0]-commonality_detriment)\n",
    "    print(matched_ratings[model])\n",
    "    print()\n",
    "print(matched_ratings)"
   ]
  },
  {
   "cell_type": "code",
   "execution_count": null,
   "id": "cb4f2581-5771-47bd-add6-f0c803e23983",
   "metadata": {},
   "outputs": [],
   "source": [
    "# Non-manufacturer vehicle imputation\n",
    "remaining_models_without_matched_make = set(remaining_models)-set(remaining_models_with_matched_make)\n",
    "remaining_makes = {}\n",
    "for model in remaining_models_without_matched_make:\n",
    "    for make in accident_matched_file[\"Manufacturer\"]:\n",
    "        make_split = make.split()\n",
    "        model_split = model.split()\n",
    "        x = True\n",
    "        if len(make_split) < len(model_split):\n",
    "            for i in range(len(make_split)):\n",
    "                x &= make_split[i] == model_split[i]\n",
    "            if x:\n",
    "                if make in remaining_makes.keys():\n",
    "                    remaining_makes[make].append(model)\n",
    "                else:\n",
    "                    remaining_makes[make] = [model]\n",
    "print(len(remaining_makes))\n",
    "print(len(remaining_models_without_matched_make))\n",
    "for m in remaining_makes.keys():\n",
    "    remaining_makes[m] = list(set(remaining_makes[m]))\n",
    "mean, std = [], []\n",
    "for factor in distance_factors:\n",
    "    mean.append(accident_matched_file[factor].mean())\n",
    "    std.append(accident_matched_file[factor].std())\n",
    "for make in remaining_makes.keys():\n",
    "    print(\"MAKE PHASE\")\n",
    "    print(make)\n",
    "    closest_make_dist, closest_make = 1000, \"\"\n",
    "    make_df = accident_matched_file[accident_matched_file[\"Manufacturer\"]==make][distance_factors+[\"GenModel\",\"Accident_rating\"]]\n",
    "    for i in range(len(distance_factors)):\n",
    "        make_df[distance_factors[i]] = (make_df[distance_factors[i]]-mean[i])/std[i]\n",
    "    make_mean_point = []\n",
    "    for f in distance_factors:\n",
    "        make_mean_point.append(make_df[f].mean())\n",
    "    print(make_mean_point)\n",
    "    # print(\"Makes:\")\n",
    "    for other_make in matched_manufacturers:\n",
    "        # print(other_make)\n",
    "        other_make_df = accident_matched_file[accident_matched_file[\"Manufacturer\"]==other_make][distance_factors+[\"GenModel\"]]\n",
    "        for i in range(len(distance_factors)):\n",
    "            other_make_df[distance_factors[i]] = (other_make_df[distance_factors[i]]-mean[i])/std[i]\n",
    "        other_make_mean_point = []\n",
    "        for f in distance_factors:\n",
    "            other_make_mean_point.append(other_make_df[f].mean())\n",
    "        # print(other_make_mean_point)\n",
    "        dist = 0\n",
    "        for i in range(len(make_mean_point)):\n",
    "            if not math.isnan(make_mean_point[i]):\n",
    "                dist += math.pow((make_mean_point[i]-other_make_mean_point[i]),2)\n",
    "        dist = math.sqrt(dist)\n",
    "        # print(dist)\n",
    "        if closest_make_dist > dist and dist != 0:\n",
    "            closest_make_dist = dist\n",
    "            closest_make = other_make\n",
    "    print(\"Closest make:\")\n",
    "    print(closest_make)\n",
    "    closest_make_df = accident_matched_file[accident_matched_file[\"Manufacturer\"]==closest_make][distance_factors+[\"GenModel\",\"Accident_rating\"]]\n",
    "    print(\"MODEL PHASE:\")\n",
    "    for model in remaining_makes[make]:\n",
    "        closest_dist, closest_point, closest_model = 1000, [], \"\"\n",
    "        print(model)\n",
    "        new_model_df = accident_matched_file[accident_matched_file[\"GenModel\"]==model][distance_factors]\n",
    "        for i in range(len(distance_factors)):\n",
    "            new_model_df[distance_factors[i]] = (new_model_df[distance_factors[i]]-mean[i])/std[i]\n",
    "        model_mean_point = []\n",
    "        for f in distance_factors:\n",
    "            model_mean_point.append(new_model_df[f].mean())\n",
    "        print(model_mean_point)\n",
    "        matched_model_df = closest_make_df[closest_make_df[\"Accident_rating\"].notna()]\n",
    "        matched_model_list = list(set(matched_model_df[\"GenModel\"]))\n",
    "        for matched_model in matched_model_list:\n",
    "            current_matched_model_df = matched_model_df[matched_model_df[\"GenModel\"]==matched_model]\n",
    "            for i in range(len(distance_factors)):\n",
    "                current_matched_model_df[distance_factors[i]] = (current_matched_model_df[distance_factors[i]]-mean[i])/std[i]\n",
    "            matched_mean_point = []\n",
    "            for f in distance_factors:\n",
    "                matched_mean_point.append(current_matched_model_df[f].mean())\n",
    "            dist = 0\n",
    "            for i in range(len(model_mean_point)):\n",
    "                if not math.isnan(model_mean_point[i]):\n",
    "                    dist += math.pow((model_mean_point[i]-matched_mean_point[i]),2)\n",
    "            dist = math.sqrt(dist)\n",
    "            if closest_dist > dist and dist != 0:\n",
    "                closest_dist = dist\n",
    "                closest_point = matched_mean_point\n",
    "                closest_model = matched_model\n",
    "            mx, commonality_match = 0.875, closest_model\n",
    "        for j, row in accident_values_df.iterrows():\n",
    "            veh = row[\"GenModel\"]\n",
    "            val = SequenceMatcher(None, veh, closest_model).ratio()\n",
    "            if veh in closest_model:\n",
    "                val = 1\n",
    "            if val > mx:\n",
    "                mx = val\n",
    "                commonality_match = veh\n",
    "        print(closest_model)\n",
    "        # print(closest_point)\n",
    "        # print(closest_dist)\n",
    "        commonality_detriment = []\n",
    "        for y in years:\n",
    "            if commonality_match in commonality[y].keys():\n",
    "                commonality_detriment.append(commonality[y][commonality_match])\n",
    "        commonality_detriment = sum(commonality_detriment)/(len(commonality_detriment)*2)\n",
    "        matched_ratings[model] = int(list(accident_matched_file[accident_matched_file[\"GenModel\"]==closest_model][\"Accident_rating\"])[0]-commonality_detriment)\n",
    "        print(matched_ratings[model])\n",
    "    print()"
   ]
  },
  {
   "cell_type": "code",
   "execution_count": null,
   "id": "cdfef6ec-6808-485b-a120-c5bbada4eafd",
   "metadata": {},
   "outputs": [],
   "source": [
    "for k in matched_ratings.keys():\n",
    "    accident_matched_file.loc[accident_matched_file['GenModel'] == k, 'Accident_rating'] = matched_ratings[k]"
   ]
  },
  {
   "cell_type": "code",
   "execution_count": null,
   "id": "51d8bd46-be5e-4a8c-ae57-5845c57359cc",
   "metadata": {},
   "outputs": [],
   "source": [
    "matched_models = list(set(accident_matched_file[\"GenModel\"]))\n",
    "continuous_factors = [\"Engine_Power_BHP\", \"Weight_Kerb\", \"Volume_Box\", \"Top_Speed\"]\n",
    "model_factor_means = {}\n",
    "for m in matched_models:\n",
    "    matched_model_df = accident_matched_file[accident_matched_file[\"GenModel\"] == m]\n",
    "    model_factor_means[m] = {\"Engine_Power_BHP\": [matched_model_df[\"Engine_Power_BHP\"].mean(), matched_model_df[\"Engine_Power_BHP\"].std()],\n",
    "                             \"Weight_Kerb\": [matched_model_df[\"Weight_Kerb\"].mean(), matched_model_df[\"Weight_Kerb\"].std()],\n",
    "                             \"Volume_Box\": [matched_model_df[\"Volume_Box\"].mean(), matched_model_df[\"Volume_Box\"].std()],\n",
    "                             \"Top_Speed\": [matched_model_df[\"Top_Speed\"].mean(), matched_model_df[\"Top_Speed\"].std()],\n",
    "                             \"Acceleration\": [matched_model_df[\"Acceleration\"].mean(), matched_model_df[\"Acceleration\"].std()]}"
   ]
  },
  {
   "cell_type": "code",
   "execution_count": null,
   "id": "5e42d7f5-0df8-41fc-9491-512a803a87a5",
   "metadata": {},
   "outputs": [],
   "source": [
    "# value correction\n",
    "accident_values = {\"TVI_Code\": [], \"Accident_rating\": []}\n",
    "for i, row in accident_matched_file.iterrows():\n",
    "    rating = row[\"Accident_rating\"]\n",
    "    if not math.isnan(rating) and rating < 99:\n",
    "        rating += -2 if row[\"Transmission_Group\"]==\"Manual\" else 2 if row[\"Transmission_Group\"]==\"Automatic\" else 0\n",
    "        for f in continuous_factors:\n",
    "            if not math.isnan(row[f]) and not math.isnan(model_factor_means[row[\"GenModel\"]][f][0]) and not math.isnan(model_factor_means[row[\"GenModel\"]][f][1]) and model_factor_means[row[\"GenModel\"]][f][1] != 0:\n",
    "                rating += int((row[f]-model_factor_means[row[\"GenModel\"]][f][0])/model_factor_means[row[\"GenModel\"]][f][1])\n",
    "        if not math.isnan(model_factor_means[row[\"GenModel\"]][\"Acceleration\"][1]) and model_factor_means[row[\"GenModel\"]][\"Acceleration\"][1] != 0:\n",
    "            rating += int(abs((row[\"Acceleration\"]-model_factor_means[row[\"GenModel\"]][\"Acceleration\"][0])/model_factor_means[row[\"GenModel\"]][\"Acceleration\"][1]))\n",
    "    if not math.isnan(rating):\n",
    "        accident_values[\"TVI_Code\"].append(row[\"TVI_Code\"])\n",
    "        accident_values[\"Accident_rating\"].append(rating)\n",
    "accident_matched_file = accident_matched_file.drop(columns={\"Accident_rating\"})\n",
    "accident_matched_file = accident_matched_file.merge(pd.DataFrame.from_dict(accident_values), on=\"TVI_Code\", how=\"left\")"
   ]
  },
  {
   "cell_type": "code",
   "execution_count": null,
   "id": "ef770c15-c3a6-4bb7-a441-d4fbb96c5f52",
   "metadata": {},
   "outputs": [],
   "source": [
    "len(accident_matched_file[\"Accident_rating\"].dropna())==len(data_file)"
   ]
  },
  {
   "cell_type": "code",
   "execution_count": null,
   "id": "cf87314e-5f08-4679-a7e7-2910c6db4d0b",
   "metadata": {},
   "outputs": [],
   "source": [
    "pd.DataFrame.from_dict(accident_values).to_csv(r\"C:\\Users\\JoshM\\Documents\\Vehicle File\\Rating factors\\factors\\Accident_ratings.csv\")"
   ]
  },
  {
   "cell_type": "markdown",
   "id": "242e3cc6-9e8e-4031-897b-ffa3da795ad6",
   "metadata": {
    "tags": []
   },
   "source": [
    "#### Injury calculation"
   ]
  },
  {
   "cell_type": "code",
   "execution_count": null,
   "id": "115392b4-f8d1-462d-9428-6f7ef21d8dfb",
   "metadata": {},
   "outputs": [],
   "source": [
    "# direct match\n",
    "casualty_matched_file = data_file.merge(casualty_values_df, on='GenModel', how=\"left\")"
   ]
  },
  {
   "cell_type": "code",
   "execution_count": null,
   "id": "a2bf9b39-4572-4aea-90c1-e7a47968d310",
   "metadata": {},
   "outputs": [],
   "source": [
    "set(casualty_matched_file[\"Casualty_rating\"].dropna())"
   ]
  },
  {
   "cell_type": "code",
   "execution_count": null,
   "id": "a72f5965-8d09-4e27-b8d7-94a763157216",
   "metadata": {},
   "outputs": [],
   "source": [
    "# bespoke value fill\n",
    "luxury_makes = [\"FERRARI\", \"BUGATTI\", \"LAMBORGHINI\", \"ASTON MARTIN\", \"T.V.R.\", \"ROLLS\", \"MCLAREN\", \"KOENIGSEGG\", \"DE TOMASO\"]\n",
    "for make in luxury_makes:\n",
    "    casualty_matched_file.loc[casualty_matched_file['Manufacturer'] == make, \"Casualty_rating\"] = 99"
   ]
  },
  {
   "cell_type": "code",
   "execution_count": null,
   "id": "55849324-05b8-46dd-a41a-f0870ab51445",
   "metadata": {},
   "outputs": [],
   "source": [
    "# indirect match\n",
    "\n",
    "indirect_matches = {}\n",
    "remaining_df = casualty_matched_file[casualty_matched_file[\"Casualty_rating\"].isna()]\n",
    "remaining_models = list(set(remaining_df[\"GenModel\"]))\n",
    "print(len(remaining_models))\n",
    "for i in range(len(remaining_models)):\n",
    "    if i % 100 == 0:\n",
    "        print(i)\n",
    "    mx, match = 0.875, 0\n",
    "    for j, row in casualty_values_df.iterrows():\n",
    "        veh = row[\"GenModel\"]\n",
    "        val = SequenceMatcher(None, veh, remaining_models[i]).ratio()\n",
    "        if veh in remaining_models[i]:\n",
    "            val = 1\n",
    "        if val > mx:\n",
    "            mx = val\n",
    "            match = veh\n",
    "    if match != 0:\n",
    "        # print(remaining_models[i] + \" - \" + match)\n",
    "        rarity_detriment = []\n",
    "        indirect_matches[remaining_models[i]] = list(casualty_values_df[casualty_values_df[\"GenModel\"]==match][\"Casualty_rating\"])[0]\n",
    "for k in indirect_matches.keys():\n",
    "    casualty_matched_file.loc[casualty_matched_file['GenModel'] == k, \"Casualty_rating\"] = indirect_matches[k]"
   ]
  },
  {
   "cell_type": "code",
   "execution_count": null,
   "id": "87dd12f3-d464-4e64-bff8-86c5deaab18a",
   "metadata": {},
   "outputs": [],
   "source": [
    "# ## Manufacturer vehicle imputation\n",
    "remaining_models = list(set(casualty_matched_file[casualty_matched_file[\"Casualty_rating\"].isna()][\"GenModel\"]))\n",
    "matched_manufacturers = list(set(casualty_matched_file[casualty_matched_file[\"Casualty_rating\"].notna()][casualty_matched_file[\"Casualty_rating\"] < 99][\"Manufacturer\"]))\n",
    "remaining_models_with_matched_make = []\n",
    "for model in remaining_models:\n",
    "    x = False\n",
    "    for make in matched_manufacturers:\n",
    "        x |= model.split()[0] in make.split()\n",
    "    if x:\n",
    "        remaining_models_with_matched_make.append(model)\n",
    "print(len(remaining_models_with_matched_make))\n",
    "distance_factors = [\"Volume_Box\",\"Weight_Kerb\",\"Acceleration\",\"Top_Speed\"]\n",
    "matched_ratings = {}\n",
    "for model in remaining_models_with_matched_make:\n",
    "    print(model)\n",
    "    closest_dist, closest_point, closest_model = 100, [], \"\"\n",
    "    model_make = \"\"\n",
    "    for make in matched_manufacturers:\n",
    "        make_split = make.split()\n",
    "        model_split = model.split()\n",
    "        x = True\n",
    "        if len(make_split) < len(model_split):\n",
    "            for i in range(len(make_split)):\n",
    "                x &= make_split[i] == model_split[i]\n",
    "            if x:\n",
    "                model_make = make\n",
    "    print(model_make)\n",
    "    make_df = casualty_matched_file[casualty_matched_file[\"Manufacturer\"]==model_make][distance_factors+[\"GenModel\",\"Casualty_rating\"]]\n",
    "    mean, std = [], []\n",
    "    for factor in distance_factors:\n",
    "        mean.append(make_df[factor].mean())\n",
    "        std.append(make_df[factor].std())\n",
    "    new_model_df = casualty_matched_file[casualty_matched_file[\"GenModel\"]==model][distance_factors]\n",
    "    for i in range(len(distance_factors)):\n",
    "        new_model_df[distance_factors[i]] = (new_model_df[distance_factors[i]]-mean[i])/std[i]\n",
    "    mean_point = []\n",
    "    for f in distance_factors:\n",
    "        mean_point.append(new_model_df[f].mean())\n",
    "    # print(mean_point)\n",
    "    matched_model_df = make_df[make_df[\"Casualty_rating\"].notna()]\n",
    "    matched_model_list = list(set(matched_model_df[\"GenModel\"]))\n",
    "    # print(\"MATCHED MODEL\")\n",
    "    for matched_model in matched_model_list:\n",
    "        current_matched_model_df = matched_model_df[matched_model_df[\"GenModel\"]==matched_model]\n",
    "        for i in range(len(distance_factors)):\n",
    "            current_matched_model_df[distance_factors[i]] = (current_matched_model_df[distance_factors[i]]-mean[i])/std[i]\n",
    "        matched_mean_point = []\n",
    "        for f in distance_factors:\n",
    "            matched_mean_point.append(current_matched_model_df[f].mean())\n",
    "        dist = 0\n",
    "        for i in range(len(mean_point)):\n",
    "            if not math.isnan(mean_point[i]):\n",
    "                dist += math.pow((mean_point[i]-matched_mean_point[i]),2)\n",
    "        dist = math.sqrt(dist)\n",
    "        if closest_dist > dist:\n",
    "            closest_dist = dist\n",
    "            closest_point = matched_mean_point\n",
    "            closest_model = matched_model\n",
    "    mx, commonality_match = 0.875, closest_model\n",
    "    for j, row in casualty_values_df.iterrows():\n",
    "        veh = row[\"GenModel\"]\n",
    "        val = SequenceMatcher(None, veh, closest_model).ratio()\n",
    "        if veh in closest_model:\n",
    "            val = 1\n",
    "        if val > mx:\n",
    "            mx = val\n",
    "            commonality_match = veh\n",
    "    print(closest_model)\n",
    "    print(commonality_match)\n",
    "    # print(closest_point)\n",
    "    # print(closest_dist)\n",
    "    commonality_detriment = []\n",
    "    for y in years:\n",
    "        if commonality_match in commonality[y].keys():\n",
    "            commonality_detriment.append(commonality[y][commonality_match])\n",
    "    commonality_detriment = sum(commonality_detriment)/(len(commonality_detriment)*2)\n",
    "    matched_ratings[model] = int(list(casualty_matched_file[casualty_matched_file[\"GenModel\"]==closest_model][\"Casualty_rating\"])[0]-commonality_detriment)\n",
    "    print(matched_ratings[model])\n",
    "    print()\n",
    "print(matched_ratings)"
   ]
  },
  {
   "cell_type": "code",
   "execution_count": null,
   "id": "a787ae66-415a-4389-910e-9a19921019a5",
   "metadata": {},
   "outputs": [],
   "source": [
    "# Non-manufacturer vehicle imputation\n",
    "remaining_models_without_matched_make = set(remaining_models)-set(remaining_models_with_matched_make)\n",
    "remaining_makes = {}\n",
    "for model in remaining_models_without_matched_make:\n",
    "    for make in casualty_matched_file[\"Manufacturer\"]:\n",
    "        make_split = make.split()\n",
    "        model_split = model.split()\n",
    "        x = True\n",
    "        if len(make_split) < len(model_split):\n",
    "            for i in range(len(make_split)):\n",
    "                x &= make_split[i] == model_split[i]\n",
    "            if x:\n",
    "                if make in remaining_makes.keys():\n",
    "                    remaining_makes[make].append(model)\n",
    "                else:\n",
    "                    remaining_makes[make] = [model]\n",
    "print(len(remaining_makes))\n",
    "print(len(remaining_models_without_matched_make))\n",
    "for m in remaining_makes.keys():\n",
    "    remaining_makes[m] = list(set(remaining_makes[m]))\n",
    "mean, std = [], []\n",
    "for factor in distance_factors:\n",
    "    mean.append(casualty_matched_file[factor].mean())\n",
    "    std.append(casualty_matched_file[factor].std())\n",
    "for make in remaining_makes.keys():\n",
    "    print(\"MAKE PHASE\")\n",
    "    print(make)\n",
    "    closest_make_dist, closest_make = 1000, \"\"\n",
    "    make_df = casualty_matched_file[casualty_matched_file[\"Manufacturer\"]==make][distance_factors+[\"GenModel\",\"Casualty_rating\"]]\n",
    "    for i in range(len(distance_factors)):\n",
    "        make_df[distance_factors[i]] = (make_df[distance_factors[i]]-mean[i])/std[i]\n",
    "    make_mean_point = []\n",
    "    for f in distance_factors:\n",
    "        make_mean_point.append(make_df[f].mean())\n",
    "    print(make_mean_point)\n",
    "    # print(\"Makes:\")\n",
    "    for other_make in matched_manufacturers:\n",
    "        # print(other_make)\n",
    "        other_make_df = casualty_matched_file[casualty_matched_file[\"Manufacturer\"]==other_make][distance_factors+[\"GenModel\"]]\n",
    "        for i in range(len(distance_factors)):\n",
    "            other_make_df[distance_factors[i]] = (other_make_df[distance_factors[i]]-mean[i])/std[i]\n",
    "        other_make_mean_point = []\n",
    "        for f in distance_factors:\n",
    "            other_make_mean_point.append(other_make_df[f].mean())\n",
    "        # print(other_make_mean_point)\n",
    "        dist = 0\n",
    "        for i in range(len(make_mean_point)):\n",
    "            if not math.isnan(make_mean_point[i]):\n",
    "                dist += math.pow((make_mean_point[i]-other_make_mean_point[i]),2)\n",
    "        dist = math.sqrt(dist)\n",
    "        # print(dist)\n",
    "        if closest_make_dist > dist and dist != 0:\n",
    "            closest_make_dist = dist\n",
    "            closest_make = other_make\n",
    "    print(\"Closest make:\")\n",
    "    print(closest_make)\n",
    "    closest_make_df = casualty_matched_file[casualty_matched_file[\"Manufacturer\"]==closest_make][distance_factors+[\"GenModel\",\"Casualty_rating\"]]\n",
    "    print(\"MODEL PHASE:\")\n",
    "    for model in remaining_makes[make]:\n",
    "        closest_dist, closest_point, closest_model = 1000, [], \"\"\n",
    "        print(model)\n",
    "        new_model_df = casualty_matched_file[casualty_matched_file[\"GenModel\"]==model][distance_factors]\n",
    "        for i in range(len(distance_factors)):\n",
    "            new_model_df[distance_factors[i]] = (new_model_df[distance_factors[i]]-mean[i])/std[i]\n",
    "        model_mean_point = []\n",
    "        for f in distance_factors:\n",
    "            model_mean_point.append(new_model_df[f].mean())\n",
    "        print(model_mean_point)\n",
    "        matched_model_df = closest_make_df[closest_make_df[\"Casualty_rating\"].notna()]\n",
    "        matched_model_list = list(set(matched_model_df[\"GenModel\"]))\n",
    "        for matched_model in matched_model_list:\n",
    "            current_matched_model_df = matched_model_df[matched_model_df[\"GenModel\"]==matched_model]\n",
    "            for i in range(len(distance_factors)):\n",
    "                current_matched_model_df[distance_factors[i]] = (current_matched_model_df[distance_factors[i]]-mean[i])/std[i]\n",
    "            matched_mean_point = []\n",
    "            for f in distance_factors:\n",
    "                matched_mean_point.append(current_matched_model_df[f].mean())\n",
    "            dist = 0\n",
    "            for i in range(len(model_mean_point)):\n",
    "                if not math.isnan(model_mean_point[i]):\n",
    "                    dist += math.pow((model_mean_point[i]-matched_mean_point[i]),2)\n",
    "            dist = math.sqrt(dist)\n",
    "            if closest_dist > dist and dist != 0:\n",
    "                closest_dist = dist\n",
    "                closest_point = matched_mean_point\n",
    "                closest_model = matched_model\n",
    "            mx, commonality_match = 0.875, closest_model\n",
    "        for j, row in casualty_values_df.iterrows():\n",
    "            veh = row[\"GenModel\"]\n",
    "            val = SequenceMatcher(None, veh, closest_model).ratio()\n",
    "            if veh in closest_model:\n",
    "                val = 1\n",
    "            if val > mx:\n",
    "                mx = val\n",
    "                commonality_match = veh\n",
    "        print(closest_model)\n",
    "        # print(closest_point)\n",
    "        # print(closest_dist)\n",
    "        commonality_detriment = []\n",
    "        for y in years:\n",
    "            if commonality_match in commonality[y].keys():\n",
    "                commonality_detriment.append(commonality[y][commonality_match])\n",
    "        commonality_detriment = sum(commonality_detriment)/(len(commonality_detriment)*2)\n",
    "        matched_ratings[model] = int(list(casualty_matched_file[casualty_matched_file[\"GenModel\"]==closest_model][\"Casualty_rating\"])[0]-commonality_detriment)\n",
    "        print(matched_ratings[model])\n",
    "    print()"
   ]
  },
  {
   "cell_type": "code",
   "execution_count": null,
   "id": "57177c68-e83e-4150-a83b-bc8529101c30",
   "metadata": {},
   "outputs": [],
   "source": [
    "for k in matched_ratings.keys():\n",
    "    casualty_matched_file.loc[casualty_matched_file['GenModel'] == k, 'Casualty_rating'] = matched_ratings[k]"
   ]
  },
  {
   "cell_type": "code",
   "execution_count": null,
   "id": "7052cfee-0c3e-4cc3-a83d-a8dd7bd95507",
   "metadata": {},
   "outputs": [],
   "source": [
    "matched_models = list(set(casualty_matched_file[\"GenModel\"]))\n",
    "continuous_factors = [\"Engine_Power_BHP\", \"Weight_Kerb\", \"Volume_Box\", \"Top_Speed\"]\n",
    "model_factor_means = {}\n",
    "for m in matched_models:\n",
    "    matched_model_df = casualty_matched_file[casualty_matched_file[\"GenModel\"] == m]\n",
    "    model_factor_means[m] = {\"Engine_Power_BHP\": [matched_model_df[\"Engine_Power_BHP\"].mean(), matched_model_df[\"Engine_Power_BHP\"].std()],\n",
    "                             \"Weight_Kerb\": [matched_model_df[\"Weight_Kerb\"].mean(), matched_model_df[\"Weight_Kerb\"].std()],\n",
    "                             \"Volume_Box\": [matched_model_df[\"Volume_Box\"].mean(), matched_model_df[\"Volume_Box\"].std()],\n",
    "                             \"Top_Speed\": [matched_model_df[\"Top_Speed\"].mean(), matched_model_df[\"Top_Speed\"].std()],\n",
    "                             \"Acceleration\": [matched_model_df[\"Acceleration\"].mean(), matched_model_df[\"Acceleration\"].std()]}"
   ]
  },
  {
   "cell_type": "code",
   "execution_count": null,
   "id": "ea3674a0-7162-41c7-a1f3-45a52eb94661",
   "metadata": {},
   "outputs": [],
   "source": [
    "# value correction\n",
    "casualty_values = {\"TVI_Code\": [], \"Injury_rating\": []}\n",
    "for i, row in casualty_matched_file.iterrows():\n",
    "    rating = row[\"Casualty_rating\"]\n",
    "    if not math.isnan(rating) and rating < 99:\n",
    "        rating += -2 if row[\"Transmission_Group\"]==\"Manual\" else 2 if row[\"Transmission_Group\"]==\"Automatic\" else 0\n",
    "        for f in continuous_factors:\n",
    "            if not math.isnan(row[f]) and not math.isnan(model_factor_means[row[\"GenModel\"]][f][0]) and not math.isnan(model_factor_means[row[\"GenModel\"]][f][1]) and model_factor_means[row[\"GenModel\"]][f][1] != 0:\n",
    "                rating += int((row[f]-model_factor_means[row[\"GenModel\"]][f][0])/model_factor_means[row[\"GenModel\"]][f][1])\n",
    "        if not math.isnan(model_factor_means[row[\"GenModel\"]][\"Acceleration\"][1]) and model_factor_means[row[\"GenModel\"]][\"Acceleration\"][1] != 0:\n",
    "            rating += int(abs((row[\"Acceleration\"]-model_factor_means[row[\"GenModel\"]][\"Acceleration\"][0])/model_factor_means[row[\"GenModel\"]][\"Acceleration\"][1]))\n",
    "    if not math.isnan(rating):\n",
    "        casualty_values[\"TVI_Code\"].append(row[\"TVI_Code\"])\n",
    "        casualty_values[\"Injury_rating\"].append(rating)\n",
    "casualty_matched_file = casualty_matched_file.drop(columns={\"Casualty_rating\"})\n",
    "casualty_matched_file = casualty_matched_file.merge(pd.DataFrame.from_dict(casualty_values), on=\"TVI_Code\", how=\"left\")"
   ]
  },
  {
   "cell_type": "code",
   "execution_count": null,
   "id": "2e0f29e2-ae03-4c5b-a1c1-7b9231298550",
   "metadata": {},
   "outputs": [],
   "source": [
    "len(casualty_matched_file[\"Injury_rating\"].dropna())==len(data_file)"
   ]
  },
  {
   "cell_type": "code",
   "execution_count": null,
   "id": "e72edc30-847e-4baa-8bfb-8f3eddb38483",
   "metadata": {},
   "outputs": [],
   "source": [
    "pd.DataFrame.from_dict(casualty_values).to_csv(r\"C:\\Users\\JoshM\\Documents\\Vehicle File\\Rating factors\\factors\\Casualty_ratings.csv\")"
   ]
  },
  {
   "cell_type": "markdown",
   "id": "83ab53f0-acee-4414-b414-f86b555a3f93",
   "metadata": {
    "tags": []
   },
   "source": [
    "#### Theft calculation"
   ]
  },
  {
   "cell_type": "code",
   "execution_count": null,
   "id": "0b688ef9-6f64-4b48-a2ea-c9853c18f6a0",
   "metadata": {},
   "outputs": [],
   "source": [
    "# direct match\n",
    "theft_matched_file = data_file.merge(theft_values_df, on='GenModel', how=\"left\")"
   ]
  },
  {
   "cell_type": "code",
   "execution_count": null,
   "id": "ade4fe20-7c83-4bf4-8247-e58477c144c2",
   "metadata": {},
   "outputs": [],
   "source": [
    "set(theft_matched_file[\"Theft_rating\"].dropna())"
   ]
  },
  {
   "cell_type": "code",
   "execution_count": null,
   "id": "3dedea88-4d00-4dae-b1dd-6db21b7a6783",
   "metadata": {},
   "outputs": [],
   "source": [
    "# bespoke value fill\n",
    "luxury_makes = [\"FERRARI\", \"BUGATTI\", \"LAMBORGHINI\", \"ASTON MARTIN\", \"T.V.R.\", \"ROLLS\", \"MCLAREN\", \"KOENIGSEGG\", \"DE TOMASO\"]\n",
    "for make in luxury_makes:\n",
    "    theft_matched_file.loc[theft_matched_file['Manufacturer'] == make, \"Theft_rating\"] = 99"
   ]
  },
  {
   "cell_type": "code",
   "execution_count": null,
   "id": "d73319b5-d52a-4914-978b-01b74bf5c42f",
   "metadata": {},
   "outputs": [],
   "source": []
  },
  {
   "cell_type": "markdown",
   "id": "257c1a38-94f7-4508-9393-fc5c53c8e2f6",
   "metadata": {
    "tags": []
   },
   "source": [
    "#### Provisional theft calculation"
   ]
  },
  {
   "cell_type": "code",
   "execution_count": null,
   "id": "bf295ba2-eea3-407d-b6cc-c0cbea52fd96",
   "metadata": {},
   "outputs": [],
   "source": [
    "# direct match\n",
    "theft_matched_file = data_file.merge(theft_values_df, on='GenModel', how=\"left\")"
   ]
  },
  {
   "cell_type": "code",
   "execution_count": null,
   "id": "a722ec82-1959-433c-8348-43a60a7cf4f6",
   "metadata": {},
   "outputs": [],
   "source": [
    "set(theft_matched_file[\"Theft_rating\"].dropna())"
   ]
  },
  {
   "cell_type": "code",
   "execution_count": null,
   "id": "03fbaab3-beb9-4d42-8a6c-e7b680d518c3",
   "metadata": {},
   "outputs": [],
   "source": [
    "# indirect match\n",
    "\n",
    "indirect_matches = {}\n",
    "remaining_df = theft_matched_file[theft_matched_file[\"Theft_rating\"].isna()]\n",
    "remaining_models = list(set(remaining_df[\"GenModel\"]))\n",
    "print(len(remaining_models))\n",
    "for i in range(len(remaining_models)):\n",
    "    if i % 100 == 0:\n",
    "        print(i)\n",
    "    mx, match = 0.875, 0\n",
    "    for j, row in theft_values_df.iterrows():\n",
    "        veh = row[\"GenModel\"]\n",
    "        val = SequenceMatcher(None, veh, remaining_models[i]).ratio()\n",
    "        if veh in remaining_models[i]:\n",
    "            val = 1\n",
    "        if val > mx:\n",
    "            mx = val\n",
    "            match = veh\n",
    "    if match != 0:\n",
    "        print(remaining_models[i] + \" - \" + match)\n",
    "        rarity_detriment = []\n",
    "        indirect_matches[remaining_models[i]] = list(theft_values_df[theft_values_df[\"GenModel\"]==match][\"Theft_rating\"])[0]\n",
    "for k in indirect_matches.keys():\n",
    "    theft_matched_file.loc[theft_matched_file['GenModel'] == k, \"Theft_rating\"] = indirect_matches[k]"
   ]
  },
  {
   "cell_type": "code",
   "execution_count": null,
   "id": "429eb2d5-0835-436d-b85d-d1a2e55725dd",
   "metadata": {},
   "outputs": [],
   "source": [
    "# bespoke value fill\n",
    "luxury_makes = [\"FERRARI\", \"BUGATTI\", \"LAMBORGHINI\", \"ASTON MARTIN\", \"T.V.R.\", \"ROLLS\", \"MCLAREN\", \"KOENIGSEGG\", \"DE TOMASO\"]\n",
    "for make in luxury_makes:\n",
    "    theft_matched_file.loc[theft_matched_file['Manufacturer'] == make, \"Theft_rating\"] = 99"
   ]
  },
  {
   "cell_type": "code",
   "execution_count": null,
   "id": "133e27cc-986a-4373-b3b1-acebdb092091",
   "metadata": {},
   "outputs": [],
   "source": [
    "# ## Manufacturer vehicle imputation\n",
    "remaining_models = list(set(theft_matched_file[theft_matched_file[\"Theft_rating\"].isna()][\"GenModel\"]))\n",
    "matched_manufacturers = list(set(theft_matched_file[theft_matched_file[\"Theft_rating\"].notna()][theft_matched_file[\"Theft_rating\"] < 99][\"Manufacturer\"]))\n",
    "remaining_models_with_matched_make = []\n",
    "for model in remaining_models:\n",
    "    x = False\n",
    "    for make in matched_manufacturers:\n",
    "        x |= model.split()[0] in make.split()\n",
    "    if x:\n",
    "        remaining_models_with_matched_make.append(model)\n",
    "print(len(remaining_models_with_matched_make))\n",
    "distance_factors = [\"Volume_Box\",\"Weight_Kerb\",\"Acceleration\",\"Top_Speed\"]\n",
    "matched_ratings = {}\n",
    "for model in remaining_models_with_matched_make:\n",
    "    print(model)\n",
    "    closest_dist, closest_point, closest_model = 100, [], \"\"\n",
    "    model_make = \"\"\n",
    "    for make in matched_manufacturers:\n",
    "        make_split = make.split()\n",
    "        model_split = model.split()\n",
    "        x = True\n",
    "        if len(make_split) < len(model_split):\n",
    "            for i in range(len(make_split)):\n",
    "                x &= make_split[i] == model_split[i]\n",
    "            if x:\n",
    "                model_make = make\n",
    "    print(model_make)\n",
    "    make_df = theft_matched_file[theft_matched_file[\"Manufacturer\"]==model_make][distance_factors+[\"GenModel\",\"Theft_rating\"]]\n",
    "    mean, std = [], []\n",
    "    for factor in distance_factors:\n",
    "        mean.append(make_df[factor].mean())\n",
    "        std.append(make_df[factor].std())\n",
    "    new_model_df = theft_matched_file[theft_matched_file[\"GenModel\"]==model][distance_factors]\n",
    "    for i in range(len(distance_factors)):\n",
    "        new_model_df[distance_factors[i]] = (new_model_df[distance_factors[i]]-mean[i])/std[i]\n",
    "    mean_point = []\n",
    "    for f in distance_factors:\n",
    "        mean_point.append(new_model_df[f].mean())\n",
    "    # print(mean_point)\n",
    "    matched_model_df = make_df[make_df[\"Theft_rating\"].notna()]\n",
    "    matched_model_list = list(set(matched_model_df[\"GenModel\"]))\n",
    "    # print(\"MATCHED MODEL\")\n",
    "    for matched_model in matched_model_list:\n",
    "        current_matched_model_df = matched_model_df[matched_model_df[\"GenModel\"]==matched_model]\n",
    "        for i in range(len(distance_factors)):\n",
    "            current_matched_model_df[distance_factors[i]] = (current_matched_model_df[distance_factors[i]]-mean[i])/std[i]\n",
    "        matched_mean_point = []\n",
    "        for f in distance_factors:\n",
    "            matched_mean_point.append(current_matched_model_df[f].mean())\n",
    "        dist = 0\n",
    "        for i in range(len(mean_point)):\n",
    "            if not math.isnan(mean_point[i]):\n",
    "                dist += math.pow((mean_point[i]-matched_mean_point[i]),2)\n",
    "        dist = math.sqrt(dist)\n",
    "        if closest_dist > dist:\n",
    "            closest_dist = dist\n",
    "            closest_point = matched_mean_point\n",
    "            closest_model = matched_model\n",
    "    mx, commonality_match = 0.875, closest_model\n",
    "    for j, row in theft_values_df.iterrows():\n",
    "        veh = row[\"GenModel\"]\n",
    "        val = SequenceMatcher(None, veh, closest_model).ratio()\n",
    "        if veh in closest_model:\n",
    "            val = 1\n",
    "        if val > mx:\n",
    "            mx = val\n",
    "            commonality_match = veh\n",
    "    print(closest_model)\n",
    "    print(commonality_match)\n",
    "    # print(closest_point)\n",
    "    # print(closest_dist)\n",
    "    matched_ratings[model] = int(list(theft_matched_file[theft_matched_file[\"GenModel\"]==closest_model][\"Theft_rating\"])[0]-(commonality[commonality_match]/2))\n",
    "    print(matched_ratings[model])\n",
    "    print()\n",
    "print(matched_ratings)"
   ]
  },
  {
   "cell_type": "code",
   "execution_count": null,
   "id": "725ffc68-9ee1-4a50-a077-8c25ce324794",
   "metadata": {},
   "outputs": [],
   "source": [
    "# Non-manufacturer vehicle imputation\n",
    "remaining_models_without_matched_make = set(remaining_models)-set(remaining_models_with_matched_make)\n",
    "remaining_makes = {}\n",
    "for model in remaining_models_without_matched_make:\n",
    "    for make in theft_matched_file[\"Manufacturer\"]:\n",
    "        make_split = make.split()\n",
    "        model_split = model.split()\n",
    "        x = True\n",
    "        if len(make_split) < len(model_split):\n",
    "            for i in range(len(make_split)):\n",
    "                x &= make_split[i] == model_split[i]\n",
    "            if x:\n",
    "                if make in remaining_makes.keys():\n",
    "                    remaining_makes[make].append(model)\n",
    "                else:\n",
    "                    remaining_makes[make] = [model]\n",
    "print(len(remaining_makes))\n",
    "print(len(remaining_models_without_matched_make))\n",
    "for m in remaining_makes.keys():\n",
    "    remaining_makes[m] = list(set(remaining_makes[m]))\n",
    "mean, std = [], []\n",
    "for factor in distance_factors:\n",
    "    mean.append(theft_matched_file[factor].mean())\n",
    "    std.append(theft_matched_file[factor].std())\n",
    "for make in remaining_makes.keys():\n",
    "    print(\"MAKE PHASE\")\n",
    "    print(make)\n",
    "    closest_make_dist, closest_make = 1000, \"\"\n",
    "    make_df = theft_matched_file[theft_matched_file[\"Manufacturer\"]==make][distance_factors+[\"GenModel\",\"Theft_rating\"]]\n",
    "    for i in range(len(distance_factors)):\n",
    "        make_df[distance_factors[i]] = (make_df[distance_factors[i]]-mean[i])/std[i]\n",
    "    make_mean_point = []\n",
    "    for f in distance_factors:\n",
    "        make_mean_point.append(make_df[f].mean())\n",
    "    print(make_mean_point)\n",
    "    # print(\"Makes:\")\n",
    "    for other_make in matched_manufacturers:\n",
    "        # print(other_make)\n",
    "        other_make_df = theft_matched_file[theft_matched_file[\"Manufacturer\"]==other_make][distance_factors+[\"GenModel\"]]\n",
    "        for i in range(len(distance_factors)):\n",
    "            other_make_df[distance_factors[i]] = (other_make_df[distance_factors[i]]-mean[i])/std[i]\n",
    "        other_make_mean_point = []\n",
    "        for f in distance_factors:\n",
    "            other_make_mean_point.append(other_make_df[f].mean())\n",
    "        # print(other_make_mean_point)\n",
    "        dist = 0\n",
    "        for i in range(len(make_mean_point)):\n",
    "            if not math.isnan(make_mean_point[i]):\n",
    "                dist += math.pow((make_mean_point[i]-other_make_mean_point[i]),2)\n",
    "        dist = math.sqrt(dist)\n",
    "        # print(dist)\n",
    "        if closest_make_dist > dist and dist != 0:\n",
    "            closest_make_dist = dist\n",
    "            closest_make = other_make\n",
    "    print(\"Closest make:\")\n",
    "    print(closest_make)\n",
    "    closest_make_df = theft_matched_file[theft_matched_file[\"Manufacturer\"]==closest_make][distance_factors+[\"GenModel\",\"Theft_rating\"]]\n",
    "    print(\"MODEL PHASE:\")\n",
    "    for model in remaining_makes[make]:\n",
    "        closest_dist, closest_point, closest_model = 1000, [], \"\"\n",
    "        print(model)\n",
    "        new_model_df = theft_matched_file[theft_matched_file[\"GenModel\"]==model][distance_factors]\n",
    "        for i in range(len(distance_factors)):\n",
    "            new_model_df[distance_factors[i]] = (new_model_df[distance_factors[i]]-mean[i])/std[i]\n",
    "        model_mean_point = []\n",
    "        for f in distance_factors:\n",
    "            model_mean_point.append(new_model_df[f].mean())\n",
    "        print(model_mean_point)\n",
    "        matched_model_df = closest_make_df[closest_make_df[\"Theft_rating\"].notna()]\n",
    "        matched_model_list = list(set(matched_model_df[\"GenModel\"]))\n",
    "        for matched_model in matched_model_list:\n",
    "            current_matched_model_df = matched_model_df[matched_model_df[\"GenModel\"]==matched_model]\n",
    "            for i in range(len(distance_factors)):\n",
    "                current_matched_model_df[distance_factors[i]] = (current_matched_model_df[distance_factors[i]]-mean[i])/std[i]\n",
    "            matched_mean_point = []\n",
    "            for f in distance_factors:\n",
    "                matched_mean_point.append(current_matched_model_df[f].mean())\n",
    "            dist = 0\n",
    "            for i in range(len(model_mean_point)):\n",
    "                if not math.isnan(model_mean_point[i]):\n",
    "                    dist += math.pow((model_mean_point[i]-matched_mean_point[i]),2)\n",
    "            dist = math.sqrt(dist)\n",
    "            if closest_dist > dist and dist != 0:\n",
    "                closest_dist = dist\n",
    "                closest_point = matched_mean_point\n",
    "                closest_model = matched_model\n",
    "            mx, commonality_match = 0.875, closest_model\n",
    "        for j, row in theft_values_df.iterrows():\n",
    "            veh = row[\"GenModel\"]\n",
    "            val = SequenceMatcher(None, veh, closest_model).ratio()\n",
    "            if veh in closest_model:\n",
    "                val = 1\n",
    "            if val > mx:\n",
    "                mx = val\n",
    "                commonality_match = veh\n",
    "        print(closest_model)\n",
    "        # print(closest_point)\n",
    "        # print(closest_dist)\n",
    "        matched_ratings[model] = int(list(theft_matched_file[theft_matched_file[\"GenModel\"]==closest_model][\"Theft_rating\"])[0]-commonality[commonality_match])\n",
    "        print(matched_ratings[model])\n",
    "    print()"
   ]
  },
  {
   "cell_type": "code",
   "execution_count": null,
   "id": "b7c6f8e1-3ff0-4e9a-8880-bf9a63881ae6",
   "metadata": {},
   "outputs": [],
   "source": [
    "for k in matched_ratings.keys():\n",
    "    theft_matched_file.loc[theft_matched_file['GenModel'] == k, 'Theft_rating'] = matched_ratings[k]"
   ]
  },
  {
   "cell_type": "code",
   "execution_count": null,
   "id": "23d9a3f7-60d8-4dde-88c4-c34f92cb80c7",
   "metadata": {},
   "outputs": [],
   "source": [
    "for i, row in theft_matched_file.iterrows():\n",
    "    if i % 1000 == 0:\n",
    "        print(i)\n",
    "    if not math.isnan(row[\"Theft_rating\"]) and row[\"Manufacturer\"] not in luxury_makes:\n",
    "        band = manufacturer_band[row[\"Manufacturer\"]]\n",
    "        year = int(row[\"Start_Year_Veh_Generation\"])\n",
    "        shift = 0\n",
    "        abs_dif = abs(year-date_shift[band][0])\n",
    "        if year < date_shift[band][0]:\n",
    "            shift = date_shift[band][1]+(date_shift[band][2][0]*abs_dif)\n",
    "        else:\n",
    "            shift = date_shift[band][1]+(date_shift[band][2][1]*abs_dif)\n",
    "        shift = shift if shift <= 30 else 30\n",
    "        shift = shift if shift > 0 else 0\n",
    "        theft_matched_file.loc[i, \"Theft_rating\"] = row[\"Theft_rating\"]+shift"
   ]
  },
  {
   "cell_type": "code",
   "execution_count": null,
   "id": "6d6df657-0aba-48ca-868d-fe45878fe7f8",
   "metadata": {},
   "outputs": [],
   "source": [
    "for i, row in theft_matched_file.iterrows():\n",
    "    if i % 1000 == 0:\n",
    "        print(i)\n",
    "    theft_matched_file.loc[i, \"Theft_rating\"] = int(row[\"Theft_rating\"]) if row[\"Theft_rating\"]>0 else 1"
   ]
  },
  {
   "cell_type": "code",
   "execution_count": null,
   "id": "0a4807dd-352c-4651-9c87-8259e8d094b1",
   "metadata": {},
   "outputs": [],
   "source": [
    "len(theft_matched_file[\"Theft_rating\"])==len(theft_matched_file[\"Theft_rating\"].dropna())"
   ]
  },
  {
   "cell_type": "code",
   "execution_count": null,
   "id": "0d717aee-ce7c-4fe7-be75-9f17c57c7c15",
   "metadata": {},
   "outputs": [],
   "source": [
    "theft_values = {\"TVI_Code\": [], \"Theft_rating\": []}\n",
    "for i, row in theft_matched_file.iterrows():\n",
    "    theft_values[\"TVI_Code\"].append(row[\"TVI_Code\"])\n",
    "    theft_values[\"Theft_rating\"].append(row[\"Theft_rating\"])"
   ]
  },
  {
   "cell_type": "code",
   "execution_count": null,
   "id": "b3137e06-faa3-4196-83df-8d8029d83142",
   "metadata": {},
   "outputs": [],
   "source": [
    "pd.DataFrame.from_dict(theft_values).to_csv(r\"C:\\Users\\JoshM\\Documents\\Vehicle File\\Rating factors\\factors\\Theft_ratings.csv\")"
   ]
  },
  {
   "cell_type": "markdown",
   "id": "405510fe-fa47-4be0-871a-acb0086585a0",
   "metadata": {
    "tags": []
   },
   "source": [
    "### Data file output"
   ]
  },
  {
   "cell_type": "code",
   "execution_count": null,
   "id": "4a2be3e2-c814-4aae-84be-2338b72f8cd6",
   "metadata": {},
   "outputs": [],
   "source": [
    "output = data_file.merge(pd.DataFrame.from_dict(casualty_values), on=\"TVI_Code\", how=\"left\")\n",
    "output = output.merge(pd.DataFrame.from_dict(accident_values), on=\"TVI_Code\", how=\"left\")\n",
    "output = output.merge(pd.DataFrame.from_dict(theft_values), on=\"TVI_Code\", how=\"left\")\n",
    "output.to_csv(r\"C:\\Users\\JoshM\\Documents\\Vehicle File\\Rating factors\\data\\provisional_ratings.csv\")"
   ]
  }
 ],
 "metadata": {
  "kernelspec": {
   "display_name": "Python 3 (ipykernel)",
   "language": "python",
   "name": "python3"
  },
  "language_info": {
   "codemirror_mode": {
    "name": "ipython",
    "version": 3
   },
   "file_extension": ".py",
   "mimetype": "text/x-python",
   "name": "python",
   "nbconvert_exporter": "python",
   "pygments_lexer": "ipython3",
   "version": "3.10.11"
  }
 },
 "nbformat": 4,
 "nbformat_minor": 5
}
